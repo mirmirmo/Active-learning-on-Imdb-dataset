{
  "nbformat": 4,
  "nbformat_minor": 0,
  "metadata": {
    "colab": {
      "provenance": []
    },
    "kernelspec": {
      "name": "python3",
      "display_name": "Python 3"
    }
  },
  "cells": [
    {
      "cell_type": "markdown",
      "metadata": {
        "id": "_X1NlfcRe39S"
      },
      "source": [
        "## Importing necessary libraries"
      ]
    },
    {
      "cell_type": "code",
      "metadata": {
        "id": "GFH_4cbF7siy"
      },
      "source": [
        "import tensorflow as tf\n",
        "import numpy as np\n",
        "import re, os\n",
        "import matplotlib.pyplot as plt\n",
        "import pandas as pd\n",
        "import sklearn"
      ],
      "execution_count": null,
      "outputs": []
    },
    {
      "cell_type": "markdown",
      "source": [],
      "metadata": {
        "id": "ylcKLW12s3D5"
      }
    },
    {
      "cell_type": "markdown",
      "metadata": {
        "id": "8sNx80-ke9fA"
      },
      "source": [
        "## Getting data from Kaggle"
      ]
    },
    {
      "cell_type": "code",
      "source": [
        "import requests\n",
        "import pandas as pd\n",
        "import tarfile\n",
        "import os\n",
        "\n",
        "# Define the URL for the IMDb sentiment analysis dataset\n",
        "url = \"https://ai.stanford.edu/~amaas/data/sentiment/aclImdb_v1.tar.gz\"\n",
        "dataset_filename = \"aclImdb_v1.tar.gz\"\n",
        "\n",
        "# Specify the download location\n",
        "download_location = \"./data/\"\n",
        "\n",
        "# Create the download directory if it doesn't exist\n",
        "if not os.path.exists(download_location):\n",
        "    os.makedirs(download_location)\n",
        "\n",
        "# Download the dataset\n",
        "response = requests.get(url)\n",
        "with open(download_location + dataset_filename, 'wb') as f:\n",
        "    f.write(response.content)\n",
        "\n",
        "# Extract the downloaded file\n",
        "with tarfile.open(download_location + dataset_filename, 'r:gz') as tar:\n",
        "    tar.extractall(download_location)\n",
        "\n",
        "# Define the path to the extracted dataset\n",
        "dataset_path = download_location + \"aclImdb/\"\n",
        "\n",
        "# Function to load the dataset into a Pandas DataFrame\n",
        "def load_imdb_dataset(data_path):\n",
        "    texts = []\n",
        "    labels = []\n",
        "    for category in ['train', 'test']:\n",
        "        for sentiment in ['pos', 'neg']:\n",
        "            folder_path = os.path.join(data_path, category, sentiment)\n",
        "            for filename in os.listdir(folder_path):\n",
        "                with open(os.path.join(folder_path, filename), 'r', encoding='utf-8') as file:\n",
        "                    text = file.read()\n",
        "                    texts.append(text)\n",
        "                    labels.append(1 if sentiment == 'pos' else 0)\n",
        "    return pd.DataFrame({'text': texts, 'label': labels})\n",
        "\n",
        "# Load the dataset into a Pandas DataFrame\n",
        "imdb_df = load_imdb_dataset(dataset_path)\n",
        "\n",
        "# Display the first few rows of the DataFrame\n",
        "print(imdb_df.head())\n"
      ],
      "metadata": {
        "colab": {
          "base_uri": "https://localhost:8080/"
        },
        "id": "F7_SL8HaKFLB",
        "outputId": "4432a257-9ec2-407d-c64f-49c69351418e"
      },
      "execution_count": null,
      "outputs": [
        {
          "output_type": "stream",
          "name": "stdout",
          "text": [
            "                                                text  label\n",
            "0  I'm intrigued by the strong sense of favour to...      1\n",
            "1  The best film on the battle of San Antonio, Te...      1\n",
            "2  This is how i felt while watching this film. I...      1\n",
            "3  While not as famous as some of their other col...      1\n",
            "4  Unlike many other films, which are disturbing ...      1\n"
          ]
        }
      ]
    },
    {
      "cell_type": "code",
      "source": [
        "len(imdb_df)"
      ],
      "metadata": {
        "colab": {
          "base_uri": "https://localhost:8080/"
        },
        "id": "lTQ8LX0gLhFY",
        "outputId": "e71b3c83-43bf-48ec-b819-3fbcdfcaa8c5"
      },
      "execution_count": null,
      "outputs": [
        {
          "output_type": "execute_result",
          "data": {
            "text/plain": [
              "50000"
            ]
          },
          "metadata": {},
          "execution_count": 3
        }
      ]
    },
    {
      "cell_type": "code",
      "source": [
        "from sklearn.model_selection import train_test_split\n",
        "\n",
        "# Split the dataset into train, test, and validation sets\n",
        "df_train, test_val_df = train_test_split(imdb_df, test_size=10000, random_state=42)\n",
        "df_test, df_val = train_test_split(test_val_df, test_size=0.5, random_state=42)\n",
        "\n",
        "# Display the shapes of the resulting DataFrames\n",
        "print(\"Train set shape:\", df_train.shape)\n",
        "print(\"Test set shape:\", df_test.shape)\n",
        "print(\"Validation set shape:\", df_val.shape)\n"
      ],
      "metadata": {
        "colab": {
          "base_uri": "https://localhost:8080/"
        },
        "id": "LwaBNf43L0zC",
        "outputId": "0b0656f2-af45-41d2-ac74-9f2001727bf8"
      },
      "execution_count": null,
      "outputs": [
        {
          "output_type": "stream",
          "name": "stdout",
          "text": [
            "Train set shape: (40000, 2)\n",
            "Test set shape: (5000, 2)\n",
            "Validation set shape: (5000, 2)\n"
          ]
        }
      ]
    },
    {
      "cell_type": "code",
      "metadata": {
        "id": "xx5lxsvW8D-r",
        "colab": {
          "base_uri": "https://localhost:8080/",
          "height": 206
        },
        "outputId": "0c85b6b9-2d02-4001-a39b-c7649ca6c0cb"
      },
      "source": [
        "df_val.head()"
      ],
      "execution_count": null,
      "outputs": [
        {
          "output_type": "execute_result",
          "data": {
            "text/plain": [
              "                                                    text  label\n",
              "25056  When I started watching 3 of the episodes of t...      1\n",
              "30334  Every time I watch this film, it just really m...      1\n",
              "17962  Oh Dear, Jerry may be the undisputed king of t...      0\n",
              "39588  Very poor quality and the acting is equally as...      0\n",
              "34107  I couldn't stop watching this movie, though it...      1"
            ],
            "text/html": [
              "\n",
              "  <div id=\"df-b3576590-07d8-47ba-9973-3c326160302f\" class=\"colab-df-container\">\n",
              "    <div>\n",
              "<style scoped>\n",
              "    .dataframe tbody tr th:only-of-type {\n",
              "        vertical-align: middle;\n",
              "    }\n",
              "\n",
              "    .dataframe tbody tr th {\n",
              "        vertical-align: top;\n",
              "    }\n",
              "\n",
              "    .dataframe thead th {\n",
              "        text-align: right;\n",
              "    }\n",
              "</style>\n",
              "<table border=\"1\" class=\"dataframe\">\n",
              "  <thead>\n",
              "    <tr style=\"text-align: right;\">\n",
              "      <th></th>\n",
              "      <th>text</th>\n",
              "      <th>label</th>\n",
              "    </tr>\n",
              "  </thead>\n",
              "  <tbody>\n",
              "    <tr>\n",
              "      <th>25056</th>\n",
              "      <td>When I started watching 3 of the episodes of t...</td>\n",
              "      <td>1</td>\n",
              "    </tr>\n",
              "    <tr>\n",
              "      <th>30334</th>\n",
              "      <td>Every time I watch this film, it just really m...</td>\n",
              "      <td>1</td>\n",
              "    </tr>\n",
              "    <tr>\n",
              "      <th>17962</th>\n",
              "      <td>Oh Dear, Jerry may be the undisputed king of t...</td>\n",
              "      <td>0</td>\n",
              "    </tr>\n",
              "    <tr>\n",
              "      <th>39588</th>\n",
              "      <td>Very poor quality and the acting is equally as...</td>\n",
              "      <td>0</td>\n",
              "    </tr>\n",
              "    <tr>\n",
              "      <th>34107</th>\n",
              "      <td>I couldn't stop watching this movie, though it...</td>\n",
              "      <td>1</td>\n",
              "    </tr>\n",
              "  </tbody>\n",
              "</table>\n",
              "</div>\n",
              "    <div class=\"colab-df-buttons\">\n",
              "\n",
              "  <div class=\"colab-df-container\">\n",
              "    <button class=\"colab-df-convert\" onclick=\"convertToInteractive('df-b3576590-07d8-47ba-9973-3c326160302f')\"\n",
              "            title=\"Convert this dataframe to an interactive table.\"\n",
              "            style=\"display:none;\">\n",
              "\n",
              "  <svg xmlns=\"http://www.w3.org/2000/svg\" height=\"24px\" viewBox=\"0 -960 960 960\">\n",
              "    <path d=\"M120-120v-720h720v720H120Zm60-500h600v-160H180v160Zm220 220h160v-160H400v160Zm0 220h160v-160H400v160ZM180-400h160v-160H180v160Zm440 0h160v-160H620v160ZM180-180h160v-160H180v160Zm440 0h160v-160H620v160Z\"/>\n",
              "  </svg>\n",
              "    </button>\n",
              "\n",
              "  <style>\n",
              "    .colab-df-container {\n",
              "      display:flex;\n",
              "      gap: 12px;\n",
              "    }\n",
              "\n",
              "    .colab-df-convert {\n",
              "      background-color: #E8F0FE;\n",
              "      border: none;\n",
              "      border-radius: 50%;\n",
              "      cursor: pointer;\n",
              "      display: none;\n",
              "      fill: #1967D2;\n",
              "      height: 32px;\n",
              "      padding: 0 0 0 0;\n",
              "      width: 32px;\n",
              "    }\n",
              "\n",
              "    .colab-df-convert:hover {\n",
              "      background-color: #E2EBFA;\n",
              "      box-shadow: 0px 1px 2px rgba(60, 64, 67, 0.3), 0px 1px 3px 1px rgba(60, 64, 67, 0.15);\n",
              "      fill: #174EA6;\n",
              "    }\n",
              "\n",
              "    .colab-df-buttons div {\n",
              "      margin-bottom: 4px;\n",
              "    }\n",
              "\n",
              "    [theme=dark] .colab-df-convert {\n",
              "      background-color: #3B4455;\n",
              "      fill: #D2E3FC;\n",
              "    }\n",
              "\n",
              "    [theme=dark] .colab-df-convert:hover {\n",
              "      background-color: #434B5C;\n",
              "      box-shadow: 0px 1px 3px 1px rgba(0, 0, 0, 0.15);\n",
              "      filter: drop-shadow(0px 1px 2px rgba(0, 0, 0, 0.3));\n",
              "      fill: #FFFFFF;\n",
              "    }\n",
              "  </style>\n",
              "\n",
              "    <script>\n",
              "      const buttonEl =\n",
              "        document.querySelector('#df-b3576590-07d8-47ba-9973-3c326160302f button.colab-df-convert');\n",
              "      buttonEl.style.display =\n",
              "        google.colab.kernel.accessAllowed ? 'block' : 'none';\n",
              "\n",
              "      async function convertToInteractive(key) {\n",
              "        const element = document.querySelector('#df-b3576590-07d8-47ba-9973-3c326160302f');\n",
              "        const dataTable =\n",
              "          await google.colab.kernel.invokeFunction('convertToInteractive',\n",
              "                                                    [key], {});\n",
              "        if (!dataTable) return;\n",
              "\n",
              "        const docLinkHtml = 'Like what you see? Visit the ' +\n",
              "          '<a target=\"_blank\" href=https://colab.research.google.com/notebooks/data_table.ipynb>data table notebook</a>'\n",
              "          + ' to learn more about interactive tables.';\n",
              "        element.innerHTML = '';\n",
              "        dataTable['output_type'] = 'display_data';\n",
              "        await google.colab.output.renderOutput(dataTable, element);\n",
              "        const docLink = document.createElement('div');\n",
              "        docLink.innerHTML = docLinkHtml;\n",
              "        element.appendChild(docLink);\n",
              "      }\n",
              "    </script>\n",
              "  </div>\n",
              "\n",
              "\n",
              "<div id=\"df-77e388ad-c666-4772-b9d7-9bf32edacef9\">\n",
              "  <button class=\"colab-df-quickchart\" onclick=\"quickchart('df-77e388ad-c666-4772-b9d7-9bf32edacef9')\"\n",
              "            title=\"Suggest charts\"\n",
              "            style=\"display:none;\">\n",
              "\n",
              "<svg xmlns=\"http://www.w3.org/2000/svg\" height=\"24px\"viewBox=\"0 0 24 24\"\n",
              "     width=\"24px\">\n",
              "    <g>\n",
              "        <path d=\"M19 3H5c-1.1 0-2 .9-2 2v14c0 1.1.9 2 2 2h14c1.1 0 2-.9 2-2V5c0-1.1-.9-2-2-2zM9 17H7v-7h2v7zm4 0h-2V7h2v10zm4 0h-2v-4h2v4z\"/>\n",
              "    </g>\n",
              "</svg>\n",
              "  </button>\n",
              "\n",
              "<style>\n",
              "  .colab-df-quickchart {\n",
              "      --bg-color: #E8F0FE;\n",
              "      --fill-color: #1967D2;\n",
              "      --hover-bg-color: #E2EBFA;\n",
              "      --hover-fill-color: #174EA6;\n",
              "      --disabled-fill-color: #AAA;\n",
              "      --disabled-bg-color: #DDD;\n",
              "  }\n",
              "\n",
              "  [theme=dark] .colab-df-quickchart {\n",
              "      --bg-color: #3B4455;\n",
              "      --fill-color: #D2E3FC;\n",
              "      --hover-bg-color: #434B5C;\n",
              "      --hover-fill-color: #FFFFFF;\n",
              "      --disabled-bg-color: #3B4455;\n",
              "      --disabled-fill-color: #666;\n",
              "  }\n",
              "\n",
              "  .colab-df-quickchart {\n",
              "    background-color: var(--bg-color);\n",
              "    border: none;\n",
              "    border-radius: 50%;\n",
              "    cursor: pointer;\n",
              "    display: none;\n",
              "    fill: var(--fill-color);\n",
              "    height: 32px;\n",
              "    padding: 0;\n",
              "    width: 32px;\n",
              "  }\n",
              "\n",
              "  .colab-df-quickchart:hover {\n",
              "    background-color: var(--hover-bg-color);\n",
              "    box-shadow: 0 1px 2px rgba(60, 64, 67, 0.3), 0 1px 3px 1px rgba(60, 64, 67, 0.15);\n",
              "    fill: var(--button-hover-fill-color);\n",
              "  }\n",
              "\n",
              "  .colab-df-quickchart-complete:disabled,\n",
              "  .colab-df-quickchart-complete:disabled:hover {\n",
              "    background-color: var(--disabled-bg-color);\n",
              "    fill: var(--disabled-fill-color);\n",
              "    box-shadow: none;\n",
              "  }\n",
              "\n",
              "  .colab-df-spinner {\n",
              "    border: 2px solid var(--fill-color);\n",
              "    border-color: transparent;\n",
              "    border-bottom-color: var(--fill-color);\n",
              "    animation:\n",
              "      spin 1s steps(1) infinite;\n",
              "  }\n",
              "\n",
              "  @keyframes spin {\n",
              "    0% {\n",
              "      border-color: transparent;\n",
              "      border-bottom-color: var(--fill-color);\n",
              "      border-left-color: var(--fill-color);\n",
              "    }\n",
              "    20% {\n",
              "      border-color: transparent;\n",
              "      border-left-color: var(--fill-color);\n",
              "      border-top-color: var(--fill-color);\n",
              "    }\n",
              "    30% {\n",
              "      border-color: transparent;\n",
              "      border-left-color: var(--fill-color);\n",
              "      border-top-color: var(--fill-color);\n",
              "      border-right-color: var(--fill-color);\n",
              "    }\n",
              "    40% {\n",
              "      border-color: transparent;\n",
              "      border-right-color: var(--fill-color);\n",
              "      border-top-color: var(--fill-color);\n",
              "    }\n",
              "    60% {\n",
              "      border-color: transparent;\n",
              "      border-right-color: var(--fill-color);\n",
              "    }\n",
              "    80% {\n",
              "      border-color: transparent;\n",
              "      border-right-color: var(--fill-color);\n",
              "      border-bottom-color: var(--fill-color);\n",
              "    }\n",
              "    90% {\n",
              "      border-color: transparent;\n",
              "      border-bottom-color: var(--fill-color);\n",
              "    }\n",
              "  }\n",
              "</style>\n",
              "\n",
              "  <script>\n",
              "    async function quickchart(key) {\n",
              "      const quickchartButtonEl =\n",
              "        document.querySelector('#' + key + ' button');\n",
              "      quickchartButtonEl.disabled = true;  // To prevent multiple clicks.\n",
              "      quickchartButtonEl.classList.add('colab-df-spinner');\n",
              "      try {\n",
              "        const charts = await google.colab.kernel.invokeFunction(\n",
              "            'suggestCharts', [key], {});\n",
              "      } catch (error) {\n",
              "        console.error('Error during call to suggestCharts:', error);\n",
              "      }\n",
              "      quickchartButtonEl.classList.remove('colab-df-spinner');\n",
              "      quickchartButtonEl.classList.add('colab-df-quickchart-complete');\n",
              "    }\n",
              "    (() => {\n",
              "      let quickchartButtonEl =\n",
              "        document.querySelector('#df-77e388ad-c666-4772-b9d7-9bf32edacef9 button');\n",
              "      quickchartButtonEl.style.display =\n",
              "        google.colab.kernel.accessAllowed ? 'block' : 'none';\n",
              "    })();\n",
              "  </script>\n",
              "</div>\n",
              "    </div>\n",
              "  </div>\n"
            ]
          },
          "metadata": {},
          "execution_count": 5
        }
      ]
    },
    {
      "cell_type": "code",
      "metadata": {
        "id": "LkyrtMpw8EAy",
        "colab": {
          "base_uri": "https://localhost:8080/",
          "height": 206
        },
        "outputId": "b5a91b9b-f845-406a-aab2-05fe07596371"
      },
      "source": [
        "df_test.head()"
      ],
      "execution_count": null,
      "outputs": [
        {
          "output_type": "execute_result",
          "data": {
            "text/plain": [
              "                                                    text  label\n",
              "47374  \"The Vindicator\" is a weird little Canadian B-...      0\n",
              "48216  The parallels between this film and \"Captain W...      0\n",
              "45929  When all we have anymore is pretty much realit...      0\n",
              "48715  Sorry to say but was disappointed in the film....      0\n",
              "18849  The premise, while not quite ludicrous, WAS de...      0"
            ],
            "text/html": [
              "\n",
              "  <div id=\"df-36a4b5a8-7b45-4370-8aa2-ac6856b6bf96\" class=\"colab-df-container\">\n",
              "    <div>\n",
              "<style scoped>\n",
              "    .dataframe tbody tr th:only-of-type {\n",
              "        vertical-align: middle;\n",
              "    }\n",
              "\n",
              "    .dataframe tbody tr th {\n",
              "        vertical-align: top;\n",
              "    }\n",
              "\n",
              "    .dataframe thead th {\n",
              "        text-align: right;\n",
              "    }\n",
              "</style>\n",
              "<table border=\"1\" class=\"dataframe\">\n",
              "  <thead>\n",
              "    <tr style=\"text-align: right;\">\n",
              "      <th></th>\n",
              "      <th>text</th>\n",
              "      <th>label</th>\n",
              "    </tr>\n",
              "  </thead>\n",
              "  <tbody>\n",
              "    <tr>\n",
              "      <th>47374</th>\n",
              "      <td>\"The Vindicator\" is a weird little Canadian B-...</td>\n",
              "      <td>0</td>\n",
              "    </tr>\n",
              "    <tr>\n",
              "      <th>48216</th>\n",
              "      <td>The parallels between this film and \"Captain W...</td>\n",
              "      <td>0</td>\n",
              "    </tr>\n",
              "    <tr>\n",
              "      <th>45929</th>\n",
              "      <td>When all we have anymore is pretty much realit...</td>\n",
              "      <td>0</td>\n",
              "    </tr>\n",
              "    <tr>\n",
              "      <th>48715</th>\n",
              "      <td>Sorry to say but was disappointed in the film....</td>\n",
              "      <td>0</td>\n",
              "    </tr>\n",
              "    <tr>\n",
              "      <th>18849</th>\n",
              "      <td>The premise, while not quite ludicrous, WAS de...</td>\n",
              "      <td>0</td>\n",
              "    </tr>\n",
              "  </tbody>\n",
              "</table>\n",
              "</div>\n",
              "    <div class=\"colab-df-buttons\">\n",
              "\n",
              "  <div class=\"colab-df-container\">\n",
              "    <button class=\"colab-df-convert\" onclick=\"convertToInteractive('df-36a4b5a8-7b45-4370-8aa2-ac6856b6bf96')\"\n",
              "            title=\"Convert this dataframe to an interactive table.\"\n",
              "            style=\"display:none;\">\n",
              "\n",
              "  <svg xmlns=\"http://www.w3.org/2000/svg\" height=\"24px\" viewBox=\"0 -960 960 960\">\n",
              "    <path d=\"M120-120v-720h720v720H120Zm60-500h600v-160H180v160Zm220 220h160v-160H400v160Zm0 220h160v-160H400v160ZM180-400h160v-160H180v160Zm440 0h160v-160H620v160ZM180-180h160v-160H180v160Zm440 0h160v-160H620v160Z\"/>\n",
              "  </svg>\n",
              "    </button>\n",
              "\n",
              "  <style>\n",
              "    .colab-df-container {\n",
              "      display:flex;\n",
              "      gap: 12px;\n",
              "    }\n",
              "\n",
              "    .colab-df-convert {\n",
              "      background-color: #E8F0FE;\n",
              "      border: none;\n",
              "      border-radius: 50%;\n",
              "      cursor: pointer;\n",
              "      display: none;\n",
              "      fill: #1967D2;\n",
              "      height: 32px;\n",
              "      padding: 0 0 0 0;\n",
              "      width: 32px;\n",
              "    }\n",
              "\n",
              "    .colab-df-convert:hover {\n",
              "      background-color: #E2EBFA;\n",
              "      box-shadow: 0px 1px 2px rgba(60, 64, 67, 0.3), 0px 1px 3px 1px rgba(60, 64, 67, 0.15);\n",
              "      fill: #174EA6;\n",
              "    }\n",
              "\n",
              "    .colab-df-buttons div {\n",
              "      margin-bottom: 4px;\n",
              "    }\n",
              "\n",
              "    [theme=dark] .colab-df-convert {\n",
              "      background-color: #3B4455;\n",
              "      fill: #D2E3FC;\n",
              "    }\n",
              "\n",
              "    [theme=dark] .colab-df-convert:hover {\n",
              "      background-color: #434B5C;\n",
              "      box-shadow: 0px 1px 3px 1px rgba(0, 0, 0, 0.15);\n",
              "      filter: drop-shadow(0px 1px 2px rgba(0, 0, 0, 0.3));\n",
              "      fill: #FFFFFF;\n",
              "    }\n",
              "  </style>\n",
              "\n",
              "    <script>\n",
              "      const buttonEl =\n",
              "        document.querySelector('#df-36a4b5a8-7b45-4370-8aa2-ac6856b6bf96 button.colab-df-convert');\n",
              "      buttonEl.style.display =\n",
              "        google.colab.kernel.accessAllowed ? 'block' : 'none';\n",
              "\n",
              "      async function convertToInteractive(key) {\n",
              "        const element = document.querySelector('#df-36a4b5a8-7b45-4370-8aa2-ac6856b6bf96');\n",
              "        const dataTable =\n",
              "          await google.colab.kernel.invokeFunction('convertToInteractive',\n",
              "                                                    [key], {});\n",
              "        if (!dataTable) return;\n",
              "\n",
              "        const docLinkHtml = 'Like what you see? Visit the ' +\n",
              "          '<a target=\"_blank\" href=https://colab.research.google.com/notebooks/data_table.ipynb>data table notebook</a>'\n",
              "          + ' to learn more about interactive tables.';\n",
              "        element.innerHTML = '';\n",
              "        dataTable['output_type'] = 'display_data';\n",
              "        await google.colab.output.renderOutput(dataTable, element);\n",
              "        const docLink = document.createElement('div');\n",
              "        docLink.innerHTML = docLinkHtml;\n",
              "        element.appendChild(docLink);\n",
              "      }\n",
              "    </script>\n",
              "  </div>\n",
              "\n",
              "\n",
              "<div id=\"df-f1d8b243-2aaf-4012-8e8a-fce33f8898c1\">\n",
              "  <button class=\"colab-df-quickchart\" onclick=\"quickchart('df-f1d8b243-2aaf-4012-8e8a-fce33f8898c1')\"\n",
              "            title=\"Suggest charts\"\n",
              "            style=\"display:none;\">\n",
              "\n",
              "<svg xmlns=\"http://www.w3.org/2000/svg\" height=\"24px\"viewBox=\"0 0 24 24\"\n",
              "     width=\"24px\">\n",
              "    <g>\n",
              "        <path d=\"M19 3H5c-1.1 0-2 .9-2 2v14c0 1.1.9 2 2 2h14c1.1 0 2-.9 2-2V5c0-1.1-.9-2-2-2zM9 17H7v-7h2v7zm4 0h-2V7h2v10zm4 0h-2v-4h2v4z\"/>\n",
              "    </g>\n",
              "</svg>\n",
              "  </button>\n",
              "\n",
              "<style>\n",
              "  .colab-df-quickchart {\n",
              "      --bg-color: #E8F0FE;\n",
              "      --fill-color: #1967D2;\n",
              "      --hover-bg-color: #E2EBFA;\n",
              "      --hover-fill-color: #174EA6;\n",
              "      --disabled-fill-color: #AAA;\n",
              "      --disabled-bg-color: #DDD;\n",
              "  }\n",
              "\n",
              "  [theme=dark] .colab-df-quickchart {\n",
              "      --bg-color: #3B4455;\n",
              "      --fill-color: #D2E3FC;\n",
              "      --hover-bg-color: #434B5C;\n",
              "      --hover-fill-color: #FFFFFF;\n",
              "      --disabled-bg-color: #3B4455;\n",
              "      --disabled-fill-color: #666;\n",
              "  }\n",
              "\n",
              "  .colab-df-quickchart {\n",
              "    background-color: var(--bg-color);\n",
              "    border: none;\n",
              "    border-radius: 50%;\n",
              "    cursor: pointer;\n",
              "    display: none;\n",
              "    fill: var(--fill-color);\n",
              "    height: 32px;\n",
              "    padding: 0;\n",
              "    width: 32px;\n",
              "  }\n",
              "\n",
              "  .colab-df-quickchart:hover {\n",
              "    background-color: var(--hover-bg-color);\n",
              "    box-shadow: 0 1px 2px rgba(60, 64, 67, 0.3), 0 1px 3px 1px rgba(60, 64, 67, 0.15);\n",
              "    fill: var(--button-hover-fill-color);\n",
              "  }\n",
              "\n",
              "  .colab-df-quickchart-complete:disabled,\n",
              "  .colab-df-quickchart-complete:disabled:hover {\n",
              "    background-color: var(--disabled-bg-color);\n",
              "    fill: var(--disabled-fill-color);\n",
              "    box-shadow: none;\n",
              "  }\n",
              "\n",
              "  .colab-df-spinner {\n",
              "    border: 2px solid var(--fill-color);\n",
              "    border-color: transparent;\n",
              "    border-bottom-color: var(--fill-color);\n",
              "    animation:\n",
              "      spin 1s steps(1) infinite;\n",
              "  }\n",
              "\n",
              "  @keyframes spin {\n",
              "    0% {\n",
              "      border-color: transparent;\n",
              "      border-bottom-color: var(--fill-color);\n",
              "      border-left-color: var(--fill-color);\n",
              "    }\n",
              "    20% {\n",
              "      border-color: transparent;\n",
              "      border-left-color: var(--fill-color);\n",
              "      border-top-color: var(--fill-color);\n",
              "    }\n",
              "    30% {\n",
              "      border-color: transparent;\n",
              "      border-left-color: var(--fill-color);\n",
              "      border-top-color: var(--fill-color);\n",
              "      border-right-color: var(--fill-color);\n",
              "    }\n",
              "    40% {\n",
              "      border-color: transparent;\n",
              "      border-right-color: var(--fill-color);\n",
              "      border-top-color: var(--fill-color);\n",
              "    }\n",
              "    60% {\n",
              "      border-color: transparent;\n",
              "      border-right-color: var(--fill-color);\n",
              "    }\n",
              "    80% {\n",
              "      border-color: transparent;\n",
              "      border-right-color: var(--fill-color);\n",
              "      border-bottom-color: var(--fill-color);\n",
              "    }\n",
              "    90% {\n",
              "      border-color: transparent;\n",
              "      border-bottom-color: var(--fill-color);\n",
              "    }\n",
              "  }\n",
              "</style>\n",
              "\n",
              "  <script>\n",
              "    async function quickchart(key) {\n",
              "      const quickchartButtonEl =\n",
              "        document.querySelector('#' + key + ' button');\n",
              "      quickchartButtonEl.disabled = true;  // To prevent multiple clicks.\n",
              "      quickchartButtonEl.classList.add('colab-df-spinner');\n",
              "      try {\n",
              "        const charts = await google.colab.kernel.invokeFunction(\n",
              "            'suggestCharts', [key], {});\n",
              "      } catch (error) {\n",
              "        console.error('Error during call to suggestCharts:', error);\n",
              "      }\n",
              "      quickchartButtonEl.classList.remove('colab-df-spinner');\n",
              "      quickchartButtonEl.classList.add('colab-df-quickchart-complete');\n",
              "    }\n",
              "    (() => {\n",
              "      let quickchartButtonEl =\n",
              "        document.querySelector('#df-f1d8b243-2aaf-4012-8e8a-fce33f8898c1 button');\n",
              "      quickchartButtonEl.style.display =\n",
              "        google.colab.kernel.accessAllowed ? 'block' : 'none';\n",
              "    })();\n",
              "  </script>\n",
              "</div>\n",
              "    </div>\n",
              "  </div>\n"
            ]
          },
          "metadata": {},
          "execution_count": 6
        }
      ]
    },
    {
      "cell_type": "code",
      "metadata": {
        "id": "ybxdiKXs8EDF",
        "colab": {
          "base_uri": "https://localhost:8080/"
        },
        "outputId": "9ee729d0-96e1-426d-a494-53e5b1d72738"
      },
      "source": [
        "df_train['label'].value_counts()"
      ],
      "execution_count": null,
      "outputs": [
        {
          "output_type": "execute_result",
          "data": {
            "text/plain": [
              "0    20055\n",
              "1    19945\n",
              "Name: label, dtype: int64"
            ]
          },
          "metadata": {},
          "execution_count": 7
        }
      ]
    },
    {
      "cell_type": "markdown",
      "metadata": {
        "id": "SrvZUiFSfCOI"
      },
      "source": [
        "## Preprocessing"
      ]
    },
    {
      "cell_type": "code",
      "metadata": {
        "id": "AyqgvNhk8EFg"
      },
      "source": [
        "# Cleaning/Preprocessing Helper function\n",
        "\n",
        "def preprocess(s):\n",
        "  s = re.sub(r'@[a-zA-Z0-9_.]+ ', '', str(s))\n",
        "  s = re.sub(r'#[a-zA-Z0-9_.]+ ', '', str(s))\n",
        "  s = re.sub(r'''[^a-zA-Z0-9?. ]+''', '', s)\n",
        "  s = re.sub(r''''[' ']+''', \" \", s)\n",
        "  s = re.sub(r'(\\w)\\1{2,}',r'\\1',s)\n",
        "  s = s.lower().strip()\n",
        "  return s"
      ],
      "execution_count": null,
      "outputs": []
    },
    {
      "cell_type": "code",
      "metadata": {
        "id": "nFHadewH8EH0"
      },
      "source": [
        "df_train['text'] = df_train['text'].apply(preprocess)\n",
        "df_val['text'] = df_val['text'].apply(preprocess)\n",
        "df_test['text'] = df_test['text'].apply(preprocess)"
      ],
      "execution_count": null,
      "outputs": []
    },
    {
      "cell_type": "code",
      "metadata": {
        "id": "nsIVOk6w8Xcb"
      },
      "source": [
        "def get_data(df):\n",
        "  zeros, ones = df[df['label']==0], df[df['label']==1]\n",
        "  zero_text, zero_labels = zeros['text'].to_numpy(), zeros['label'].to_numpy()\n",
        "  one_text, one_labels = ones['text'].to_numpy(), ones['label'].to_numpy()\n",
        "  X, Y = np.concatenate((one_text,zero_text)), np.concatenate((one_labels,zero_labels))\n",
        "  return X,Y"
      ],
      "execution_count": null,
      "outputs": []
    },
    {
      "cell_type": "code",
      "metadata": {
        "id": "eix08E8V8vKS"
      },
      "source": [
        "X_train,Y_train = get_data(df_train)\n",
        "X_val,Y_val = get_data(df_val)\n",
        "X_test,Y_test = get_data(df_test)"
      ],
      "execution_count": null,
      "outputs": []
    },
    {
      "cell_type": "code",
      "metadata": {
        "id": "fprHzsTEDos1",
        "colab": {
          "base_uri": "https://localhost:8080/"
        },
        "outputId": "14dbc6bd-d753-4a7b-92e3-a30f851b7df2"
      },
      "source": [
        "X_train.shape,X_val.shape,X_test.shape"
      ],
      "execution_count": null,
      "outputs": [
        {
          "output_type": "execute_result",
          "data": {
            "text/plain": [
              "((40000,), (5000,), (5000,))"
            ]
          },
          "metadata": {},
          "execution_count": 12
        }
      ]
    },
    {
      "cell_type": "markdown",
      "metadata": {
        "id": "d1GLyHCgfGZT"
      },
      "source": [
        "## Creating the Model"
      ]
    },
    {
      "cell_type": "code",
      "metadata": {
        "id": "3m0_RiQX8EQc"
      },
      "source": [
        "# Instantiating the Tokenizer and creating sequences\n",
        "tokenizer = tf.keras.preprocessing.text.Tokenizer(3000,oov_token=1)\n",
        "tokenizer.fit_on_texts(X_train)\n",
        "train_seq = tokenizer.texts_to_sequences(X_train)\n",
        "val_seq = tokenizer.texts_to_sequences(X_val)\n",
        "test_seq = tokenizer.texts_to_sequences(X_test)"
      ],
      "execution_count": null,
      "outputs": []
    },
    {
      "cell_type": "code",
      "metadata": {
        "id": "M8JELslv86H8"
      },
      "source": [
        "# Padding all sequences\n",
        "train_seq = tf.keras.preprocessing.sequence.pad_sequences(train_seq,maxlen=50,padding='post')\n",
        "val_seq = tf.keras.preprocessing.sequence.pad_sequences(val_seq,maxlen=50,padding='post')\n",
        "test_seq = tf.keras.preprocessing.sequence.pad_sequences(test_seq,maxlen=50,padding='post')"
      ],
      "execution_count": null,
      "outputs": []
    },
    {
      "cell_type": "markdown",
      "metadata": {
        "id": "bkALbP7xfHuZ"
      },
      "source": [
        "## Creating the Model"
      ]
    },
    {
      "cell_type": "code",
      "metadata": {
        "id": "6qsEZClV86KL"
      },
      "source": [
        "import tensorflow as tf\n",
        "from tensorflow.keras.layers import Embedding, LSTM, Conv1D, MaxPooling1D, Bidirectional, GlobalMaxPooling1D, Dense, Dropout\n",
        "\n",
        "def create_model():\n",
        "    model = tf.keras.models.Sequential()\n",
        "    model.add(Embedding(input_dim=3000, output_dim=128))\n",
        "\n",
        "    # Convolutional layers\n",
        "    model.add(Conv1D(filters=128, kernel_size=3, activation='relu'))\n",
        "    model.add(MaxPooling1D(pool_size=2))\n",
        "\n",
        "    # Bidirectional LSTM layer\n",
        "    model.add(Bidirectional(LSTM(units=64, return_sequences=True)))\n",
        "\n",
        "    # Global Max Pooling layer\n",
        "    model.add(GlobalMaxPooling1D())\n",
        "\n",
        "    # Dense layers\n",
        "    model.add(Dense(units=256, activation='relu'))\n",
        "    model.add(Dropout(0.5))\n",
        "\n",
        "    model.add(Dense(units=128, activation='relu'))\n",
        "    model.add(Dropout(0.5))\n",
        "\n",
        "    model.add(Dense(units=64, activation='relu'))\n",
        "    model.add(Dropout(0.5))\n",
        "\n",
        "    # Output layer\n",
        "    model.add(Dense(units=1, activation='sigmoid'))\n",
        "\n",
        "    model.summary()\n",
        "\n",
        "    # Compile the model\n",
        "    model.compile(optimizer=tf.keras.optimizers.Adam(learning_rate=0.0001),\n",
        "                  loss=tf.keras.losses.BinaryCrossentropy(),\n",
        "                  metrics=['accuracy'])\n",
        "\n",
        "    return model\n"
      ],
      "execution_count": null,
      "outputs": []
    },
    {
      "cell_type": "code",
      "source": [],
      "metadata": {
        "id": "1xm1DbnAQICP"
      },
      "execution_count": null,
      "outputs": []
    },
    {
      "cell_type": "markdown",
      "metadata": {
        "id": "AoXRVjRQfOox"
      },
      "source": [
        "## Full Model Training"
      ]
    },
    {
      "cell_type": "code",
      "metadata": {
        "id": "vkOmfwOl86Mg"
      },
      "source": [
        "# HELPER FUNCTION\n",
        "\n",
        "def plot(history):\n",
        "  plt.plot(history.history['loss'])\n",
        "  plt.plot(history.history['val_loss'])\n",
        "  plt.legend(['train_loss','val_loss'])\n",
        "  plt.xlabel('Epochs')\n",
        "  plt.ylabel('Loss')\n",
        "  plt.show()\n",
        "\n",
        "  plt.plot(history.history['accuracy'])\n",
        "  plt.plot(history.history['val_accuracy'])\n",
        "  plt.legend(['train_accuracy','val_accuracy'])\n",
        "  plt.xlabel('Epochs')\n",
        "  plt.ylabel('Accuracy')\n",
        "  plt.show()"
      ],
      "execution_count": null,
      "outputs": []
    },
    {
      "cell_type": "code",
      "metadata": {
        "id": "42p7IDWb86QE"
      },
      "source": [
        "def train_full_model(train_seq,Y_train,val_seq,Y_val,test_seq,Y_test):\n",
        "  model = create_model()\n",
        "  history = model.fit(train_seq,Y_train,256,15,validation_data=(val_seq,Y_val),callbacks=[tf.keras.callbacks.ModelCheckpoint('FullModelCheckpoint.h5',save_best_only=True,verbose=1),tf.keras.callbacks.EarlyStopping(patience=6,verbose=1)])\n",
        "  plot(history)\n",
        "  model = tf.keras.models.load_model('FullModelCheckpoint.h5')\n",
        "  print(model.evaluate(test_seq,Y_test))\n",
        "  return model"
      ],
      "execution_count": null,
      "outputs": []
    },
    {
      "cell_type": "markdown",
      "metadata": {
        "id": "hgNsFnBMfWTN"
      },
      "source": [
        "## Active Learning"
      ]
    },
    {
      "cell_type": "code",
      "metadata": {
        "id": "KVilRMYA86Op"
      },
      "source": [
        "# HELPER FUNCTIONS\n",
        "\n",
        "def append_history(losses,val_losses,acc,val_acc,history):\n",
        "  losses = losses + history.history['loss']\n",
        "  val_losses = val_losses + history.history['val_loss']\n",
        "  acc = acc + history.history['accuracy']\n",
        "  val_acc = val_acc + history.history['val_accuracy']\n",
        "  return losses,val_losses,acc,val_acc\n",
        "\n",
        "def plot_merged_metrics(losses,val_losses,accuracies,val_accuracies):\n",
        "  plt.plot(losses)\n",
        "  plt.plot(val_losses)\n",
        "  plt.legend(['train_loss','val_loss'])\n",
        "  plt.xlabel('Epochs')\n",
        "  plt.ylabel('Loss')\n",
        "  plt.show()\n",
        "\n",
        "  plt.plot(accuracies)\n",
        "  plt.plot(val_accuracies)\n",
        "  plt.legend(['train_accuracy','val_accuracy'])\n",
        "  plt.xlabel('Epochs')\n",
        "  plt.ylabel('Accuracy')\n",
        "  plt.show()"
      ],
      "execution_count": null,
      "outputs": []
    },
    {
      "cell_type": "code",
      "metadata": {
        "id": "zRpzRhA88ESg"
      },
      "source": [
        "import collections\n",
        "\n",
        "def train_small_models(train_features,train_labels,pool_features,pool_labels,val_seq,Y_val,test_seq,Y_test,iters=3,sampling_size=5000):\n",
        "\n",
        "  losses, val_losses, accuracies, val_accuracies = [], [], [], []\n",
        "\n",
        "  model = create_model()\n",
        "  checkpoint = tf.keras.callbacks.ModelCheckpoint('Checkpoint.h5',save_best_only=True,verbose=1)\n",
        "\n",
        "  print(f\"Starting to train with {train_features.shape[0]} samples\")\n",
        "\n",
        "  history = model.fit(train_features,train_labels,256,15,validation_data=(val_seq,Y_val),callbacks=[checkpoint,tf.keras.callbacks.EarlyStopping(patience=6,verbose=1)])\n",
        "  losses, val_losses, accuracies, val_accuracies = append_history(losses,val_losses,accuracies,val_accuracies,history)\n",
        "  model = tf.keras.models.load_model('Checkpoint.h5')\n",
        "\n",
        "  for iter_n in range(iters):\n",
        "\n",
        "    # Getting predictions from previously trained model\n",
        "    predictions = model.predict(test_seq)\n",
        "    rounded = np.where(predictions>0.5,1,0)\n",
        "\n",
        "    # Count number of ones and zeros incorrectly classified\n",
        "    counter = collections.Counter(Y_test[rounded.squeeze()!=Y_test.squeeze()])\n",
        "\n",
        "    # Find ratio of ones to zeros. If all samples are correctly classified (Major overfitting) then we set the ratio to 0.5\n",
        "    if counter[0]!=0 and counter[1]!=0:\n",
        "      total = counter[0]+counter[1]\n",
        "      sample_ratio = counter[0]/total if counter[0]>counter[1] else counter[1]/total\n",
        "    else:\n",
        "      sample_ratio = 0.5\n",
        "\n",
        "    sample = np.concatenate((np.random.choice(np.where(pool_labels==0)[0],int(sample_ratio*sampling_size), replace=False),\n",
        "                             np.random.choice(np.where(pool_labels==1)[0],int(sampling_size*(1-sample_ratio)), replace=False)))\n",
        "    np.random.shuffle(sample)\n",
        "\n",
        "    # Get new values from pool\n",
        "    update_f = pool_features[sample]\n",
        "    update_l = pool_labels[sample]\n",
        "\n",
        "    # Remove the chosen samples from pool\n",
        "    pool_features = np.delete(pool_features,sample,axis=0)\n",
        "    pool_labels = np.delete(pool_labels,sample)\n",
        "\n",
        "    # Add the sampled entries to the original data\n",
        "    train_features = np.vstack((train_features,update_f))\n",
        "    train_labels = np.hstack((train_labels,update_l))\n",
        "\n",
        "    print(f\"Starting training with {train_features.shape[0]} samples\")\n",
        "\n",
        "    # Retrain the model with inconfident and incorrect predictions only\n",
        "    history = model.fit(train_features,train_labels,validation_data=(val_seq,Y_val),epochs=15,batch_size=256,callbacks=[checkpoint,tf.keras.callbacks.EarlyStopping(patience=6,verbose=1)])\n",
        "\n",
        "    losses, val_losses, accuracies, val_accuracies = append_history(losses,val_losses,accuracies,val_accuracies,history)\n",
        "\n",
        "    model = tf.keras.models.load_model('Checkpoint.h5')\n",
        "    print(model.evaluate(test_seq,Y_test))\n",
        "\n",
        "  plot_merged_metrics(losses,val_losses,accuracies,val_accuracies)\n",
        "\n",
        "  return model"
      ],
      "execution_count": null,
      "outputs": []
    },
    {
      "cell_type": "markdown",
      "metadata": {
        "id": "eceF6yOVfl7O"
      },
      "source": [
        "## Ensembling"
      ]
    },
    {
      "cell_type": "code",
      "metadata": {
        "id": "TzPYhzJ28EUs",
        "colab": {
          "base_uri": "https://localhost:8080/",
          "height": 1000
        },
        "outputId": "b2f4747c-6c6b-4c4a-e1a3-46b5d94f814b"
      },
      "source": [
        "# Training 3 models for ensembling\n",
        "model1 = train_full_model(train_seq,Y_train,val_seq,Y_val,test_seq,Y_test)\n",
        "# model2 = train_full_model(train_seq,Y_train,val_seq,Y_val,test_seq,Y_test)\n",
        "# model3 = train_full_model(train_seq,Y_train,val_seq,Y_val,test_seq,Y_test)"
      ],
      "execution_count": null,
      "outputs": [
        {
          "output_type": "stream",
          "name": "stdout",
          "text": [
            "Model: \"sequential\"\n",
            "_________________________________________________________________\n",
            " Layer (type)                Output Shape              Param #   \n",
            "=================================================================\n",
            " embedding (Embedding)       (None, None, 128)         384000    \n",
            "                                                                 \n",
            " conv1d (Conv1D)             (None, None, 128)         49280     \n",
            "                                                                 \n",
            " max_pooling1d (MaxPooling1  (None, None, 128)         0         \n",
            " D)                                                              \n",
            "                                                                 \n",
            " bidirectional (Bidirection  (None, None, 128)         98816     \n",
            " al)                                                             \n",
            "                                                                 \n",
            " global_max_pooling1d (Glob  (None, 128)               0         \n",
            " alMaxPooling1D)                                                 \n",
            "                                                                 \n",
            " dense (Dense)               (None, 256)               33024     \n",
            "                                                                 \n",
            " dropout (Dropout)           (None, 256)               0         \n",
            "                                                                 \n",
            " dense_1 (Dense)             (None, 128)               32896     \n",
            "                                                                 \n",
            " dropout_1 (Dropout)         (None, 128)               0         \n",
            "                                                                 \n",
            " dense_2 (Dense)             (None, 64)                8256      \n",
            "                                                                 \n",
            " dropout_2 (Dropout)         (None, 64)                0         \n",
            "                                                                 \n",
            " dense_3 (Dense)             (None, 1)                 65        \n",
            "                                                                 \n",
            "=================================================================\n",
            "Total params: 606337 (2.31 MB)\n",
            "Trainable params: 606337 (2.31 MB)\n",
            "Non-trainable params: 0 (0.00 Byte)\n",
            "_________________________________________________________________\n",
            "Epoch 1/15\n",
            "157/157 [==============================] - ETA: 0s - loss: 0.6930 - accuracy: 0.5049\n",
            "Epoch 1: val_loss improved from inf to 0.69274, saving model to FullModelCheckpoint.h5\n",
            "157/157 [==============================] - 53s 294ms/step - loss: 0.6930 - accuracy: 0.5049 - val_loss: 0.6927 - val_accuracy: 0.4964\n",
            "Epoch 2/15\n"
          ]
        },
        {
          "output_type": "stream",
          "name": "stderr",
          "text": [
            "/usr/local/lib/python3.10/dist-packages/keras/src/engine/training.py:3103: UserWarning: You are saving your model as an HDF5 file via `model.save()`. This file format is considered legacy. We recommend using instead the native Keras format, e.g. `model.save('my_model.keras')`.\n",
            "  saving_api.save_model(\n"
          ]
        },
        {
          "output_type": "stream",
          "name": "stdout",
          "text": [
            "157/157 [==============================] - ETA: 0s - loss: 0.6871 - accuracy: 0.5513\n",
            "Epoch 2: val_loss improved from 0.69274 to 0.63736, saving model to FullModelCheckpoint.h5\n",
            "157/157 [==============================] - 43s 277ms/step - loss: 0.6871 - accuracy: 0.5513 - val_loss: 0.6374 - val_accuracy: 0.6914\n",
            "Epoch 3/15\n",
            "157/157 [==============================] - ETA: 0s - loss: 0.4886 - accuracy: 0.7775\n",
            "Epoch 3: val_loss improved from 0.63736 to 0.41018, saving model to FullModelCheckpoint.h5\n",
            "157/157 [==============================] - 43s 276ms/step - loss: 0.4886 - accuracy: 0.7775 - val_loss: 0.4102 - val_accuracy: 0.8166\n",
            "Epoch 4/15\n",
            "157/157 [==============================] - ETA: 0s - loss: 0.3938 - accuracy: 0.8353\n",
            "Epoch 4: val_loss improved from 0.41018 to 0.39918, saving model to FullModelCheckpoint.h5\n",
            "157/157 [==============================] - 43s 269ms/step - loss: 0.3938 - accuracy: 0.8353 - val_loss: 0.3992 - val_accuracy: 0.8184\n",
            "Epoch 5/15\n",
            "157/157 [==============================] - ETA: 0s - loss: 0.3601 - accuracy: 0.8533\n",
            "Epoch 5: val_loss improved from 0.39918 to 0.39073, saving model to FullModelCheckpoint.h5\n",
            "157/157 [==============================] - 45s 284ms/step - loss: 0.3601 - accuracy: 0.8533 - val_loss: 0.3907 - val_accuracy: 0.8240\n",
            "Epoch 6/15\n",
            "157/157 [==============================] - ETA: 0s - loss: 0.3392 - accuracy: 0.8663\n",
            "Epoch 6: val_loss improved from 0.39073 to 0.38978, saving model to FullModelCheckpoint.h5\n",
            "157/157 [==============================] - 43s 276ms/step - loss: 0.3392 - accuracy: 0.8663 - val_loss: 0.3898 - val_accuracy: 0.8276\n",
            "Epoch 7/15\n",
            "157/157 [==============================] - ETA: 0s - loss: 0.3164 - accuracy: 0.8753\n",
            "Epoch 7: val_loss did not improve from 0.38978\n",
            "157/157 [==============================] - 43s 277ms/step - loss: 0.3164 - accuracy: 0.8753 - val_loss: 0.3924 - val_accuracy: 0.8282\n",
            "Epoch 8/15\n",
            "157/157 [==============================] - ETA: 0s - loss: 0.2920 - accuracy: 0.8886\n",
            "Epoch 8: val_loss did not improve from 0.38978\n",
            "157/157 [==============================] - 44s 279ms/step - loss: 0.2920 - accuracy: 0.8886 - val_loss: 0.4162 - val_accuracy: 0.8228\n",
            "Epoch 9/15\n",
            "157/157 [==============================] - ETA: 0s - loss: 0.2559 - accuracy: 0.9063\n",
            "Epoch 9: val_loss did not improve from 0.38978\n",
            "157/157 [==============================] - 59s 378ms/step - loss: 0.2559 - accuracy: 0.9063 - val_loss: 0.4283 - val_accuracy: 0.8268\n",
            "Epoch 10/15\n",
            "157/157 [==============================] - ETA: 0s - loss: 0.2126 - accuracy: 0.9263\n",
            "Epoch 10: val_loss did not improve from 0.38978\n",
            "157/157 [==============================] - 57s 365ms/step - loss: 0.2126 - accuracy: 0.9263 - val_loss: 0.4930 - val_accuracy: 0.8228\n",
            "Epoch 11/15\n",
            "157/157 [==============================] - ETA: 0s - loss: 0.1662 - accuracy: 0.9459\n",
            "Epoch 11: val_loss did not improve from 0.38978\n",
            "157/157 [==============================] - 46s 293ms/step - loss: 0.1662 - accuracy: 0.9459 - val_loss: 0.5073 - val_accuracy: 0.8208\n",
            "Epoch 12/15\n",
            "157/157 [==============================] - ETA: 0s - loss: 0.1264 - accuracy: 0.9606\n",
            "Epoch 12: val_loss did not improve from 0.38978\n",
            "157/157 [==============================] - 44s 281ms/step - loss: 0.1264 - accuracy: 0.9606 - val_loss: 0.5753 - val_accuracy: 0.8194\n",
            "Epoch 12: early stopping\n"
          ]
        },
        {
          "output_type": "display_data",
          "data": {
            "text/plain": [
              "<Figure size 640x480 with 1 Axes>"
            ],
            "image/png": "[encoded data removed]"
          },
          "metadata": {}
        },
        {
          "output_type": "display_data",
          "data": {
            "text/plain": [
              "<Figure size 640x480 with 1 Axes>"
            ],
            "image/png": "[encoded data removed]"
          },
          "metadata": {}
        },
        {
          "output_type": "stream",
          "name": "stdout",
          "text": [
            "157/157 [==============================] - 4s 16ms/step - loss: 0.3857 - accuracy: 0.8268\n",
            "[0.385711669921875, 0.8267999887466431]\n"
          ]
        }
      ]
    }
  ]
}