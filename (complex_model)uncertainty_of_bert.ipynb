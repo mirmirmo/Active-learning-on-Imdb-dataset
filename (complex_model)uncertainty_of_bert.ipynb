{
  "nbformat": 4,
  "nbformat_minor": 0,
  "metadata": {
    "colab": {
      "provenance": [],
      "collapsed_sections": [
        "_X1NlfcRe39S"
      ],
      "gpuType": "T4"
    },
    "kernelspec": {
      "name": "python3",
      "display_name": "Python 3"
    },
    "accelerator": "GPU",
    "widgets": {
      "application/vnd.jupyter.widget-state+json": {
        "b295fecca9784c6aa23ee1564126aa85": {
          "model_module": "@jupyter-widgets/controls",
          "model_name": "HBoxModel",
          "model_module_version": "1.5.0",
          "state": {
            "_dom_classes": [],
            "_model_module": "@jupyter-widgets/controls",
            "_model_module_version": "1.5.0",
            "_model_name": "HBoxModel",
            "_view_count": null,
            "_view_module": "@jupyter-widgets/controls",
            "_view_module_version": "1.5.0",
            "_view_name": "HBoxView",
            "box_style": "",
            "children": [
              "IPY_MODEL_3d801169969c4484a16fc947efc97347",
              "IPY_MODEL_feb7c201b2c340cb83388138587b575e",
              "IPY_MODEL_79e117cac65b42518f360c61a4c36750"
            ],
            "layout": "IPY_MODEL_4a15f246e245452eb030e2657a7421a9"
          }
        },
        "3d801169969c4484a16fc947efc97347": {
          "model_module": "@jupyter-widgets/controls",
          "model_name": "HTMLModel",
          "model_module_version": "1.5.0",
          "state": {
            "_dom_classes": [],
            "_model_module": "@jupyter-widgets/controls",
            "_model_module_version": "1.5.0",
            "_model_name": "HTMLModel",
            "_view_count": null,
            "_view_module": "@jupyter-widgets/controls",
            "_view_module_version": "1.5.0",
            "_view_name": "HTMLView",
            "description": "",
            "description_tooltip": null,
            "layout": "IPY_MODEL_1c77e5b4b1e14c4896d8abe60df73db8",
            "placeholder": "​",
            "style": "IPY_MODEL_fa7c3ba75a7d43ea8d4788ebd5fe5c7c",
            "value": "config.json: 100%"
          }
        },
        "feb7c201b2c340cb83388138587b575e": {
          "model_module": "@jupyter-widgets/controls",
          "model_name": "FloatProgressModel",
          "model_module_version": "1.5.0",
          "state": {
            "_dom_classes": [],
            "_model_module": "@jupyter-widgets/controls",
            "_model_module_version": "1.5.0",
            "_model_name": "FloatProgressModel",
            "_view_count": null,
            "_view_module": "@jupyter-widgets/controls",
            "_view_module_version": "1.5.0",
            "_view_name": "ProgressView",
            "bar_style": "success",
            "description": "",
            "description_tooltip": null,
            "layout": "IPY_MODEL_f4c8d4f293314abb8a18a1939ea2df69",
            "max": 570,
            "min": 0,
            "orientation": "horizontal",
            "style": "IPY_MODEL_56b0fb2ca7c340d9aed24c6fba6c208d",
            "value": 570
          }
        },
        "79e117cac65b42518f360c61a4c36750": {
          "model_module": "@jupyter-widgets/controls",
          "model_name": "HTMLModel",
          "model_module_version": "1.5.0",
          "state": {
            "_dom_classes": [],
            "_model_module": "@jupyter-widgets/controls",
            "_model_module_version": "1.5.0",
            "_model_name": "HTMLModel",
            "_view_count": null,
            "_view_module": "@jupyter-widgets/controls",
            "_view_module_version": "1.5.0",
            "_view_name": "HTMLView",
            "description": "",
            "description_tooltip": null,
            "layout": "IPY_MODEL_f4f3377c15f74a99b4d3bdca642334a2",
            "placeholder": "​",
            "style": "IPY_MODEL_f8a43ec186d44646a73f1a41b093d7d5",
            "value": " 570/570 [00:00&lt;00:00, 38.1kB/s]"
          }
        },
        "4a15f246e245452eb030e2657a7421a9": {
          "model_module": "@jupyter-widgets/base",
          "model_name": "LayoutModel",
          "model_module_version": "1.2.0",
          "state": {
            "_model_module": "@jupyter-widgets/base",
            "_model_module_version": "1.2.0",
            "_model_name": "LayoutModel",
            "_view_count": null,
            "_view_module": "@jupyter-widgets/base",
            "_view_module_version": "1.2.0",
            "_view_name": "LayoutView",
            "align_content": null,
            "align_items": null,
            "align_self": null,
            "border": null,
            "bottom": null,
            "display": null,
            "flex": null,
            "flex_flow": null,
            "grid_area": null,
            "grid_auto_columns": null,
            "grid_auto_flow": null,
            "grid_auto_rows": null,
            "grid_column": null,
            "grid_gap": null,
            "grid_row": null,
            "grid_template_areas": null,
            "grid_template_columns": null,
            "grid_template_rows": null,
            "height": null,
            "justify_content": null,
            "justify_items": null,
            "left": null,
            "margin": null,
            "max_height": null,
            "max_width": null,
            "min_height": null,
            "min_width": null,
            "object_fit": null,
            "object_position": null,
            "order": null,
            "overflow": null,
            "overflow_x": null,
            "overflow_y": null,
            "padding": null,
            "right": null,
            "top": null,
            "visibility": null,
            "width": null
          }
        },
        "1c77e5b4b1e14c4896d8abe60df73db8": {
          "model_module": "@jupyter-widgets/base",
          "model_name": "LayoutModel",
          "model_module_version": "1.2.0",
          "state": {
            "_model_module": "@jupyter-widgets/base",
            "_model_module_version": "1.2.0",
            "_model_name": "LayoutModel",
            "_view_count": null,
            "_view_module": "@jupyter-widgets/base",
            "_view_module_version": "1.2.0",
            "_view_name": "LayoutView",
            "align_content": null,
            "align_items": null,
            "align_self": null,
            "border": null,
            "bottom": null,
            "display": null,
            "flex": null,
            "flex_flow": null,
            "grid_area": null,
            "grid_auto_columns": null,
            "grid_auto_flow": null,
            "grid_auto_rows": null,
            "grid_column": null,
            "grid_gap": null,
            "grid_row": null,
            "grid_template_areas": null,
            "grid_template_columns": null,
            "grid_template_rows": null,
            "height": null,
            "justify_content": null,
            "justify_items": null,
            "left": null,
            "margin": null,
            "max_height": null,
            "max_width": null,
            "min_height": null,
            "min_width": null,
            "object_fit": null,
            "object_position": null,
            "order": null,
            "overflow": null,
            "overflow_x": null,
            "overflow_y": null,
            "padding": null,
            "right": null,
            "top": null,
            "visibility": null,
            "width": null
          }
        },
        "fa7c3ba75a7d43ea8d4788ebd5fe5c7c": {
          "model_module": "@jupyter-widgets/controls",
          "model_name": "DescriptionStyleModel",
          "model_module_version": "1.5.0",
          "state": {
            "_model_module": "@jupyter-widgets/controls",
            "_model_module_version": "1.5.0",
            "_model_name": "DescriptionStyleModel",
            "_view_count": null,
            "_view_module": "@jupyter-widgets/base",
            "_view_module_version": "1.2.0",
            "_view_name": "StyleView",
            "description_width": ""
          }
        },
        "f4c8d4f293314abb8a18a1939ea2df69": {
          "model_module": "@jupyter-widgets/base",
          "model_name": "LayoutModel",
          "model_module_version": "1.2.0",
          "state": {
            "_model_module": "@jupyter-widgets/base",
            "_model_module_version": "1.2.0",
            "_model_name": "LayoutModel",
            "_view_count": null,
            "_view_module": "@jupyter-widgets/base",
            "_view_module_version": "1.2.0",
            "_view_name": "LayoutView",
            "align_content": null,
            "align_items": null,
            "align_self": null,
            "border": null,
            "bottom": null,
            "display": null,
            "flex": null,
            "flex_flow": null,
            "grid_area": null,
            "grid_auto_columns": null,
            "grid_auto_flow": null,
            "grid_auto_rows": null,
            "grid_column": null,
            "grid_gap": null,
            "grid_row": null,
            "grid_template_areas": null,
            "grid_template_columns": null,
            "grid_template_rows": null,
            "height": null,
            "justify_content": null,
            "justify_items": null,
            "left": null,
            "margin": null,
            "max_height": null,
            "max_width": null,
            "min_height": null,
            "min_width": null,
            "object_fit": null,
            "object_position": null,
            "order": null,
            "overflow": null,
            "overflow_x": null,
            "overflow_y": null,
            "padding": null,
            "right": null,
            "top": null,
            "visibility": null,
            "width": null
          }
        },
        "56b0fb2ca7c340d9aed24c6fba6c208d": {
          "model_module": "@jupyter-widgets/controls",
          "model_name": "ProgressStyleModel",
          "model_module_version": "1.5.0",
          "state": {
            "_model_module": "@jupyter-widgets/controls",
            "_model_module_version": "1.5.0",
            "_model_name": "ProgressStyleModel",
            "_view_count": null,
            "_view_module": "@jupyter-widgets/base",
            "_view_module_version": "1.2.0",
            "_view_name": "StyleView",
            "bar_color": null,
            "description_width": ""
          }
        },
        "f4f3377c15f74a99b4d3bdca642334a2": {
          "model_module": "@jupyter-widgets/base",
          "model_name": "LayoutModel",
          "model_module_version": "1.2.0",
          "state": {
            "_model_module": "@jupyter-widgets/base",
            "_model_module_version": "1.2.0",
            "_model_name": "LayoutModel",
            "_view_count": null,
            "_view_module": "@jupyter-widgets/base",
            "_view_module_version": "1.2.0",
            "_view_name": "LayoutView",
            "align_content": null,
            "align_items": null,
            "align_self": null,
            "border": null,
            "bottom": null,
            "display": null,
            "flex": null,
            "flex_flow": null,
            "grid_area": null,
            "grid_auto_columns": null,
            "grid_auto_flow": null,
            "grid_auto_rows": null,
            "grid_column": null,
            "grid_gap": null,
            "grid_row": null,
            "grid_template_areas": null,
            "grid_template_columns": null,
            "grid_template_rows": null,
            "height": null,
            "justify_content": null,
            "justify_items": null,
            "left": null,
            "margin": null,
            "max_height": null,
            "max_width": null,
            "min_height": null,
            "min_width": null,
            "object_fit": null,
            "object_position": null,
            "order": null,
            "overflow": null,
            "overflow_x": null,
            "overflow_y": null,
            "padding": null,
            "right": null,
            "top": null,
            "visibility": null,
            "width": null
          }
        },
        "f8a43ec186d44646a73f1a41b093d7d5": {
          "model_module": "@jupyter-widgets/controls",
          "model_name": "DescriptionStyleModel",
          "model_module_version": "1.5.0",
          "state": {
            "_model_module": "@jupyter-widgets/controls",
            "_model_module_version": "1.5.0",
            "_model_name": "DescriptionStyleModel",
            "_view_count": null,
            "_view_module": "@jupyter-widgets/base",
            "_view_module_version": "1.2.0",
            "_view_name": "StyleView",
            "description_width": ""
          }
        },
        "ff82f72a2fba4dd69517c0bfc54cdc3d": {
          "model_module": "@jupyter-widgets/controls",
          "model_name": "HBoxModel",
          "model_module_version": "1.5.0",
          "state": {
            "_dom_classes": [],
            "_model_module": "@jupyter-widgets/controls",
            "_model_module_version": "1.5.0",
            "_model_name": "HBoxModel",
            "_view_count": null,
            "_view_module": "@jupyter-widgets/controls",
            "_view_module_version": "1.5.0",
            "_view_name": "HBoxView",
            "box_style": "",
            "children": [
              "IPY_MODEL_c9c14090911046889cb360e8907e358f",
              "IPY_MODEL_47d6f94e70ea48c5a6878b8fabf2cdf7",
              "IPY_MODEL_97af48f60371434085c0bb7818d18249"
            ],
            "layout": "IPY_MODEL_16d4a36a9c11477eab3684ba9bad8594"
          }
        },
        "c9c14090911046889cb360e8907e358f": {
          "model_module": "@jupyter-widgets/controls",
          "model_name": "HTMLModel",
          "model_module_version": "1.5.0",
          "state": {
            "_dom_classes": [],
            "_model_module": "@jupyter-widgets/controls",
            "_model_module_version": "1.5.0",
            "_model_name": "HTMLModel",
            "_view_count": null,
            "_view_module": "@jupyter-widgets/controls",
            "_view_module_version": "1.5.0",
            "_view_name": "HTMLView",
            "description": "",
            "description_tooltip": null,
            "layout": "IPY_MODEL_1401569d48484d9c86be95e5ae82b82b",
            "placeholder": "​",
            "style": "IPY_MODEL_c5a9553f5cc4403eba2780b5901602d0",
            "value": "model.safetensors: 100%"
          }
        },
        "47d6f94e70ea48c5a6878b8fabf2cdf7": {
          "model_module": "@jupyter-widgets/controls",
          "model_name": "FloatProgressModel",
          "model_module_version": "1.5.0",
          "state": {
            "_dom_classes": [],
            "_model_module": "@jupyter-widgets/controls",
            "_model_module_version": "1.5.0",
            "_model_name": "FloatProgressModel",
            "_view_count": null,
            "_view_module": "@jupyter-widgets/controls",
            "_view_module_version": "1.5.0",
            "_view_name": "ProgressView",
            "bar_style": "success",
            "description": "",
            "description_tooltip": null,
            "layout": "IPY_MODEL_a6993e53628446e8b409e50eb814de32",
            "max": 440449768,
            "min": 0,
            "orientation": "horizontal",
            "style": "IPY_MODEL_3dfc307933654ab79f651c694daf6f25",
            "value": 440449768
          }
        },
        "97af48f60371434085c0bb7818d18249": {
          "model_module": "@jupyter-widgets/controls",
          "model_name": "HTMLModel",
          "model_module_version": "1.5.0",
          "state": {
            "_dom_classes": [],
            "_model_module": "@jupyter-widgets/controls",
            "_model_module_version": "1.5.0",
            "_model_name": "HTMLModel",
            "_view_count": null,
            "_view_module": "@jupyter-widgets/controls",
            "_view_module_version": "1.5.0",
            "_view_name": "HTMLView",
            "description": "",
            "description_tooltip": null,
            "layout": "IPY_MODEL_590eeb48be154d14a390f972a59063ed",
            "placeholder": "​",
            "style": "IPY_MODEL_41d9651ad0e54921b598a8ac38a18c52",
            "value": " 440M/440M [00:11&lt;00:00, 36.0MB/s]"
          }
        },
        "16d4a36a9c11477eab3684ba9bad8594": {
          "model_module": "@jupyter-widgets/base",
          "model_name": "LayoutModel",
          "model_module_version": "1.2.0",
          "state": {
            "_model_module": "@jupyter-widgets/base",
            "_model_module_version": "1.2.0",
            "_model_name": "LayoutModel",
            "_view_count": null,
            "_view_module": "@jupyter-widgets/base",
            "_view_module_version": "1.2.0",
            "_view_name": "LayoutView",
            "align_content": null,
            "align_items": null,
            "align_self": null,
            "border": null,
            "bottom": null,
            "display": null,
            "flex": null,
            "flex_flow": null,
            "grid_area": null,
            "grid_auto_columns": null,
            "grid_auto_flow": null,
            "grid_auto_rows": null,
            "grid_column": null,
            "grid_gap": null,
            "grid_row": null,
            "grid_template_areas": null,
            "grid_template_columns": null,
            "grid_template_rows": null,
            "height": null,
            "justify_content": null,
            "justify_items": null,
            "left": null,
            "margin": null,
            "max_height": null,
            "max_width": null,
            "min_height": null,
            "min_width": null,
            "object_fit": null,
            "object_position": null,
            "order": null,
            "overflow": null,
            "overflow_x": null,
            "overflow_y": null,
            "padding": null,
            "right": null,
            "top": null,
            "visibility": null,
            "width": null
          }
        },
        "1401569d48484d9c86be95e5ae82b82b": {
          "model_module": "@jupyter-widgets/base",
          "model_name": "LayoutModel",
          "model_module_version": "1.2.0",
          "state": {
            "_model_module": "@jupyter-widgets/base",
            "_model_module_version": "1.2.0",
            "_model_name": "LayoutModel",
            "_view_count": null,
            "_view_module": "@jupyter-widgets/base",
            "_view_module_version": "1.2.0",
            "_view_name": "LayoutView",
            "align_content": null,
            "align_items": null,
            "align_self": null,
            "border": null,
            "bottom": null,
            "display": null,
            "flex": null,
            "flex_flow": null,
            "grid_area": null,
            "grid_auto_columns": null,
            "grid_auto_flow": null,
            "grid_auto_rows": null,
            "grid_column": null,
            "grid_gap": null,
            "grid_row": null,
            "grid_template_areas": null,
            "grid_template_columns": null,
            "grid_template_rows": null,
            "height": null,
            "justify_content": null,
            "justify_items": null,
            "left": null,
            "margin": null,
            "max_height": null,
            "max_width": null,
            "min_height": null,
            "min_width": null,
            "object_fit": null,
            "object_position": null,
            "order": null,
            "overflow": null,
            "overflow_x": null,
            "overflow_y": null,
            "padding": null,
            "right": null,
            "top": null,
            "visibility": null,
            "width": null
          }
        },
        "c5a9553f5cc4403eba2780b5901602d0": {
          "model_module": "@jupyter-widgets/controls",
          "model_name": "DescriptionStyleModel",
          "model_module_version": "1.5.0",
          "state": {
            "_model_module": "@jupyter-widgets/controls",
            "_model_module_version": "1.5.0",
            "_model_name": "DescriptionStyleModel",
            "_view_count": null,
            "_view_module": "@jupyter-widgets/base",
            "_view_module_version": "1.2.0",
            "_view_name": "StyleView",
            "description_width": ""
          }
        },
        "a6993e53628446e8b409e50eb814de32": {
          "model_module": "@jupyter-widgets/base",
          "model_name": "LayoutModel",
          "model_module_version": "1.2.0",
          "state": {
            "_model_module": "@jupyter-widgets/base",
            "_model_module_version": "1.2.0",
            "_model_name": "LayoutModel",
            "_view_count": null,
            "_view_module": "@jupyter-widgets/base",
            "_view_module_version": "1.2.0",
            "_view_name": "LayoutView",
            "align_content": null,
            "align_items": null,
            "align_self": null,
            "border": null,
            "bottom": null,
            "display": null,
            "flex": null,
            "flex_flow": null,
            "grid_area": null,
            "grid_auto_columns": null,
            "grid_auto_flow": null,
            "grid_auto_rows": null,
            "grid_column": null,
            "grid_gap": null,
            "grid_row": null,
            "grid_template_areas": null,
            "grid_template_columns": null,
            "grid_template_rows": null,
            "height": null,
            "justify_content": null,
            "justify_items": null,
            "left": null,
            "margin": null,
            "max_height": null,
            "max_width": null,
            "min_height": null,
            "min_width": null,
            "object_fit": null,
            "object_position": null,
            "order": null,
            "overflow": null,
            "overflow_x": null,
            "overflow_y": null,
            "padding": null,
            "right": null,
            "top": null,
            "visibility": null,
            "width": null
          }
        },
        "3dfc307933654ab79f651c694daf6f25": {
          "model_module": "@jupyter-widgets/controls",
          "model_name": "ProgressStyleModel",
          "model_module_version": "1.5.0",
          "state": {
            "_model_module": "@jupyter-widgets/controls",
            "_model_module_version": "1.5.0",
            "_model_name": "ProgressStyleModel",
            "_view_count": null,
            "_view_module": "@jupyter-widgets/base",
            "_view_module_version": "1.2.0",
            "_view_name": "StyleView",
            "bar_color": null,
            "description_width": ""
          }
        },
        "590eeb48be154d14a390f972a59063ed": {
          "model_module": "@jupyter-widgets/base",
          "model_name": "LayoutModel",
          "model_module_version": "1.2.0",
          "state": {
            "_model_module": "@jupyter-widgets/base",
            "_model_module_version": "1.2.0",
            "_model_name": "LayoutModel",
            "_view_count": null,
            "_view_module": "@jupyter-widgets/base",
            "_view_module_version": "1.2.0",
            "_view_name": "LayoutView",
            "align_content": null,
            "align_items": null,
            "align_self": null,
            "border": null,
            "bottom": null,
            "display": null,
            "flex": null,
            "flex_flow": null,
            "grid_area": null,
            "grid_auto_columns": null,
            "grid_auto_flow": null,
            "grid_auto_rows": null,
            "grid_column": null,
            "grid_gap": null,
            "grid_row": null,
            "grid_template_areas": null,
            "grid_template_columns": null,
            "grid_template_rows": null,
            "height": null,
            "justify_content": null,
            "justify_items": null,
            "left": null,
            "margin": null,
            "max_height": null,
            "max_width": null,
            "min_height": null,
            "min_width": null,
            "object_fit": null,
            "object_position": null,
            "order": null,
            "overflow": null,
            "overflow_x": null,
            "overflow_y": null,
            "padding": null,
            "right": null,
            "top": null,
            "visibility": null,
            "width": null
          }
        },
        "41d9651ad0e54921b598a8ac38a18c52": {
          "model_module": "@jupyter-widgets/controls",
          "model_name": "DescriptionStyleModel",
          "model_module_version": "1.5.0",
          "state": {
            "_model_module": "@jupyter-widgets/controls",
            "_model_module_version": "1.5.0",
            "_model_name": "DescriptionStyleModel",
            "_view_count": null,
            "_view_module": "@jupyter-widgets/base",
            "_view_module_version": "1.2.0",
            "_view_name": "StyleView",
            "description_width": ""
          }
        },
        "24f84c7965e14acebfe93019a6df4e9f": {
          "model_module": "@jupyter-widgets/controls",
          "model_name": "HBoxModel",
          "model_module_version": "1.5.0",
          "state": {
            "_dom_classes": [],
            "_model_module": "@jupyter-widgets/controls",
            "_model_module_version": "1.5.0",
            "_model_name": "HBoxModel",
            "_view_count": null,
            "_view_module": "@jupyter-widgets/controls",
            "_view_module_version": "1.5.0",
            "_view_name": "HBoxView",
            "box_style": "",
            "children": [
              "IPY_MODEL_b67e9469428d4b05bd31fb5ad58a8998",
              "IPY_MODEL_485305c7461742138766e9a3e8d3fd3a",
              "IPY_MODEL_f577f4a6a0324c74bbe57c1fbfea6422"
            ],
            "layout": "IPY_MODEL_c612e2fd893e484eb20605e375814f10"
          }
        },
        "b67e9469428d4b05bd31fb5ad58a8998": {
          "model_module": "@jupyter-widgets/controls",
          "model_name": "HTMLModel",
          "model_module_version": "1.5.0",
          "state": {
            "_dom_classes": [],
            "_model_module": "@jupyter-widgets/controls",
            "_model_module_version": "1.5.0",
            "_model_name": "HTMLModel",
            "_view_count": null,
            "_view_module": "@jupyter-widgets/controls",
            "_view_module_version": "1.5.0",
            "_view_name": "HTMLView",
            "description": "",
            "description_tooltip": null,
            "layout": "IPY_MODEL_3d054863308d44f492e6bd0d4786a23c",
            "placeholder": "​",
            "style": "IPY_MODEL_bedb2ac4bddf40d599ec7be550b18b77",
            "value": "tokenizer_config.json: 100%"
          }
        },
        "485305c7461742138766e9a3e8d3fd3a": {
          "model_module": "@jupyter-widgets/controls",
          "model_name": "FloatProgressModel",
          "model_module_version": "1.5.0",
          "state": {
            "_dom_classes": [],
            "_model_module": "@jupyter-widgets/controls",
            "_model_module_version": "1.5.0",
            "_model_name": "FloatProgressModel",
            "_view_count": null,
            "_view_module": "@jupyter-widgets/controls",
            "_view_module_version": "1.5.0",
            "_view_name": "ProgressView",
            "bar_style": "success",
            "description": "",
            "description_tooltip": null,
            "layout": "IPY_MODEL_f6b50609e2c241768533178e66b42c08",
            "max": 28,
            "min": 0,
            "orientation": "horizontal",
            "style": "IPY_MODEL_5782fca9fbec4b89aab9e0e3a09a078b",
            "value": 28
          }
        },
        "f577f4a6a0324c74bbe57c1fbfea6422": {
          "model_module": "@jupyter-widgets/controls",
          "model_name": "HTMLModel",
          "model_module_version": "1.5.0",
          "state": {
            "_dom_classes": [],
            "_model_module": "@jupyter-widgets/controls",
            "_model_module_version": "1.5.0",
            "_model_name": "HTMLModel",
            "_view_count": null,
            "_view_module": "@jupyter-widgets/controls",
            "_view_module_version": "1.5.0",
            "_view_name": "HTMLView",
            "description": "",
            "description_tooltip": null,
            "layout": "IPY_MODEL_ca7ab628bd1c4cd59d9d453116e9524f",
            "placeholder": "​",
            "style": "IPY_MODEL_a6c7b7bd427c44e79b40dc447e748119",
            "value": " 28.0/28.0 [00:00&lt;00:00, 2.12kB/s]"
          }
        },
        "c612e2fd893e484eb20605e375814f10": {
          "model_module": "@jupyter-widgets/base",
          "model_name": "LayoutModel",
          "model_module_version": "1.2.0",
          "state": {
            "_model_module": "@jupyter-widgets/base",
            "_model_module_version": "1.2.0",
            "_model_name": "LayoutModel",
            "_view_count": null,
            "_view_module": "@jupyter-widgets/base",
            "_view_module_version": "1.2.0",
            "_view_name": "LayoutView",
            "align_content": null,
            "align_items": null,
            "align_self": null,
            "border": null,
            "bottom": null,
            "display": null,
            "flex": null,
            "flex_flow": null,
            "grid_area": null,
            "grid_auto_columns": null,
            "grid_auto_flow": null,
            "grid_auto_rows": null,
            "grid_column": null,
            "grid_gap": null,
            "grid_row": null,
            "grid_template_areas": null,
            "grid_template_columns": null,
            "grid_template_rows": null,
            "height": null,
            "justify_content": null,
            "justify_items": null,
            "left": null,
            "margin": null,
            "max_height": null,
            "max_width": null,
            "min_height": null,
            "min_width": null,
            "object_fit": null,
            "object_position": null,
            "order": null,
            "overflow": null,
            "overflow_x": null,
            "overflow_y": null,
            "padding": null,
            "right": null,
            "top": null,
            "visibility": null,
            "width": null
          }
        },
        "3d054863308d44f492e6bd0d4786a23c": {
          "model_module": "@jupyter-widgets/base",
          "model_name": "LayoutModel",
          "model_module_version": "1.2.0",
          "state": {
            "_model_module": "@jupyter-widgets/base",
            "_model_module_version": "1.2.0",
            "_model_name": "LayoutModel",
            "_view_count": null,
            "_view_module": "@jupyter-widgets/base",
            "_view_module_version": "1.2.0",
            "_view_name": "LayoutView",
            "align_content": null,
            "align_items": null,
            "align_self": null,
            "border": null,
            "bottom": null,
            "display": null,
            "flex": null,
            "flex_flow": null,
            "grid_area": null,
            "grid_auto_columns": null,
            "grid_auto_flow": null,
            "grid_auto_rows": null,
            "grid_column": null,
            "grid_gap": null,
            "grid_row": null,
            "grid_template_areas": null,
            "grid_template_columns": null,
            "grid_template_rows": null,
            "height": null,
            "justify_content": null,
            "justify_items": null,
            "left": null,
            "margin": null,
            "max_height": null,
            "max_width": null,
            "min_height": null,
            "min_width": null,
            "object_fit": null,
            "object_position": null,
            "order": null,
            "overflow": null,
            "overflow_x": null,
            "overflow_y": null,
            "padding": null,
            "right": null,
            "top": null,
            "visibility": null,
            "width": null
          }
        },
        "bedb2ac4bddf40d599ec7be550b18b77": {
          "model_module": "@jupyter-widgets/controls",
          "model_name": "DescriptionStyleModel",
          "model_module_version": "1.5.0",
          "state": {
            "_model_module": "@jupyter-widgets/controls",
            "_model_module_version": "1.5.0",
            "_model_name": "DescriptionStyleModel",
            "_view_count": null,
            "_view_module": "@jupyter-widgets/base",
            "_view_module_version": "1.2.0",
            "_view_name": "StyleView",
            "description_width": ""
          }
        },
        "f6b50609e2c241768533178e66b42c08": {
          "model_module": "@jupyter-widgets/base",
          "model_name": "LayoutModel",
          "model_module_version": "1.2.0",
          "state": {
            "_model_module": "@jupyter-widgets/base",
            "_model_module_version": "1.2.0",
            "_model_name": "LayoutModel",
            "_view_count": null,
            "_view_module": "@jupyter-widgets/base",
            "_view_module_version": "1.2.0",
            "_view_name": "LayoutView",
            "align_content": null,
            "align_items": null,
            "align_self": null,
            "border": null,
            "bottom": null,
            "display": null,
            "flex": null,
            "flex_flow": null,
            "grid_area": null,
            "grid_auto_columns": null,
            "grid_auto_flow": null,
            "grid_auto_rows": null,
            "grid_column": null,
            "grid_gap": null,
            "grid_row": null,
            "grid_template_areas": null,
            "grid_template_columns": null,
            "grid_template_rows": null,
            "height": null,
            "justify_content": null,
            "justify_items": null,
            "left": null,
            "margin": null,
            "max_height": null,
            "max_width": null,
            "min_height": null,
            "min_width": null,
            "object_fit": null,
            "object_position": null,
            "order": null,
            "overflow": null,
            "overflow_x": null,
            "overflow_y": null,
            "padding": null,
            "right": null,
            "top": null,
            "visibility": null,
            "width": null
          }
        },
        "5782fca9fbec4b89aab9e0e3a09a078b": {
          "model_module": "@jupyter-widgets/controls",
          "model_name": "ProgressStyleModel",
          "model_module_version": "1.5.0",
          "state": {
            "_model_module": "@jupyter-widgets/controls",
            "_model_module_version": "1.5.0",
            "_model_name": "ProgressStyleModel",
            "_view_count": null,
            "_view_module": "@jupyter-widgets/base",
            "_view_module_version": "1.2.0",
            "_view_name": "StyleView",
            "bar_color": null,
            "description_width": ""
          }
        },
        "ca7ab628bd1c4cd59d9d453116e9524f": {
          "model_module": "@jupyter-widgets/base",
          "model_name": "LayoutModel",
          "model_module_version": "1.2.0",
          "state": {
            "_model_module": "@jupyter-widgets/base",
            "_model_module_version": "1.2.0",
            "_model_name": "LayoutModel",
            "_view_count": null,
            "_view_module": "@jupyter-widgets/base",
            "_view_module_version": "1.2.0",
            "_view_name": "LayoutView",
            "align_content": null,
            "align_items": null,
            "align_self": null,
            "border": null,
            "bottom": null,
            "display": null,
            "flex": null,
            "flex_flow": null,
            "grid_area": null,
            "grid_auto_columns": null,
            "grid_auto_flow": null,
            "grid_auto_rows": null,
            "grid_column": null,
            "grid_gap": null,
            "grid_row": null,
            "grid_template_areas": null,
            "grid_template_columns": null,
            "grid_template_rows": null,
            "height": null,
            "justify_content": null,
            "justify_items": null,
            "left": null,
            "margin": null,
            "max_height": null,
            "max_width": null,
            "min_height": null,
            "min_width": null,
            "object_fit": null,
            "object_position": null,
            "order": null,
            "overflow": null,
            "overflow_x": null,
            "overflow_y": null,
            "padding": null,
            "right": null,
            "top": null,
            "visibility": null,
            "width": null
          }
        },
        "a6c7b7bd427c44e79b40dc447e748119": {
          "model_module": "@jupyter-widgets/controls",
          "model_name": "DescriptionStyleModel",
          "model_module_version": "1.5.0",
          "state": {
            "_model_module": "@jupyter-widgets/controls",
            "_model_module_version": "1.5.0",
            "_model_name": "DescriptionStyleModel",
            "_view_count": null,
            "_view_module": "@jupyter-widgets/base",
            "_view_module_version": "1.2.0",
            "_view_name": "StyleView",
            "description_width": ""
          }
        },
        "5d44dcb173524f5991b4640cfa526551": {
          "model_module": "@jupyter-widgets/controls",
          "model_name": "HBoxModel",
          "model_module_version": "1.5.0",
          "state": {
            "_dom_classes": [],
            "_model_module": "@jupyter-widgets/controls",
            "_model_module_version": "1.5.0",
            "_model_name": "HBoxModel",
            "_view_count": null,
            "_view_module": "@jupyter-widgets/controls",
            "_view_module_version": "1.5.0",
            "_view_name": "HBoxView",
            "box_style": "",
            "children": [
              "IPY_MODEL_f6a06a045e1e4178ae12c5af5c7e3ea2",
              "IPY_MODEL_94a83ad26e3045fb9757cb21787d8d26",
              "IPY_MODEL_568765daead246cd83fae3ab66d23d51"
            ],
            "layout": "IPY_MODEL_ba3b064f94574ee693b9dcda913e0825"
          }
        },
        "f6a06a045e1e4178ae12c5af5c7e3ea2": {
          "model_module": "@jupyter-widgets/controls",
          "model_name": "HTMLModel",
          "model_module_version": "1.5.0",
          "state": {
            "_dom_classes": [],
            "_model_module": "@jupyter-widgets/controls",
            "_model_module_version": "1.5.0",
            "_model_name": "HTMLModel",
            "_view_count": null,
            "_view_module": "@jupyter-widgets/controls",
            "_view_module_version": "1.5.0",
            "_view_name": "HTMLView",
            "description": "",
            "description_tooltip": null,
            "layout": "IPY_MODEL_dad8218ba16a4e7996f3b909691bc71b",
            "placeholder": "​",
            "style": "IPY_MODEL_27a2107af660488ea2848be2668d0b2d",
            "value": "vocab.txt: 100%"
          }
        },
        "94a83ad26e3045fb9757cb21787d8d26": {
          "model_module": "@jupyter-widgets/controls",
          "model_name": "FloatProgressModel",
          "model_module_version": "1.5.0",
          "state": {
            "_dom_classes": [],
            "_model_module": "@jupyter-widgets/controls",
            "_model_module_version": "1.5.0",
            "_model_name": "FloatProgressModel",
            "_view_count": null,
            "_view_module": "@jupyter-widgets/controls",
            "_view_module_version": "1.5.0",
            "_view_name": "ProgressView",
            "bar_style": "success",
            "description": "",
            "description_tooltip": null,
            "layout": "IPY_MODEL_50d76287ca2549f193b8b35d1b71bebd",
            "max": 231508,
            "min": 0,
            "orientation": "horizontal",
            "style": "IPY_MODEL_84d2674d36424c088d69fc90a673c2da",
            "value": 231508
          }
        },
        "568765daead246cd83fae3ab66d23d51": {
          "model_module": "@jupyter-widgets/controls",
          "model_name": "HTMLModel",
          "model_module_version": "1.5.0",
          "state": {
            "_dom_classes": [],
            "_model_module": "@jupyter-widgets/controls",
            "_model_module_version": "1.5.0",
            "_model_name": "HTMLModel",
            "_view_count": null,
            "_view_module": "@jupyter-widgets/controls",
            "_view_module_version": "1.5.0",
            "_view_name": "HTMLView",
            "description": "",
            "description_tooltip": null,
            "layout": "IPY_MODEL_99c438ca21a0495199bebd033c50ce9c",
            "placeholder": "​",
            "style": "IPY_MODEL_9d08df48aedc4aaeacf08c7d2dbfa836",
            "value": " 232k/232k [00:00&lt;00:00, 3.26MB/s]"
          }
        },
        "ba3b064f94574ee693b9dcda913e0825": {
          "model_module": "@jupyter-widgets/base",
          "model_name": "LayoutModel",
          "model_module_version": "1.2.0",
          "state": {
            "_model_module": "@jupyter-widgets/base",
            "_model_module_version": "1.2.0",
            "_model_name": "LayoutModel",
            "_view_count": null,
            "_view_module": "@jupyter-widgets/base",
            "_view_module_version": "1.2.0",
            "_view_name": "LayoutView",
            "align_content": null,
            "align_items": null,
            "align_self": null,
            "border": null,
            "bottom": null,
            "display": null,
            "flex": null,
            "flex_flow": null,
            "grid_area": null,
            "grid_auto_columns": null,
            "grid_auto_flow": null,
            "grid_auto_rows": null,
            "grid_column": null,
            "grid_gap": null,
            "grid_row": null,
            "grid_template_areas": null,
            "grid_template_columns": null,
            "grid_template_rows": null,
            "height": null,
            "justify_content": null,
            "justify_items": null,
            "left": null,
            "margin": null,
            "max_height": null,
            "max_width": null,
            "min_height": null,
            "min_width": null,
            "object_fit": null,
            "object_position": null,
            "order": null,
            "overflow": null,
            "overflow_x": null,
            "overflow_y": null,
            "padding": null,
            "right": null,
            "top": null,
            "visibility": null,
            "width": null
          }
        },
        "dad8218ba16a4e7996f3b909691bc71b": {
          "model_module": "@jupyter-widgets/base",
          "model_name": "LayoutModel",
          "model_module_version": "1.2.0",
          "state": {
            "_model_module": "@jupyter-widgets/base",
            "_model_module_version": "1.2.0",
            "_model_name": "LayoutModel",
            "_view_count": null,
            "_view_module": "@jupyter-widgets/base",
            "_view_module_version": "1.2.0",
            "_view_name": "LayoutView",
            "align_content": null,
            "align_items": null,
            "align_self": null,
            "border": null,
            "bottom": null,
            "display": null,
            "flex": null,
            "flex_flow": null,
            "grid_area": null,
            "grid_auto_columns": null,
            "grid_auto_flow": null,
            "grid_auto_rows": null,
            "grid_column": null,
            "grid_gap": null,
            "grid_row": null,
            "grid_template_areas": null,
            "grid_template_columns": null,
            "grid_template_rows": null,
            "height": null,
            "justify_content": null,
            "justify_items": null,
            "left": null,
            "margin": null,
            "max_height": null,
            "max_width": null,
            "min_height": null,
            "min_width": null,
            "object_fit": null,
            "object_position": null,
            "order": null,
            "overflow": null,
            "overflow_x": null,
            "overflow_y": null,
            "padding": null,
            "right": null,
            "top": null,
            "visibility": null,
            "width": null
          }
        },
        "27a2107af660488ea2848be2668d0b2d": {
          "model_module": "@jupyter-widgets/controls",
          "model_name": "DescriptionStyleModel",
          "model_module_version": "1.5.0",
          "state": {
            "_model_module": "@jupyter-widgets/controls",
            "_model_module_version": "1.5.0",
            "_model_name": "DescriptionStyleModel",
            "_view_count": null,
            "_view_module": "@jupyter-widgets/base",
            "_view_module_version": "1.2.0",
            "_view_name": "StyleView",
            "description_width": ""
          }
        },
        "50d76287ca2549f193b8b35d1b71bebd": {
          "model_module": "@jupyter-widgets/base",
          "model_name": "LayoutModel",
          "model_module_version": "1.2.0",
          "state": {
            "_model_module": "@jupyter-widgets/base",
            "_model_module_version": "1.2.0",
            "_model_name": "LayoutModel",
            "_view_count": null,
            "_view_module": "@jupyter-widgets/base",
            "_view_module_version": "1.2.0",
            "_view_name": "LayoutView",
            "align_content": null,
            "align_items": null,
            "align_self": null,
            "border": null,
            "bottom": null,
            "display": null,
            "flex": null,
            "flex_flow": null,
            "grid_area": null,
            "grid_auto_columns": null,
            "grid_auto_flow": null,
            "grid_auto_rows": null,
            "grid_column": null,
            "grid_gap": null,
            "grid_row": null,
            "grid_template_areas": null,
            "grid_template_columns": null,
            "grid_template_rows": null,
            "height": null,
            "justify_content": null,
            "justify_items": null,
            "left": null,
            "margin": null,
            "max_height": null,
            "max_width": null,
            "min_height": null,
            "min_width": null,
            "object_fit": null,
            "object_position": null,
            "order": null,
            "overflow": null,
            "overflow_x": null,
            "overflow_y": null,
            "padding": null,
            "right": null,
            "top": null,
            "visibility": null,
            "width": null
          }
        },
        "84d2674d36424c088d69fc90a673c2da": {
          "model_module": "@jupyter-widgets/controls",
          "model_name": "ProgressStyleModel",
          "model_module_version": "1.5.0",
          "state": {
            "_model_module": "@jupyter-widgets/controls",
            "_model_module_version": "1.5.0",
            "_model_name": "ProgressStyleModel",
            "_view_count": null,
            "_view_module": "@jupyter-widgets/base",
            "_view_module_version": "1.2.0",
            "_view_name": "StyleView",
            "bar_color": null,
            "description_width": ""
          }
        },
        "99c438ca21a0495199bebd033c50ce9c": {
          "model_module": "@jupyter-widgets/base",
          "model_name": "LayoutModel",
          "model_module_version": "1.2.0",
          "state": {
            "_model_module": "@jupyter-widgets/base",
            "_model_module_version": "1.2.0",
            "_model_name": "LayoutModel",
            "_view_count": null,
            "_view_module": "@jupyter-widgets/base",
            "_view_module_version": "1.2.0",
            "_view_name": "LayoutView",
            "align_content": null,
            "align_items": null,
            "align_self": null,
            "border": null,
            "bottom": null,
            "display": null,
            "flex": null,
            "flex_flow": null,
            "grid_area": null,
            "grid_auto_columns": null,
            "grid_auto_flow": null,
            "grid_auto_rows": null,
            "grid_column": null,
            "grid_gap": null,
            "grid_row": null,
            "grid_template_areas": null,
            "grid_template_columns": null,
            "grid_template_rows": null,
            "height": null,
            "justify_content": null,
            "justify_items": null,
            "left": null,
            "margin": null,
            "max_height": null,
            "max_width": null,
            "min_height": null,
            "min_width": null,
            "object_fit": null,
            "object_position": null,
            "order": null,
            "overflow": null,
            "overflow_x": null,
            "overflow_y": null,
            "padding": null,
            "right": null,
            "top": null,
            "visibility": null,
            "width": null
          }
        },
        "9d08df48aedc4aaeacf08c7d2dbfa836": {
          "model_module": "@jupyter-widgets/controls",
          "model_name": "DescriptionStyleModel",
          "model_module_version": "1.5.0",
          "state": {
            "_model_module": "@jupyter-widgets/controls",
            "_model_module_version": "1.5.0",
            "_model_name": "DescriptionStyleModel",
            "_view_count": null,
            "_view_module": "@jupyter-widgets/base",
            "_view_module_version": "1.2.0",
            "_view_name": "StyleView",
            "description_width": ""
          }
        },
        "62486e3af1e9493995cdb41838394647": {
          "model_module": "@jupyter-widgets/controls",
          "model_name": "HBoxModel",
          "model_module_version": "1.5.0",
          "state": {
            "_dom_classes": [],
            "_model_module": "@jupyter-widgets/controls",
            "_model_module_version": "1.5.0",
            "_model_name": "HBoxModel",
            "_view_count": null,
            "_view_module": "@jupyter-widgets/controls",
            "_view_module_version": "1.5.0",
            "_view_name": "HBoxView",
            "box_style": "",
            "children": [
              "IPY_MODEL_fdaa48f97a8245d5aa8c0c1e5a2a2c5c",
              "IPY_MODEL_246893980a9549b683616077631349a8",
              "IPY_MODEL_63a9ffdf4efb4e5da2345581e82c5e22"
            ],
            "layout": "IPY_MODEL_a771f5425a6e4535b3c9594e5eb021cd"
          }
        },
        "fdaa48f97a8245d5aa8c0c1e5a2a2c5c": {
          "model_module": "@jupyter-widgets/controls",
          "model_name": "HTMLModel",
          "model_module_version": "1.5.0",
          "state": {
            "_dom_classes": [],
            "_model_module": "@jupyter-widgets/controls",
            "_model_module_version": "1.5.0",
            "_model_name": "HTMLModel",
            "_view_count": null,
            "_view_module": "@jupyter-widgets/controls",
            "_view_module_version": "1.5.0",
            "_view_name": "HTMLView",
            "description": "",
            "description_tooltip": null,
            "layout": "IPY_MODEL_6a9f4aaf76ff4237a1483f4dba986a45",
            "placeholder": "​",
            "style": "IPY_MODEL_e9eb6d3ffe8f4da6906627e09f74387a",
            "value": "tokenizer.json: 100%"
          }
        },
        "246893980a9549b683616077631349a8": {
          "model_module": "@jupyter-widgets/controls",
          "model_name": "FloatProgressModel",
          "model_module_version": "1.5.0",
          "state": {
            "_dom_classes": [],
            "_model_module": "@jupyter-widgets/controls",
            "_model_module_version": "1.5.0",
            "_model_name": "FloatProgressModel",
            "_view_count": null,
            "_view_module": "@jupyter-widgets/controls",
            "_view_module_version": "1.5.0",
            "_view_name": "ProgressView",
            "bar_style": "success",
            "description": "",
            "description_tooltip": null,
            "layout": "IPY_MODEL_bb3927767a6a489780212e46ac7de72d",
            "max": 466062,
            "min": 0,
            "orientation": "horizontal",
            "style": "IPY_MODEL_ecae53c0b71f4c12a5db1f6ff5acb421",
            "value": 466062
          }
        },
        "63a9ffdf4efb4e5da2345581e82c5e22": {
          "model_module": "@jupyter-widgets/controls",
          "model_name": "HTMLModel",
          "model_module_version": "1.5.0",
          "state": {
            "_dom_classes": [],
            "_model_module": "@jupyter-widgets/controls",
            "_model_module_version": "1.5.0",
            "_model_name": "HTMLModel",
            "_view_count": null,
            "_view_module": "@jupyter-widgets/controls",
            "_view_module_version": "1.5.0",
            "_view_name": "HTMLView",
            "description": "",
            "description_tooltip": null,
            "layout": "IPY_MODEL_1489218e967a43f3a238076237795de6",
            "placeholder": "​",
            "style": "IPY_MODEL_6a31e339203349508c2a679ba2a7b8cd",
            "value": " 466k/466k [00:00&lt;00:00, 4.04MB/s]"
          }
        },
        "a771f5425a6e4535b3c9594e5eb021cd": {
          "model_module": "@jupyter-widgets/base",
          "model_name": "LayoutModel",
          "model_module_version": "1.2.0",
          "state": {
            "_model_module": "@jupyter-widgets/base",
            "_model_module_version": "1.2.0",
            "_model_name": "LayoutModel",
            "_view_count": null,
            "_view_module": "@jupyter-widgets/base",
            "_view_module_version": "1.2.0",
            "_view_name": "LayoutView",
            "align_content": null,
            "align_items": null,
            "align_self": null,
            "border": null,
            "bottom": null,
            "display": null,
            "flex": null,
            "flex_flow": null,
            "grid_area": null,
            "grid_auto_columns": null,
            "grid_auto_flow": null,
            "grid_auto_rows": null,
            "grid_column": null,
            "grid_gap": null,
            "grid_row": null,
            "grid_template_areas": null,
            "grid_template_columns": null,
            "grid_template_rows": null,
            "height": null,
            "justify_content": null,
            "justify_items": null,
            "left": null,
            "margin": null,
            "max_height": null,
            "max_width": null,
            "min_height": null,
            "min_width": null,
            "object_fit": null,
            "object_position": null,
            "order": null,
            "overflow": null,
            "overflow_x": null,
            "overflow_y": null,
            "padding": null,
            "right": null,
            "top": null,
            "visibility": null,
            "width": null
          }
        },
        "6a9f4aaf76ff4237a1483f4dba986a45": {
          "model_module": "@jupyter-widgets/base",
          "model_name": "LayoutModel",
          "model_module_version": "1.2.0",
          "state": {
            "_model_module": "@jupyter-widgets/base",
            "_model_module_version": "1.2.0",
            "_model_name": "LayoutModel",
            "_view_count": null,
            "_view_module": "@jupyter-widgets/base",
            "_view_module_version": "1.2.0",
            "_view_name": "LayoutView",
            "align_content": null,
            "align_items": null,
            "align_self": null,
            "border": null,
            "bottom": null,
            "display": null,
            "flex": null,
            "flex_flow": null,
            "grid_area": null,
            "grid_auto_columns": null,
            "grid_auto_flow": null,
            "grid_auto_rows": null,
            "grid_column": null,
            "grid_gap": null,
            "grid_row": null,
            "grid_template_areas": null,
            "grid_template_columns": null,
            "grid_template_rows": null,
            "height": null,
            "justify_content": null,
            "justify_items": null,
            "left": null,
            "margin": null,
            "max_height": null,
            "max_width": null,
            "min_height": null,
            "min_width": null,
            "object_fit": null,
            "object_position": null,
            "order": null,
            "overflow": null,
            "overflow_x": null,
            "overflow_y": null,
            "padding": null,
            "right": null,
            "top": null,
            "visibility": null,
            "width": null
          }
        },
        "e9eb6d3ffe8f4da6906627e09f74387a": {
          "model_module": "@jupyter-widgets/controls",
          "model_name": "DescriptionStyleModel",
          "model_module_version": "1.5.0",
          "state": {
            "_model_module": "@jupyter-widgets/controls",
            "_model_module_version": "1.5.0",
            "_model_name": "DescriptionStyleModel",
            "_view_count": null,
            "_view_module": "@jupyter-widgets/base",
            "_view_module_version": "1.2.0",
            "_view_name": "StyleView",
            "description_width": ""
          }
        },
        "bb3927767a6a489780212e46ac7de72d": {
          "model_module": "@jupyter-widgets/base",
          "model_name": "LayoutModel",
          "model_module_version": "1.2.0",
          "state": {
            "_model_module": "@jupyter-widgets/base",
            "_model_module_version": "1.2.0",
            "_model_name": "LayoutModel",
            "_view_count": null,
            "_view_module": "@jupyter-widgets/base",
            "_view_module_version": "1.2.0",
            "_view_name": "LayoutView",
            "align_content": null,
            "align_items": null,
            "align_self": null,
            "border": null,
            "bottom": null,
            "display": null,
            "flex": null,
            "flex_flow": null,
            "grid_area": null,
            "grid_auto_columns": null,
            "grid_auto_flow": null,
            "grid_auto_rows": null,
            "grid_column": null,
            "grid_gap": null,
            "grid_row": null,
            "grid_template_areas": null,
            "grid_template_columns": null,
            "grid_template_rows": null,
            "height": null,
            "justify_content": null,
            "justify_items": null,
            "left": null,
            "margin": null,
            "max_height": null,
            "max_width": null,
            "min_height": null,
            "min_width": null,
            "object_fit": null,
            "object_position": null,
            "order": null,
            "overflow": null,
            "overflow_x": null,
            "overflow_y": null,
            "padding": null,
            "right": null,
            "top": null,
            "visibility": null,
            "width": null
          }
        },
        "ecae53c0b71f4c12a5db1f6ff5acb421": {
          "model_module": "@jupyter-widgets/controls",
          "model_name": "ProgressStyleModel",
          "model_module_version": "1.5.0",
          "state": {
            "_model_module": "@jupyter-widgets/controls",
            "_model_module_version": "1.5.0",
            "_model_name": "ProgressStyleModel",
            "_view_count": null,
            "_view_module": "@jupyter-widgets/base",
            "_view_module_version": "1.2.0",
            "_view_name": "StyleView",
            "bar_color": null,
            "description_width": ""
          }
        },
        "1489218e967a43f3a238076237795de6": {
          "model_module": "@jupyter-widgets/base",
          "model_name": "LayoutModel",
          "model_module_version": "1.2.0",
          "state": {
            "_model_module": "@jupyter-widgets/base",
            "_model_module_version": "1.2.0",
            "_model_name": "LayoutModel",
            "_view_count": null,
            "_view_module": "@jupyter-widgets/base",
            "_view_module_version": "1.2.0",
            "_view_name": "LayoutView",
            "align_content": null,
            "align_items": null,
            "align_self": null,
            "border": null,
            "bottom": null,
            "display": null,
            "flex": null,
            "flex_flow": null,
            "grid_area": null,
            "grid_auto_columns": null,
            "grid_auto_flow": null,
            "grid_auto_rows": null,
            "grid_column": null,
            "grid_gap": null,
            "grid_row": null,
            "grid_template_areas": null,
            "grid_template_columns": null,
            "grid_template_rows": null,
            "height": null,
            "justify_content": null,
            "justify_items": null,
            "left": null,
            "margin": null,
            "max_height": null,
            "max_width": null,
            "min_height": null,
            "min_width": null,
            "object_fit": null,
            "object_position": null,
            "order": null,
            "overflow": null,
            "overflow_x": null,
            "overflow_y": null,
            "padding": null,
            "right": null,
            "top": null,
            "visibility": null,
            "width": null
          }
        },
        "6a31e339203349508c2a679ba2a7b8cd": {
          "model_module": "@jupyter-widgets/controls",
          "model_name": "DescriptionStyleModel",
          "model_module_version": "1.5.0",
          "state": {
            "_model_module": "@jupyter-widgets/controls",
            "_model_module_version": "1.5.0",
            "_model_name": "DescriptionStyleModel",
            "_view_count": null,
            "_view_module": "@jupyter-widgets/base",
            "_view_module_version": "1.2.0",
            "_view_name": "StyleView",
            "description_width": ""
          }
        }
      }
    }
  },
  "cells": [
    {
      "cell_type": "markdown",
      "metadata": {
        "id": "_X1NlfcRe39S"
      },
      "source": [
        "## Importing necessary libraries"
      ]
    },
    {
      "cell_type": "code",
      "metadata": {
        "id": "GFH_4cbF7siy"
      },
      "source": [
        "import tensorflow as tf\n",
        "import numpy as np\n",
        "import re, os\n",
        "import matplotlib.pyplot as plt\n",
        "import pandas as pd\n",
        "import sklearn"
      ],
      "execution_count": 1,
      "outputs": []
    },
    {
      "cell_type": "code",
      "source": [
        "import tensorflow as tf\n",
        "import numpy as np\n",
        "import re, os\n",
        "import matplotlib.pyplot as plt\n",
        "import pandas as pd\n",
        "import sklearn\n",
        "\n",
        "import numpy as np # linear algebra\n",
        "import pandas as pd # data processing, CSV file I/O (e.g. pd.read_csv)\n",
        "import tensorflow as tf\n",
        "import sklearn\n",
        "from tqdm import tqdm\n",
        "import requests\n",
        "import pandas as pd\n",
        "import tarfile\n",
        "import os"
      ],
      "metadata": {
        "id": "GMs6jOXlp3F_"
      },
      "execution_count": 2,
      "outputs": []
    },
    {
      "cell_type": "markdown",
      "source": [],
      "metadata": {
        "id": "ylcKLW12s3D5"
      }
    },
    {
      "cell_type": "markdown",
      "source": [
        "#Trining Bert"
      ],
      "metadata": {
        "id": "vUOu6R1pqEBu"
      }
    },
    {
      "cell_type": "code",
      "source": [
        "import requests\n",
        "import pandas as pd\n",
        "import tarfile\n",
        "import os\n",
        "\n",
        "# Define the URL for the IMDb sentiment analysis dataset\n",
        "url = \"https://ai.stanford.edu/~amaas/data/sentiment/aclImdb_v1.tar.gz\"\n",
        "dataset_filename = \"aclImdb_v1.tar.gz\"\n",
        "\n",
        "# Specify the download location\n",
        "download_location = \"./data/\"\n",
        "\n",
        "# Create the download directory if it doesn't exist\n",
        "if not os.path.exists(download_location):\n",
        "    os.makedirs(download_location)\n",
        "\n",
        "# Download the dataset\n",
        "response = requests.get(url)\n",
        "with open(download_location + dataset_filename, 'wb') as f:\n",
        "    f.write(response.content)\n",
        "\n",
        "# Extract the downloaded file\n",
        "with tarfile.open(download_location + dataset_filename, 'r:gz') as tar:\n",
        "    tar.extractall(download_location)\n",
        "\n",
        "# Define the path to the extracted dataset\n",
        "dataset_path = download_location + \"aclImdb/\"\n",
        "\n",
        "# Function to load the dataset into a Pandas DataFrame\n",
        "def load_imdb_dataset(data_path):\n",
        "    texts = []\n",
        "    labels = []\n",
        "    for category in ['train', 'test']:\n",
        "        for sentiment in ['pos', 'neg']:\n",
        "            folder_path = os.path.join(data_path, category, sentiment)\n",
        "            for filename in os.listdir(folder_path):\n",
        "                with open(os.path.join(folder_path, filename), 'r', encoding='utf-8') as file:\n",
        "                    text = file.read()\n",
        "                    texts.append(text)\n",
        "                    labels.append('positive' if sentiment == 'pos' else 'negative')\n",
        "    return pd.DataFrame({'review': texts, 'sentiment': labels})\n",
        "\n",
        "# Load the dataset into a Pandas DataFrame\n",
        "imdb_df = load_imdb_dataset(dataset_path)\n",
        "\n",
        "# Display the first few rows of the DataFrame\n",
        "print(imdb_df.head())\n",
        "df=imdb_df"
      ],
      "metadata": {
        "id": "p3MEztO1qHf3",
        "colab": {
          "base_uri": "https://localhost:8080/"
        },
        "outputId": "36325761-4134-4f60-8dec-d41bb473de3e"
      },
      "execution_count": 3,
      "outputs": [
        {
          "output_type": "stream",
          "name": "stdout",
          "text": [
            "                                              review sentiment\n",
            "0  This game is fun and it has a plot that you co...  positive\n",
            "1  Red Eye is not the kind of movie that's going ...  positive\n",
            "2  I am a huge fan of Simon Pegg and have watched...  positive\n",
            "3  A few summer space campers actually were accid...  positive\n",
            "4  The perfect space fantasy film. a group of kid...  positive\n"
          ]
        }
      ]
    },
    {
      "cell_type": "code",
      "source": [
        "# Loading the BERT Classifier and Tokenizer along with Input module\n",
        "from transformers import BertTokenizer, TFBertForSequenceClassification\n",
        "from transformers import InputExample, InputFeatures\n",
        "\n",
        "Bert_model = TFBertForSequenceClassification.from_pretrained(\"bert-base-uncased\")\n",
        "tokenizer = BertTokenizer.from_pretrained(\"bert-base-uncased\")"
      ],
      "metadata": {
        "id": "rtNsFf4LqHl3",
        "colab": {
          "base_uri": "https://localhost:8080/",
          "height": 380,
          "referenced_widgets": [
            "b295fecca9784c6aa23ee1564126aa85",
            "3d801169969c4484a16fc947efc97347",
            "feb7c201b2c340cb83388138587b575e",
            "79e117cac65b42518f360c61a4c36750",
            "4a15f246e245452eb030e2657a7421a9",
            "1c77e5b4b1e14c4896d8abe60df73db8",
            "fa7c3ba75a7d43ea8d4788ebd5fe5c7c",
            "f4c8d4f293314abb8a18a1939ea2df69",
            "56b0fb2ca7c340d9aed24c6fba6c208d",
            "f4f3377c15f74a99b4d3bdca642334a2",
            "f8a43ec186d44646a73f1a41b093d7d5",
            "ff82f72a2fba4dd69517c0bfc54cdc3d",
            "c9c14090911046889cb360e8907e358f",
            "47d6f94e70ea48c5a6878b8fabf2cdf7",
            "97af48f60371434085c0bb7818d18249",
            "16d4a36a9c11477eab3684ba9bad8594",
            "1401569d48484d9c86be95e5ae82b82b",
            "c5a9553f5cc4403eba2780b5901602d0",
            "a6993e53628446e8b409e50eb814de32",
            "3dfc307933654ab79f651c694daf6f25",
            "590eeb48be154d14a390f972a59063ed",
            "41d9651ad0e54921b598a8ac38a18c52",
            "24f84c7965e14acebfe93019a6df4e9f",
            "b67e9469428d4b05bd31fb5ad58a8998",
            "485305c7461742138766e9a3e8d3fd3a",
            "f577f4a6a0324c74bbe57c1fbfea6422",
            "c612e2fd893e484eb20605e375814f10",
            "3d054863308d44f492e6bd0d4786a23c",
            "bedb2ac4bddf40d599ec7be550b18b77",
            "f6b50609e2c241768533178e66b42c08",
            "5782fca9fbec4b89aab9e0e3a09a078b",
            "ca7ab628bd1c4cd59d9d453116e9524f",
            "a6c7b7bd427c44e79b40dc447e748119",
            "5d44dcb173524f5991b4640cfa526551",
            "f6a06a045e1e4178ae12c5af5c7e3ea2",
            "94a83ad26e3045fb9757cb21787d8d26",
            "568765daead246cd83fae3ab66d23d51",
            "ba3b064f94574ee693b9dcda913e0825",
            "dad8218ba16a4e7996f3b909691bc71b",
            "27a2107af660488ea2848be2668d0b2d",
            "50d76287ca2549f193b8b35d1b71bebd",
            "84d2674d36424c088d69fc90a673c2da",
            "99c438ca21a0495199bebd033c50ce9c",
            "9d08df48aedc4aaeacf08c7d2dbfa836",
            "62486e3af1e9493995cdb41838394647",
            "fdaa48f97a8245d5aa8c0c1e5a2a2c5c",
            "246893980a9549b683616077631349a8",
            "63a9ffdf4efb4e5da2345581e82c5e22",
            "a771f5425a6e4535b3c9594e5eb021cd",
            "6a9f4aaf76ff4237a1483f4dba986a45",
            "e9eb6d3ffe8f4da6906627e09f74387a",
            "bb3927767a6a489780212e46ac7de72d",
            "ecae53c0b71f4c12a5db1f6ff5acb421",
            "1489218e967a43f3a238076237795de6",
            "6a31e339203349508c2a679ba2a7b8cd"
          ]
        },
        "outputId": "e443acb9-14cc-4a75-c281-a55a7859dab6"
      },
      "execution_count": 4,
      "outputs": [
        {
          "output_type": "stream",
          "name": "stderr",
          "text": [
            "/usr/local/lib/python3.10/dist-packages/huggingface_hub/utils/_token.py:88: UserWarning: \n",
            "The secret `HF_TOKEN` does not exist in your Colab secrets.\n",
            "To authenticate with the Hugging Face Hub, create a token in your settings tab (https://huggingface.co/settings/tokens), set it as secret in your Google Colab and restart your session.\n",
            "You will be able to reuse this secret in all of your notebooks.\n",
            "Please note that authentication is recommended but still optional to access public models or datasets.\n",
            "  warnings.warn(\n"
          ]
        },
        {
          "output_type": "display_data",
          "data": {
            "text/plain": [
              "config.json:   0%|          | 0.00/570 [00:00<?, ?B/s]"
            ],
            "application/vnd.jupyter.widget-view+json": {
              "version_major": 2,
              "version_minor": 0,
              "model_id": "b295fecca9784c6aa23ee1564126aa85"
            }
          },
          "metadata": {}
        },
        {
          "output_type": "display_data",
          "data": {
            "text/plain": [
              "model.safetensors:   0%|          | 0.00/440M [00:00<?, ?B/s]"
            ],
            "application/vnd.jupyter.widget-view+json": {
              "version_major": 2,
              "version_minor": 0,
              "model_id": "ff82f72a2fba4dd69517c0bfc54cdc3d"
            }
          },
          "metadata": {}
        },
        {
          "output_type": "stream",
          "name": "stderr",
          "text": [
            "All PyTorch model weights were used when initializing TFBertForSequenceClassification.\n",
            "\n",
            "Some weights or buffers of the TF 2.0 model TFBertForSequenceClassification were not initialized from the PyTorch model and are newly initialized: ['classifier.weight', 'classifier.bias']\n",
            "You should probably TRAIN this model on a down-stream task to be able to use it for predictions and inference.\n"
          ]
        },
        {
          "output_type": "display_data",
          "data": {
            "text/plain": [
              "tokenizer_config.json:   0%|          | 0.00/28.0 [00:00<?, ?B/s]"
            ],
            "application/vnd.jupyter.widget-view+json": {
              "version_major": 2,
              "version_minor": 0,
              "model_id": "24f84c7965e14acebfe93019a6df4e9f"
            }
          },
          "metadata": {}
        },
        {
          "output_type": "display_data",
          "data": {
            "text/plain": [
              "vocab.txt:   0%|          | 0.00/232k [00:00<?, ?B/s]"
            ],
            "application/vnd.jupyter.widget-view+json": {
              "version_major": 2,
              "version_minor": 0,
              "model_id": "5d44dcb173524f5991b4640cfa526551"
            }
          },
          "metadata": {}
        },
        {
          "output_type": "display_data",
          "data": {
            "text/plain": [
              "tokenizer.json:   0%|          | 0.00/466k [00:00<?, ?B/s]"
            ],
            "application/vnd.jupyter.widget-view+json": {
              "version_major": 2,
              "version_minor": 0,
              "model_id": "62486e3af1e9493995cdb41838394647"
            }
          },
          "metadata": {}
        }
      ]
    },
    {
      "cell_type": "code",
      "source": [
        "Bert_model.summary()"
      ],
      "metadata": {
        "id": "HUdWa4lbqHqA",
        "colab": {
          "base_uri": "https://localhost:8080/"
        },
        "outputId": "5a6a9c47-c303-474f-ab9a-db27714a98b0"
      },
      "execution_count": 5,
      "outputs": [
        {
          "output_type": "stream",
          "name": "stdout",
          "text": [
            "Model: \"tf_bert_for_sequence_classification\"\n",
            "_________________________________________________________________\n",
            " Layer (type)                Output Shape              Param #   \n",
            "=================================================================\n",
            " bert (TFBertMainLayer)      multiple                  109482240 \n",
            "                                                                 \n",
            " dropout_37 (Dropout)        multiple                  0         \n",
            "                                                                 \n",
            " classifier (Dense)          multiple                  1538      \n",
            "                                                                 \n",
            "=================================================================\n",
            "Total params: 109483778 (417.65 MB)\n",
            "Trainable params: 109483778 (417.65 MB)\n",
            "Non-trainable params: 0 (0.00 Byte)\n",
            "_________________________________________________________________\n"
          ]
        }
      ]
    },
    {
      "cell_type": "code",
      "source": [
        "from sklearn.utils import shuffle\n",
        "\n",
        "# Define the cat2num function\n",
        "def cat2num(value):\n",
        "    if value == 'positive':\n",
        "        return 1\n",
        "    else:\n",
        "        return 0\n",
        "\n",
        "# Shuffle the DataFrame\n",
        "df_shuffled = shuffle(df,random_state=42)\n",
        "\n",
        "# Apply the cat2num function to convert 'positive' and 'negative' into numeric values\n",
        "df_shuffled['sentiment'] = df_shuffled['sentiment'].apply(cat2num)\n",
        "\n",
        "# Split the shuffled DataFrame into train and test\n",
        "train = df_shuffled[:25000]\n",
        "test = df_shuffled[25000:]"
      ],
      "metadata": {
        "id": "JjMxR0ppqHs3"
      },
      "execution_count": 6,
      "outputs": []
    },
    {
      "cell_type": "code",
      "source": [
        "print(train['sentiment'].value_counts())\n"
      ],
      "metadata": {
        "id": "JMJl6-9Mqh9e",
        "colab": {
          "base_uri": "https://localhost:8080/"
        },
        "outputId": "3fa58dd0-fb1d-441e-a7a9-32d289c7f615"
      },
      "execution_count": 7,
      "outputs": [
        {
          "output_type": "stream",
          "name": "stdout",
          "text": [
            "1    12603\n",
            "0    12397\n",
            "Name: sentiment, dtype: int64\n"
          ]
        }
      ]
    },
    {
      "cell_type": "code",
      "source": [
        "# But first see BERT tokenizer exmaples and other required stuff!\n",
        "\n",
        "example='In this Kaggle notebook, I will do sentiment analysis using BERT with Huggingface'\n",
        "tokens=tokenizer.tokenize(example)\n",
        "token_ids = tokenizer.convert_tokens_to_ids(tokens)\n",
        "print(tokens)\n",
        "print(token_ids)"
      ],
      "metadata": {
        "id": "NLHgcTHxqiAS",
        "colab": {
          "base_uri": "https://localhost:8080/"
        },
        "outputId": "be09b290-a230-4dbb-ba85-ca1bae3a2432"
      },
      "execution_count": 8,
      "outputs": [
        {
          "output_type": "stream",
          "name": "stdout",
          "text": [
            "['in', 'this', 'ka', '##ggle', 'notebook', ',', 'i', 'will', 'do', 'sentiment', 'analysis', 'using', 'bert', 'with', 'hugging', '##face']\n",
            "[1999, 2023, 10556, 24679, 14960, 1010, 1045, 2097, 2079, 15792, 4106, 2478, 14324, 2007, 17662, 12172]\n"
          ]
        }
      ]
    },
    {
      "cell_type": "code",
      "source": [
        "def convert_data_to_examples(train, test, review, sentiment):\n",
        "    train_InputExamples = train.apply(lambda x: InputExample(guid=None, # Globally unique ID for bookkeeping, unused in this case\n",
        "                                                          text_a = x[review],\n",
        "                                                          label = x[sentiment]), axis = 1)\n",
        "\n",
        "    validation_InputExamples = test.apply(lambda x: InputExample(guid=None, # Globally unique ID for bookkeeping, unused in this case\n",
        "                                                          text_a = x[review],\n",
        "                                                          label = x[sentiment]), axis = 1,)\n",
        "\n",
        "    return train_InputExamples, validation_InputExamples\n",
        "\n",
        "train_InputExamples, validation_InputExamples = convert_data_to_examples(train,  test, 'review',  'sentiment')\n"
      ],
      "metadata": {
        "id": "gs2wNPCxqiFU"
      },
      "execution_count": 9,
      "outputs": []
    },
    {
      "cell_type": "code",
      "source": [
        "def convert_examples_to_tf_dataset(examples, tokenizer, max_length=50):\n",
        "    features = [] # -> will hold InputFeatures to be converted later\n",
        "\n",
        "    for e in tqdm(examples):\n",
        "        input_dict = tokenizer.encode_plus(\n",
        "            e.text_a,\n",
        "            add_special_tokens=True,    # Add 'CLS' and 'SEP'\n",
        "            max_length=max_length,    # truncates if len(s) > max_length\n",
        "            return_token_type_ids=True,\n",
        "            return_attention_mask=True,\n",
        "            pad_to_max_length=True, # pads to the right by default # CHECK THIS for pad_to_max_length\n",
        "            truncation=True\n",
        "        )\n",
        "\n",
        "        input_ids, token_type_ids, attention_mask = (input_dict[\"input_ids\"],input_dict[\"token_type_ids\"], input_dict['attention_mask'])\n",
        "        features.append(InputFeatures( input_ids=input_ids, attention_mask=attention_mask, token_type_ids=token_type_ids, label=e.label) )\n",
        "\n",
        "    def gen():\n",
        "        for f in features:\n",
        "            yield (\n",
        "                {\n",
        "                    \"input_ids\": f.input_ids,\n",
        "                    \"attention_mask\": f.attention_mask,\n",
        "                    \"token_type_ids\": f.token_type_ids,\n",
        "                },\n",
        "                f.label,\n",
        "            )\n",
        "\n",
        "    return tf.data.Dataset.from_generator(\n",
        "        gen,\n",
        "        ({\"input_ids\": tf.int32, \"attention_mask\": tf.int32, \"token_type_ids\": tf.int32}, tf.int64),\n",
        "        (\n",
        "            {\n",
        "                \"input_ids\": tf.TensorShape([None]),\n",
        "                \"attention_mask\": tf.TensorShape([None]),\n",
        "                \"token_type_ids\": tf.TensorShape([None]),\n",
        "            },\n",
        "            tf.TensorShape([]),\n",
        "        ),\n",
        "    )\n",
        "\n",
        "\n",
        "DATA_COLUMN = 'review'\n",
        "LABEL_COLUMN = 'sentiment'"
      ],
      "metadata": {
        "id": "Bq2Xvmw6qiJH"
      },
      "execution_count": 10,
      "outputs": []
    },
    {
      "cell_type": "code",
      "source": [
        "train_data = convert_examples_to_tf_dataset(list(train_InputExamples), tokenizer)\n",
        "train_data = train_data.shuffle(100).batch(32).repeat(2)"
      ],
      "metadata": {
        "id": "SYPP2iddq3QO",
        "colab": {
          "base_uri": "https://localhost:8080/"
        },
        "outputId": "5692cb9b-8059-46ab-df28-4e16ab1cb062"
      },
      "execution_count": 11,
      "outputs": [
        {
          "output_type": "stream",
          "name": "stderr",
          "text": [
            "  0%|          | 0/25000 [00:00<?, ?it/s]/usr/local/lib/python3.10/dist-packages/transformers/tokenization_utils_base.py:2614: FutureWarning: The `pad_to_max_length` argument is deprecated and will be removed in a future version, use `padding=True` or `padding='longest'` to pad to the longest sequence in the batch, or use `padding='max_length'` to pad to a max length. In this case, you can give a specific length with `max_length` (e.g. `max_length=45`) or leave max_length to None to pad to the maximal input size of the model (e.g. 512 for Bert).\n",
            "  warnings.warn(\n",
            "100%|██████████| 25000/25000 [02:16<00:00, 183.07it/s]\n"
          ]
        }
      ]
    },
    {
      "cell_type": "code",
      "source": [
        "# Assuming train_data is a TensorFlow dataset\n",
        "for input_features, label in train_data.take(11):\n",
        "    # print(\"Input IDs:\", input_features['input_ids'])\n",
        "    # print(\"Attention Mask:\", input_features['attention_mask'])\n",
        "    # print(\"Token Type IDs:\", input_features['token_type_ids'])\n",
        "    print(\"Label:\", label)\n"
      ],
      "metadata": {
        "id": "XX01Xs7tqsxH",
        "colab": {
          "base_uri": "https://localhost:8080/"
        },
        "outputId": "f6ed448f-98d6-454d-e276-b6c8fec7df1f"
      },
      "execution_count": 12,
      "outputs": [
        {
          "output_type": "stream",
          "name": "stdout",
          "text": [
            "Label: tf.Tensor([0 0 0 0 1 1 0 0 0 1 0 0 1 1 0 1 1 0 1 0 1 0 1 1 0 0 1 1 0 1 1 1], shape=(32,), dtype=int64)\n",
            "Label: tf.Tensor([0 1 0 1 0 0 1 0 0 1 1 1 1 0 1 0 1 0 0 1 0 1 0 1 1 1 1 0 1 0 0 0], shape=(32,), dtype=int64)\n",
            "Label: tf.Tensor([0 0 0 0 1 0 0 0 0 1 1 1 1 1 0 0 0 1 1 1 1 1 1 0 1 1 0 1 1 1 1 0], shape=(32,), dtype=int64)\n",
            "Label: tf.Tensor([0 0 0 1 1 0 1 1 1 1 0 1 0 0 0 1 1 0 0 0 1 0 1 0 1 0 1 1 1 0 0 0], shape=(32,), dtype=int64)\n",
            "Label: tf.Tensor([0 0 0 0 1 0 1 1 0 0 0 1 1 0 1 1 1 1 1 1 1 0 1 1 0 0 1 1 0 1 0 0], shape=(32,), dtype=int64)\n",
            "Label: tf.Tensor([1 0 0 0 0 0 1 0 1 0 0 1 1 0 0 1 1 0 1 0 1 1 0 1 0 0 0 0 1 0 0 0], shape=(32,), dtype=int64)\n",
            "Label: tf.Tensor([0 0 0 0 1 1 1 1 1 1 1 0 0 1 0 0 0 1 1 0 1 1 1 0 0 0 0 0 1 1 1 1], shape=(32,), dtype=int64)\n",
            "Label: tf.Tensor([1 0 1 1 1 1 1 1 1 0 0 0 0 1 1 0 0 1 0 1 0 0 1 1 0 0 0 0 1 0 0 1], shape=(32,), dtype=int64)\n",
            "Label: tf.Tensor([0 0 0 1 0 1 1 0 0 0 1 0 0 0 1 1 1 1 1 0 1 1 0 0 0 0 0 1 0 1 1 1], shape=(32,), dtype=int64)\n",
            "Label: tf.Tensor([1 1 0 1 1 1 0 1 0 1 0 1 1 0 1 1 1 1 1 1 0 0 1 1 1 1 0 0 0 0 1 0], shape=(32,), dtype=int64)\n",
            "Label: tf.Tensor([0 0 0 0 0 0 0 1 0 1 1 0 1 1 1 0 1 1 1 1 0 0 0 0 1 1 0 1 1 0 1 1], shape=(32,), dtype=int64)\n"
          ]
        }
      ]
    },
    {
      "cell_type": "code",
      "source": [
        "validation_data = convert_examples_to_tf_dataset(list(validation_InputExamples), tokenizer)\n",
        "validation_data = validation_data.batch(32)"
      ],
      "metadata": {
        "id": "MhT02uzuqszp",
        "colab": {
          "base_uri": "https://localhost:8080/"
        },
        "outputId": "2b2bf76a-bb85-4680-b266-a7ab008be4f5"
      },
      "execution_count": 13,
      "outputs": [
        {
          "output_type": "stream",
          "name": "stderr",
          "text": [
            "100%|██████████| 25000/25000 [02:15<00:00, 184.66it/s]\n"
          ]
        }
      ]
    },
    {
      "cell_type": "code",
      "source": [
        "Bert_model.compile(optimizer=tf.keras.optimizers.Adam(learning_rate=3e-5, epsilon=1e-08, clipnorm=1.0),\n",
        "              loss=tf.keras.losses.SparseCategoricalCrossentropy(from_logits=True),\n",
        "              metrics=[tf.keras.metrics.SparseCategoricalAccuracy('accuracy')])\n",
        "\n",
        "Bert_model.fit(train_data, epochs=1, validation_data=validation_data)"
      ],
      "metadata": {
        "id": "i-nsGvXgqw8O",
        "colab": {
          "base_uri": "https://localhost:8080/"
        },
        "outputId": "a1deef41-fe06-427a-9aac-311aaea4cbe3"
      },
      "execution_count": 14,
      "outputs": [
        {
          "output_type": "stream",
          "name": "stdout",
          "text": [
            "1564/1564 [==============================] - 711s 422ms/step - loss: 0.3632 - accuracy: 0.8306 - val_loss: 0.4183 - val_accuracy: 0.8178\n"
          ]
        },
        {
          "output_type": "execute_result",
          "data": {
            "text/plain": [
              "<keras.src.callbacks.History at 0x7b852e36f8e0>"
            ]
          },
          "metadata": {},
          "execution_count": 14
        }
      ]
    },
    {
      "cell_type": "markdown",
      "metadata": {
        "id": "8sNx80-ke9fA"
      },
      "source": [
        "# Getting data from Kaggle"
      ]
    },
    {
      "cell_type": "code",
      "source": [
        "import requests\n",
        "import pandas as pd\n",
        "import tarfile\n",
        "import os\n",
        "\n",
        "# Define the URL for the IMDb sentiment analysis dataset\n",
        "url = \"https://ai.stanford.edu/~amaas/data/sentiment/aclImdb_v1.tar.gz\"\n",
        "dataset_filename = \"aclImdb_v1.tar.gz\"\n",
        "\n",
        "# Specify the download location\n",
        "download_location = \"./data/\"\n",
        "\n",
        "# Create the download directory if it doesn't exist\n",
        "if not os.path.exists(download_location):\n",
        "    os.makedirs(download_location)\n",
        "\n",
        "# Download the dataset\n",
        "response = requests.get(url)\n",
        "with open(download_location + dataset_filename, 'wb') as f:\n",
        "    f.write(response.content)\n",
        "\n",
        "# Extract the downloaded file\n",
        "with tarfile.open(download_location + dataset_filename, 'r:gz') as tar:\n",
        "    tar.extractall(download_location)\n",
        "\n",
        "# Define the path to the extracted dataset\n",
        "dataset_path = download_location + \"aclImdb/\"\n",
        "\n",
        "# Function to load the dataset into a Pandas DataFrame\n",
        "def load_imdb_dataset(data_path):\n",
        "    texts = []\n",
        "    labels = []\n",
        "    for category in ['train', 'test']:\n",
        "        for sentiment in ['pos', 'neg']:\n",
        "            folder_path = os.path.join(data_path, category, sentiment)\n",
        "            for filename in os.listdir(folder_path):\n",
        "                with open(os.path.join(folder_path, filename), 'r', encoding='utf-8') as file:\n",
        "                    text = file.read()\n",
        "                    texts.append(text)\n",
        "                    labels.append(1 if sentiment == 'pos' else 0)\n",
        "    return pd.DataFrame({'text': texts, 'label': labels})\n",
        "\n",
        "# Load the dataset into a Pandas DataFrame\n",
        "imdb_df = load_imdb_dataset(dataset_path)\n",
        "\n",
        "# Display the first few rows of the DataFrame\n",
        "print(imdb_df.head())\n"
      ],
      "metadata": {
        "colab": {
          "base_uri": "https://localhost:8080/"
        },
        "id": "F7_SL8HaKFLB",
        "outputId": "ffddb736-6f9b-4719-f1d8-6186c1547935"
      },
      "execution_count": 15,
      "outputs": [
        {
          "output_type": "stream",
          "name": "stdout",
          "text": [
            "                                                text  label\n",
            "0  This game is fun and it has a plot that you co...      1\n",
            "1  Red Eye is not the kind of movie that's going ...      1\n",
            "2  I am a huge fan of Simon Pegg and have watched...      1\n",
            "3  A few summer space campers actually were accid...      1\n",
            "4  The perfect space fantasy film. a group of kid...      1\n"
          ]
        }
      ]
    },
    {
      "cell_type": "code",
      "source": [
        "len(imdb_df)"
      ],
      "metadata": {
        "colab": {
          "base_uri": "https://localhost:8080/"
        },
        "id": "lTQ8LX0gLhFY",
        "outputId": "eb6111a8-d2d5-4f42-c78f-dab0248b24d0"
      },
      "execution_count": 16,
      "outputs": [
        {
          "output_type": "execute_result",
          "data": {
            "text/plain": [
              "50000"
            ]
          },
          "metadata": {},
          "execution_count": 16
        }
      ]
    },
    {
      "cell_type": "code",
      "source": [
        "from sklearn.model_selection import train_test_split\n",
        "\n",
        "# Split the dataset into train, test, and validation sets\n",
        "df_train, test_val_df = train_test_split(imdb_df, test_size=20000, random_state=42)\n",
        "df_test, df_val = train_test_split(test_val_df, test_size=0.2, random_state=42)\n",
        "\n",
        "# Display the shapes of the resulting DataFrames\n",
        "print(\"Train set shape:\", df_train.shape)\n",
        "print(\"Test set shape:\", df_test.shape)\n",
        "print(\"Validation set shape:\", df_val.shape)\n"
      ],
      "metadata": {
        "colab": {
          "base_uri": "https://localhost:8080/"
        },
        "id": "LwaBNf43L0zC",
        "outputId": "9481c8a2-b048-41a9-cb99-81f08780678e"
      },
      "execution_count": 17,
      "outputs": [
        {
          "output_type": "stream",
          "name": "stdout",
          "text": [
            "Train set shape: (30000, 2)\n",
            "Test set shape: (16000, 2)\n",
            "Validation set shape: (4000, 2)\n"
          ]
        }
      ]
    },
    {
      "cell_type": "code",
      "metadata": {
        "id": "xx5lxsvW8D-r",
        "colab": {
          "base_uri": "https://localhost:8080/",
          "height": 206
        },
        "outputId": "335c31ff-3a73-4bc6-e70e-607fdfd1c20a"
      },
      "source": [
        "df_val.head()"
      ],
      "execution_count": 18,
      "outputs": [
        {
          "output_type": "execute_result",
          "data": {
            "text/plain": [
              "                                                    text  label\n",
              "26891  \"The Deer Hunter's\" success with critics and p...      1\n",
              "25024  This film was amazing, it was extremely funny ...      1\n",
              "11666  I wasn't born until 4 years after this wonderf...      1\n",
              "40303  I wrote this as a two part review. Part two ha...      0\n",
              "18010  The script for this movie was probably found i...      0"
            ],
            "text/html": [
              "\n",
              "  <div id=\"df-ef7940f6-8296-4ce5-a8aa-9a0d9809b4c1\" class=\"colab-df-container\">\n",
              "    <div>\n",
              "<style scoped>\n",
              "    .dataframe tbody tr th:only-of-type {\n",
              "        vertical-align: middle;\n",
              "    }\n",
              "\n",
              "    .dataframe tbody tr th {\n",
              "        vertical-align: top;\n",
              "    }\n",
              "\n",
              "    .dataframe thead th {\n",
              "        text-align: right;\n",
              "    }\n",
              "</style>\n",
              "<table border=\"1\" class=\"dataframe\">\n",
              "  <thead>\n",
              "    <tr style=\"text-align: right;\">\n",
              "      <th></th>\n",
              "      <th>text</th>\n",
              "      <th>label</th>\n",
              "    </tr>\n",
              "  </thead>\n",
              "  <tbody>\n",
              "    <tr>\n",
              "      <th>26891</th>\n",
              "      <td>\"The Deer Hunter's\" success with critics and p...</td>\n",
              "      <td>1</td>\n",
              "    </tr>\n",
              "    <tr>\n",
              "      <th>25024</th>\n",
              "      <td>This film was amazing, it was extremely funny ...</td>\n",
              "      <td>1</td>\n",
              "    </tr>\n",
              "    <tr>\n",
              "      <th>11666</th>\n",
              "      <td>I wasn't born until 4 years after this wonderf...</td>\n",
              "      <td>1</td>\n",
              "    </tr>\n",
              "    <tr>\n",
              "      <th>40303</th>\n",
              "      <td>I wrote this as a two part review. Part two ha...</td>\n",
              "      <td>0</td>\n",
              "    </tr>\n",
              "    <tr>\n",
              "      <th>18010</th>\n",
              "      <td>The script for this movie was probably found i...</td>\n",
              "      <td>0</td>\n",
              "    </tr>\n",
              "  </tbody>\n",
              "</table>\n",
              "</div>\n",
              "    <div class=\"colab-df-buttons\">\n",
              "\n",
              "  <div class=\"colab-df-container\">\n",
              "    <button class=\"colab-df-convert\" onclick=\"convertToInteractive('df-ef7940f6-8296-4ce5-a8aa-9a0d9809b4c1')\"\n",
              "            title=\"Convert this dataframe to an interactive table.\"\n",
              "            style=\"display:none;\">\n",
              "\n",
              "  <svg xmlns=\"http://www.w3.org/2000/svg\" height=\"24px\" viewBox=\"0 -960 960 960\">\n",
              "    <path d=\"M120-120v-720h720v720H120Zm60-500h600v-160H180v160Zm220 220h160v-160H400v160Zm0 220h160v-160H400v160ZM180-400h160v-160H180v160Zm440 0h160v-160H620v160ZM180-180h160v-160H180v160Zm440 0h160v-160H620v160Z\"/>\n",
              "  </svg>\n",
              "    </button>\n",
              "\n",
              "  <style>\n",
              "    .colab-df-container {\n",
              "      display:flex;\n",
              "      gap: 12px;\n",
              "    }\n",
              "\n",
              "    .colab-df-convert {\n",
              "      background-color: #E8F0FE;\n",
              "      border: none;\n",
              "      border-radius: 50%;\n",
              "      cursor: pointer;\n",
              "      display: none;\n",
              "      fill: #1967D2;\n",
              "      height: 32px;\n",
              "      padding: 0 0 0 0;\n",
              "      width: 32px;\n",
              "    }\n",
              "\n",
              "    .colab-df-convert:hover {\n",
              "      background-color: #E2EBFA;\n",
              "      box-shadow: 0px 1px 2px rgba(60, 64, 67, 0.3), 0px 1px 3px 1px rgba(60, 64, 67, 0.15);\n",
              "      fill: #174EA6;\n",
              "    }\n",
              "\n",
              "    .colab-df-buttons div {\n",
              "      margin-bottom: 4px;\n",
              "    }\n",
              "\n",
              "    [theme=dark] .colab-df-convert {\n",
              "      background-color: #3B4455;\n",
              "      fill: #D2E3FC;\n",
              "    }\n",
              "\n",
              "    [theme=dark] .colab-df-convert:hover {\n",
              "      background-color: #434B5C;\n",
              "      box-shadow: 0px 1px 3px 1px rgba(0, 0, 0, 0.15);\n",
              "      filter: drop-shadow(0px 1px 2px rgba(0, 0, 0, 0.3));\n",
              "      fill: #FFFFFF;\n",
              "    }\n",
              "  </style>\n",
              "\n",
              "    <script>\n",
              "      const buttonEl =\n",
              "        document.querySelector('#df-ef7940f6-8296-4ce5-a8aa-9a0d9809b4c1 button.colab-df-convert');\n",
              "      buttonEl.style.display =\n",
              "        google.colab.kernel.accessAllowed ? 'block' : 'none';\n",
              "\n",
              "      async function convertToInteractive(key) {\n",
              "        const element = document.querySelector('#df-ef7940f6-8296-4ce5-a8aa-9a0d9809b4c1');\n",
              "        const dataTable =\n",
              "          await google.colab.kernel.invokeFunction('convertToInteractive',\n",
              "                                                    [key], {});\n",
              "        if (!dataTable) return;\n",
              "\n",
              "        const docLinkHtml = 'Like what you see? Visit the ' +\n",
              "          '<a target=\"_blank\" href=https://colab.research.google.com/notebooks/data_table.ipynb>data table notebook</a>'\n",
              "          + ' to learn more about interactive tables.';\n",
              "        element.innerHTML = '';\n",
              "        dataTable['output_type'] = 'display_data';\n",
              "        await google.colab.output.renderOutput(dataTable, element);\n",
              "        const docLink = document.createElement('div');\n",
              "        docLink.innerHTML = docLinkHtml;\n",
              "        element.appendChild(docLink);\n",
              "      }\n",
              "    </script>\n",
              "  </div>\n",
              "\n",
              "\n",
              "<div id=\"df-6276eec4-4ac1-4c21-a0d4-e42d03c087c3\">\n",
              "  <button class=\"colab-df-quickchart\" onclick=\"quickchart('df-6276eec4-4ac1-4c21-a0d4-e42d03c087c3')\"\n",
              "            title=\"Suggest charts\"\n",
              "            style=\"display:none;\">\n",
              "\n",
              "<svg xmlns=\"http://www.w3.org/2000/svg\" height=\"24px\"viewBox=\"0 0 24 24\"\n",
              "     width=\"24px\">\n",
              "    <g>\n",
              "        <path d=\"M19 3H5c-1.1 0-2 .9-2 2v14c0 1.1.9 2 2 2h14c1.1 0 2-.9 2-2V5c0-1.1-.9-2-2-2zM9 17H7v-7h2v7zm4 0h-2V7h2v10zm4 0h-2v-4h2v4z\"/>\n",
              "    </g>\n",
              "</svg>\n",
              "  </button>\n",
              "\n",
              "<style>\n",
              "  .colab-df-quickchart {\n",
              "      --bg-color: #E8F0FE;\n",
              "      --fill-color: #1967D2;\n",
              "      --hover-bg-color: #E2EBFA;\n",
              "      --hover-fill-color: #174EA6;\n",
              "      --disabled-fill-color: #AAA;\n",
              "      --disabled-bg-color: #DDD;\n",
              "  }\n",
              "\n",
              "  [theme=dark] .colab-df-quickchart {\n",
              "      --bg-color: #3B4455;\n",
              "      --fill-color: #D2E3FC;\n",
              "      --hover-bg-color: #434B5C;\n",
              "      --hover-fill-color: #FFFFFF;\n",
              "      --disabled-bg-color: #3B4455;\n",
              "      --disabled-fill-color: #666;\n",
              "  }\n",
              "\n",
              "  .colab-df-quickchart {\n",
              "    background-color: var(--bg-color);\n",
              "    border: none;\n",
              "    border-radius: 50%;\n",
              "    cursor: pointer;\n",
              "    display: none;\n",
              "    fill: var(--fill-color);\n",
              "    height: 32px;\n",
              "    padding: 0;\n",
              "    width: 32px;\n",
              "  }\n",
              "\n",
              "  .colab-df-quickchart:hover {\n",
              "    background-color: var(--hover-bg-color);\n",
              "    box-shadow: 0 1px 2px rgba(60, 64, 67, 0.3), 0 1px 3px 1px rgba(60, 64, 67, 0.15);\n",
              "    fill: var(--button-hover-fill-color);\n",
              "  }\n",
              "\n",
              "  .colab-df-quickchart-complete:disabled,\n",
              "  .colab-df-quickchart-complete:disabled:hover {\n",
              "    background-color: var(--disabled-bg-color);\n",
              "    fill: var(--disabled-fill-color);\n",
              "    box-shadow: none;\n",
              "  }\n",
              "\n",
              "  .colab-df-spinner {\n",
              "    border: 2px solid var(--fill-color);\n",
              "    border-color: transparent;\n",
              "    border-bottom-color: var(--fill-color);\n",
              "    animation:\n",
              "      spin 1s steps(1) infinite;\n",
              "  }\n",
              "\n",
              "  @keyframes spin {\n",
              "    0% {\n",
              "      border-color: transparent;\n",
              "      border-bottom-color: var(--fill-color);\n",
              "      border-left-color: var(--fill-color);\n",
              "    }\n",
              "    20% {\n",
              "      border-color: transparent;\n",
              "      border-left-color: var(--fill-color);\n",
              "      border-top-color: var(--fill-color);\n",
              "    }\n",
              "    30% {\n",
              "      border-color: transparent;\n",
              "      border-left-color: var(--fill-color);\n",
              "      border-top-color: var(--fill-color);\n",
              "      border-right-color: var(--fill-color);\n",
              "    }\n",
              "    40% {\n",
              "      border-color: transparent;\n",
              "      border-right-color: var(--fill-color);\n",
              "      border-top-color: var(--fill-color);\n",
              "    }\n",
              "    60% {\n",
              "      border-color: transparent;\n",
              "      border-right-color: var(--fill-color);\n",
              "    }\n",
              "    80% {\n",
              "      border-color: transparent;\n",
              "      border-right-color: var(--fill-color);\n",
              "      border-bottom-color: var(--fill-color);\n",
              "    }\n",
              "    90% {\n",
              "      border-color: transparent;\n",
              "      border-bottom-color: var(--fill-color);\n",
              "    }\n",
              "  }\n",
              "</style>\n",
              "\n",
              "  <script>\n",
              "    async function quickchart(key) {\n",
              "      const quickchartButtonEl =\n",
              "        document.querySelector('#' + key + ' button');\n",
              "      quickchartButtonEl.disabled = true;  // To prevent multiple clicks.\n",
              "      quickchartButtonEl.classList.add('colab-df-spinner');\n",
              "      try {\n",
              "        const charts = await google.colab.kernel.invokeFunction(\n",
              "            'suggestCharts', [key], {});\n",
              "      } catch (error) {\n",
              "        console.error('Error during call to suggestCharts:', error);\n",
              "      }\n",
              "      quickchartButtonEl.classList.remove('colab-df-spinner');\n",
              "      quickchartButtonEl.classList.add('colab-df-quickchart-complete');\n",
              "    }\n",
              "    (() => {\n",
              "      let quickchartButtonEl =\n",
              "        document.querySelector('#df-6276eec4-4ac1-4c21-a0d4-e42d03c087c3 button');\n",
              "      quickchartButtonEl.style.display =\n",
              "        google.colab.kernel.accessAllowed ? 'block' : 'none';\n",
              "    })();\n",
              "  </script>\n",
              "</div>\n",
              "\n",
              "    </div>\n",
              "  </div>\n"
            ]
          },
          "metadata": {},
          "execution_count": 18
        }
      ]
    },
    {
      "cell_type": "code",
      "metadata": {
        "id": "LkyrtMpw8EAy",
        "colab": {
          "base_uri": "https://localhost:8080/",
          "height": 206
        },
        "outputId": "39cd597b-89cd-4947-ee04-3c0a176a3fd3"
      },
      "source": [
        "df_test.head()"
      ],
      "execution_count": 19,
      "outputs": [
        {
          "output_type": "execute_result",
          "data": {
            "text/plain": [
              "                                                    text  label\n",
              "24835  My family and I screened Underdog the night be...      0\n",
              "28073  Really don't care that no one on here likes th...      1\n",
              "31069  1st watched 8/26/2001 - 8 out of 10 (Dir-John ...      1\n",
              "25736  Destined to be a classic before it was even co...      1\n",
              "40229  A Chicago couple, Dillon and Dougherty, are fa...      0"
            ],
            "text/html": [
              "\n",
              "  <div id=\"df-59e27c97-6d24-45be-97ee-0b11c7110543\" class=\"colab-df-container\">\n",
              "    <div>\n",
              "<style scoped>\n",
              "    .dataframe tbody tr th:only-of-type {\n",
              "        vertical-align: middle;\n",
              "    }\n",
              "\n",
              "    .dataframe tbody tr th {\n",
              "        vertical-align: top;\n",
              "    }\n",
              "\n",
              "    .dataframe thead th {\n",
              "        text-align: right;\n",
              "    }\n",
              "</style>\n",
              "<table border=\"1\" class=\"dataframe\">\n",
              "  <thead>\n",
              "    <tr style=\"text-align: right;\">\n",
              "      <th></th>\n",
              "      <th>text</th>\n",
              "      <th>label</th>\n",
              "    </tr>\n",
              "  </thead>\n",
              "  <tbody>\n",
              "    <tr>\n",
              "      <th>24835</th>\n",
              "      <td>My family and I screened Underdog the night be...</td>\n",
              "      <td>0</td>\n",
              "    </tr>\n",
              "    <tr>\n",
              "      <th>28073</th>\n",
              "      <td>Really don't care that no one on here likes th...</td>\n",
              "      <td>1</td>\n",
              "    </tr>\n",
              "    <tr>\n",
              "      <th>31069</th>\n",
              "      <td>1st watched 8/26/2001 - 8 out of 10 (Dir-John ...</td>\n",
              "      <td>1</td>\n",
              "    </tr>\n",
              "    <tr>\n",
              "      <th>25736</th>\n",
              "      <td>Destined to be a classic before it was even co...</td>\n",
              "      <td>1</td>\n",
              "    </tr>\n",
              "    <tr>\n",
              "      <th>40229</th>\n",
              "      <td>A Chicago couple, Dillon and Dougherty, are fa...</td>\n",
              "      <td>0</td>\n",
              "    </tr>\n",
              "  </tbody>\n",
              "</table>\n",
              "</div>\n",
              "    <div class=\"colab-df-buttons\">\n",
              "\n",
              "  <div class=\"colab-df-container\">\n",
              "    <button class=\"colab-df-convert\" onclick=\"convertToInteractive('df-59e27c97-6d24-45be-97ee-0b11c7110543')\"\n",
              "            title=\"Convert this dataframe to an interactive table.\"\n",
              "            style=\"display:none;\">\n",
              "\n",
              "  <svg xmlns=\"http://www.w3.org/2000/svg\" height=\"24px\" viewBox=\"0 -960 960 960\">\n",
              "    <path d=\"M120-120v-720h720v720H120Zm60-500h600v-160H180v160Zm220 220h160v-160H400v160Zm0 220h160v-160H400v160ZM180-400h160v-160H180v160Zm440 0h160v-160H620v160ZM180-180h160v-160H180v160Zm440 0h160v-160H620v160Z\"/>\n",
              "  </svg>\n",
              "    </button>\n",
              "\n",
              "  <style>\n",
              "    .colab-df-container {\n",
              "      display:flex;\n",
              "      gap: 12px;\n",
              "    }\n",
              "\n",
              "    .colab-df-convert {\n",
              "      background-color: #E8F0FE;\n",
              "      border: none;\n",
              "      border-radius: 50%;\n",
              "      cursor: pointer;\n",
              "      display: none;\n",
              "      fill: #1967D2;\n",
              "      height: 32px;\n",
              "      padding: 0 0 0 0;\n",
              "      width: 32px;\n",
              "    }\n",
              "\n",
              "    .colab-df-convert:hover {\n",
              "      background-color: #E2EBFA;\n",
              "      box-shadow: 0px 1px 2px rgba(60, 64, 67, 0.3), 0px 1px 3px 1px rgba(60, 64, 67, 0.15);\n",
              "      fill: #174EA6;\n",
              "    }\n",
              "\n",
              "    .colab-df-buttons div {\n",
              "      margin-bottom: 4px;\n",
              "    }\n",
              "\n",
              "    [theme=dark] .colab-df-convert {\n",
              "      background-color: #3B4455;\n",
              "      fill: #D2E3FC;\n",
              "    }\n",
              "\n",
              "    [theme=dark] .colab-df-convert:hover {\n",
              "      background-color: #434B5C;\n",
              "      box-shadow: 0px 1px 3px 1px rgba(0, 0, 0, 0.15);\n",
              "      filter: drop-shadow(0px 1px 2px rgba(0, 0, 0, 0.3));\n",
              "      fill: #FFFFFF;\n",
              "    }\n",
              "  </style>\n",
              "\n",
              "    <script>\n",
              "      const buttonEl =\n",
              "        document.querySelector('#df-59e27c97-6d24-45be-97ee-0b11c7110543 button.colab-df-convert');\n",
              "      buttonEl.style.display =\n",
              "        google.colab.kernel.accessAllowed ? 'block' : 'none';\n",
              "\n",
              "      async function convertToInteractive(key) {\n",
              "        const element = document.querySelector('#df-59e27c97-6d24-45be-97ee-0b11c7110543');\n",
              "        const dataTable =\n",
              "          await google.colab.kernel.invokeFunction('convertToInteractive',\n",
              "                                                    [key], {});\n",
              "        if (!dataTable) return;\n",
              "\n",
              "        const docLinkHtml = 'Like what you see? Visit the ' +\n",
              "          '<a target=\"_blank\" href=https://colab.research.google.com/notebooks/data_table.ipynb>data table notebook</a>'\n",
              "          + ' to learn more about interactive tables.';\n",
              "        element.innerHTML = '';\n",
              "        dataTable['output_type'] = 'display_data';\n",
              "        await google.colab.output.renderOutput(dataTable, element);\n",
              "        const docLink = document.createElement('div');\n",
              "        docLink.innerHTML = docLinkHtml;\n",
              "        element.appendChild(docLink);\n",
              "      }\n",
              "    </script>\n",
              "  </div>\n",
              "\n",
              "\n",
              "<div id=\"df-d9e4f064-0d4b-4582-b1aa-1d9969867c1b\">\n",
              "  <button class=\"colab-df-quickchart\" onclick=\"quickchart('df-d9e4f064-0d4b-4582-b1aa-1d9969867c1b')\"\n",
              "            title=\"Suggest charts\"\n",
              "            style=\"display:none;\">\n",
              "\n",
              "<svg xmlns=\"http://www.w3.org/2000/svg\" height=\"24px\"viewBox=\"0 0 24 24\"\n",
              "     width=\"24px\">\n",
              "    <g>\n",
              "        <path d=\"M19 3H5c-1.1 0-2 .9-2 2v14c0 1.1.9 2 2 2h14c1.1 0 2-.9 2-2V5c0-1.1-.9-2-2-2zM9 17H7v-7h2v7zm4 0h-2V7h2v10zm4 0h-2v-4h2v4z\"/>\n",
              "    </g>\n",
              "</svg>\n",
              "  </button>\n",
              "\n",
              "<style>\n",
              "  .colab-df-quickchart {\n",
              "      --bg-color: #E8F0FE;\n",
              "      --fill-color: #1967D2;\n",
              "      --hover-bg-color: #E2EBFA;\n",
              "      --hover-fill-color: #174EA6;\n",
              "      --disabled-fill-color: #AAA;\n",
              "      --disabled-bg-color: #DDD;\n",
              "  }\n",
              "\n",
              "  [theme=dark] .colab-df-quickchart {\n",
              "      --bg-color: #3B4455;\n",
              "      --fill-color: #D2E3FC;\n",
              "      --hover-bg-color: #434B5C;\n",
              "      --hover-fill-color: #FFFFFF;\n",
              "      --disabled-bg-color: #3B4455;\n",
              "      --disabled-fill-color: #666;\n",
              "  }\n",
              "\n",
              "  .colab-df-quickchart {\n",
              "    background-color: var(--bg-color);\n",
              "    border: none;\n",
              "    border-radius: 50%;\n",
              "    cursor: pointer;\n",
              "    display: none;\n",
              "    fill: var(--fill-color);\n",
              "    height: 32px;\n",
              "    padding: 0;\n",
              "    width: 32px;\n",
              "  }\n",
              "\n",
              "  .colab-df-quickchart:hover {\n",
              "    background-color: var(--hover-bg-color);\n",
              "    box-shadow: 0 1px 2px rgba(60, 64, 67, 0.3), 0 1px 3px 1px rgba(60, 64, 67, 0.15);\n",
              "    fill: var(--button-hover-fill-color);\n",
              "  }\n",
              "\n",
              "  .colab-df-quickchart-complete:disabled,\n",
              "  .colab-df-quickchart-complete:disabled:hover {\n",
              "    background-color: var(--disabled-bg-color);\n",
              "    fill: var(--disabled-fill-color);\n",
              "    box-shadow: none;\n",
              "  }\n",
              "\n",
              "  .colab-df-spinner {\n",
              "    border: 2px solid var(--fill-color);\n",
              "    border-color: transparent;\n",
              "    border-bottom-color: var(--fill-color);\n",
              "    animation:\n",
              "      spin 1s steps(1) infinite;\n",
              "  }\n",
              "\n",
              "  @keyframes spin {\n",
              "    0% {\n",
              "      border-color: transparent;\n",
              "      border-bottom-color: var(--fill-color);\n",
              "      border-left-color: var(--fill-color);\n",
              "    }\n",
              "    20% {\n",
              "      border-color: transparent;\n",
              "      border-left-color: var(--fill-color);\n",
              "      border-top-color: var(--fill-color);\n",
              "    }\n",
              "    30% {\n",
              "      border-color: transparent;\n",
              "      border-left-color: var(--fill-color);\n",
              "      border-top-color: var(--fill-color);\n",
              "      border-right-color: var(--fill-color);\n",
              "    }\n",
              "    40% {\n",
              "      border-color: transparent;\n",
              "      border-right-color: var(--fill-color);\n",
              "      border-top-color: var(--fill-color);\n",
              "    }\n",
              "    60% {\n",
              "      border-color: transparent;\n",
              "      border-right-color: var(--fill-color);\n",
              "    }\n",
              "    80% {\n",
              "      border-color: transparent;\n",
              "      border-right-color: var(--fill-color);\n",
              "      border-bottom-color: var(--fill-color);\n",
              "    }\n",
              "    90% {\n",
              "      border-color: transparent;\n",
              "      border-bottom-color: var(--fill-color);\n",
              "    }\n",
              "  }\n",
              "</style>\n",
              "\n",
              "  <script>\n",
              "    async function quickchart(key) {\n",
              "      const quickchartButtonEl =\n",
              "        document.querySelector('#' + key + ' button');\n",
              "      quickchartButtonEl.disabled = true;  // To prevent multiple clicks.\n",
              "      quickchartButtonEl.classList.add('colab-df-spinner');\n",
              "      try {\n",
              "        const charts = await google.colab.kernel.invokeFunction(\n",
              "            'suggestCharts', [key], {});\n",
              "      } catch (error) {\n",
              "        console.error('Error during call to suggestCharts:', error);\n",
              "      }\n",
              "      quickchartButtonEl.classList.remove('colab-df-spinner');\n",
              "      quickchartButtonEl.classList.add('colab-df-quickchart-complete');\n",
              "    }\n",
              "    (() => {\n",
              "      let quickchartButtonEl =\n",
              "        document.querySelector('#df-d9e4f064-0d4b-4582-b1aa-1d9969867c1b button');\n",
              "      quickchartButtonEl.style.display =\n",
              "        google.colab.kernel.accessAllowed ? 'block' : 'none';\n",
              "    })();\n",
              "  </script>\n",
              "</div>\n",
              "\n",
              "    </div>\n",
              "  </div>\n"
            ]
          },
          "metadata": {},
          "execution_count": 19
        }
      ]
    },
    {
      "cell_type": "code",
      "metadata": {
        "id": "ybxdiKXs8EDF",
        "colab": {
          "base_uri": "https://localhost:8080/"
        },
        "outputId": "57b0e283-b176-4f14-bc59-bfbf2ba0ebeb"
      },
      "source": [
        "df_train['label'].value_counts()"
      ],
      "execution_count": 20,
      "outputs": [
        {
          "output_type": "execute_result",
          "data": {
            "text/plain": [
              "0    15084\n",
              "1    14916\n",
              "Name: label, dtype: int64"
            ]
          },
          "metadata": {},
          "execution_count": 20
        }
      ]
    },
    {
      "cell_type": "markdown",
      "metadata": {
        "id": "SrvZUiFSfCOI"
      },
      "source": [
        "# Preprocessing"
      ]
    },
    {
      "cell_type": "code",
      "metadata": {
        "id": "AyqgvNhk8EFg"
      },
      "source": [
        "# Cleaning/Preprocessing Helper function\n",
        "\n",
        "def preprocess(s):\n",
        "  s = re.sub(r'@[a-zA-Z0-9_.]+ ', '', str(s))\n",
        "  s = re.sub(r'#[a-zA-Z0-9_.]+ ', '', str(s))\n",
        "  s = re.sub(r'''[^a-zA-Z0-9?. ]+''', '', s)\n",
        "  s = re.sub(r''''[' ']+''', \" \", s)\n",
        "  s = re.sub(r'(\\w)\\1{2,}',r'\\1',s)\n",
        "  s = s.lower().strip()\n",
        "  return s"
      ],
      "execution_count": 21,
      "outputs": []
    },
    {
      "cell_type": "code",
      "metadata": {
        "id": "nFHadewH8EH0"
      },
      "source": [
        "df_train['text'] = df_train['text'].apply(preprocess)\n",
        "df_val['text'] = df_val['text'].apply(preprocess)\n",
        "df_test['text'] = df_test['text'].apply(preprocess)"
      ],
      "execution_count": 22,
      "outputs": []
    },
    {
      "cell_type": "code",
      "metadata": {
        "id": "nsIVOk6w8Xcb"
      },
      "source": [
        "def get_data(df):\n",
        "  zeros, ones = df[df['label']==0], df[df['label']==1]\n",
        "  zero_text, zero_labels = zeros['text'].to_numpy(), zeros['label'].to_numpy()\n",
        "  one_text, one_labels = ones['text'].to_numpy(), ones['label'].to_numpy()\n",
        "  X, Y = np.concatenate((one_text,zero_text)), np.concatenate((one_labels,zero_labels))\n",
        "  return X,Y"
      ],
      "execution_count": 23,
      "outputs": []
    },
    {
      "cell_type": "code",
      "metadata": {
        "id": "eix08E8V8vKS"
      },
      "source": [
        "X_train,Y_train = get_data(df_train)\n",
        "X_val,Y_val = get_data(df_val)\n",
        "X_test,Y_test = get_data(df_test)"
      ],
      "execution_count": 24,
      "outputs": []
    },
    {
      "cell_type": "code",
      "metadata": {
        "id": "fprHzsTEDos1",
        "colab": {
          "base_uri": "https://localhost:8080/"
        },
        "outputId": "52ea3bd7-175a-4998-f558-d5fcb4f656ad"
      },
      "source": [
        "X_train.shape,X_val.shape,X_test.shape"
      ],
      "execution_count": 25,
      "outputs": [
        {
          "output_type": "execute_result",
          "data": {
            "text/plain": [
              "((30000,), (4000,), (16000,))"
            ]
          },
          "metadata": {},
          "execution_count": 25
        }
      ]
    },
    {
      "cell_type": "markdown",
      "metadata": {
        "id": "d1GLyHCgfGZT"
      },
      "source": [
        "# Creating the Model"
      ]
    },
    {
      "cell_type": "code",
      "metadata": {
        "id": "3m0_RiQX8EQc"
      },
      "source": [
        "# Instantiating the Tokenizer and creating sequences\n",
        "tokenizer = tf.keras.preprocessing.text.Tokenizer(3000,oov_token=1)\n",
        "tokenizer.fit_on_texts(X_train)\n",
        "train_seq = tokenizer.texts_to_sequences(X_train)\n",
        "val_seq = tokenizer.texts_to_sequences(X_val)\n",
        "test_seq = tokenizer.texts_to_sequences(X_test)"
      ],
      "execution_count": 26,
      "outputs": []
    },
    {
      "cell_type": "code",
      "source": [
        "X_train[0][0:100]"
      ],
      "metadata": {
        "colab": {
          "base_uri": "https://localhost:8080/",
          "height": 36
        },
        "id": "XTfVsWzEolEB",
        "outputId": "1e453f5b-5f7a-4e06-de12-fce114c3a2fc"
      },
      "execution_count": 27,
      "outputs": [
        {
          "output_type": "execute_result",
          "data": {
            "text/plain": [
              "'irrespective of the accuracy of facts bandit queen is a true story its true because the themes it de'"
            ],
            "application/vnd.google.colaboratory.intrinsic+json": {
              "type": "string"
            }
          },
          "metadata": {},
          "execution_count": 27
        }
      ]
    },
    {
      "cell_type": "code",
      "metadata": {
        "id": "M8JELslv86H8"
      },
      "source": [
        "# Padding all sequences\n",
        "train_seq = tf.keras.preprocessing.sequence.pad_sequences(train_seq,maxlen=50,padding='post')\n",
        "val_seq = tf.keras.preprocessing.sequence.pad_sequences(val_seq,maxlen=50,padding='post')\n",
        "test_seq = tf.keras.preprocessing.sequence.pad_sequences(test_seq,maxlen=50,padding='post')"
      ],
      "execution_count": 28,
      "outputs": []
    },
    {
      "cell_type": "markdown",
      "metadata": {
        "id": "bkALbP7xfHuZ"
      },
      "source": [
        "#Creating the Model"
      ]
    },
    {
      "cell_type": "code",
      "metadata": {
        "id": "6qsEZClV86KL"
      },
      "source": [
        "# from tensorflow.keras.layers import Embedding,Dense,LSTM,Flatten,Dropout\n",
        "# def create_model():\n",
        "#   model = tf.keras.models.Sequential()\n",
        "#   model.add(Embedding(3000,64))\n",
        "#   model.add(LSTM(32))\n",
        "#   model.add(Flatten())\n",
        "#   model.add(Dense(64,activation='relu'))\n",
        "#   model.add(Dropout(0.3))\n",
        "#   model.add(Dense(32,activation='relu'))\n",
        "#   model.add(Dropout(0.3))\n",
        "#   model.add(Dense(4,activation='relu'))\n",
        "#   model.add(Dense(1,activation='sigmoid'))\n",
        "#   model.summary()\n",
        "#   model.compile(optimizer=tf.keras.optimizers.Adam(0.0001),loss=tf.keras.losses.BinaryCrossentropy(),metrics=['accuracy'])\n",
        "#   return model"
      ],
      "execution_count": 17,
      "outputs": []
    },
    {
      "cell_type": "code",
      "source": [
        "import tensorflow as tf\n",
        "from tensorflow.keras.layers import Embedding, LSTM, Conv1D, MaxPooling1D, Bidirectional, GlobalMaxPooling1D, Dense, Dropout\n",
        "\n",
        "def create_model():\n",
        "    model = tf.keras.models.Sequential()\n",
        "    model.add(Embedding(input_dim=3000, output_dim=128))\n",
        "\n",
        "    # Convolutional layers with increased filters and kernel size\n",
        "    model.add(Conv1D(filters=256, kernel_size=5, activation='relu'))\n",
        "    model.add(MaxPooling1D(pool_size=2))\n",
        "\n",
        "    # Bidirectional LSTM layer with increased units\n",
        "    model.add(Bidirectional(LSTM(units=128, return_sequences=True, dropout=0.2, recurrent_dropout=0.2)))\n",
        "\n",
        "    # Global Max Pooling layer\n",
        "    model.add(GlobalMaxPooling1D())\n",
        "\n",
        "    # Dense layers with dropout and L2 regularization\n",
        "    model.add(Dense(units=512, activation='relu', kernel_regularizer=tf.keras.regularizers.l2(0.01)))\n",
        "    model.add(Dropout(0.5))\n",
        "\n",
        "    model.add(Dense(units=256, activation='relu', kernel_regularizer=tf.keras.regularizers.l2(0.01)))\n",
        "    model.add(Dropout(0.5))\n",
        "\n",
        "    model.add(Dense(units=128, activation='relu', kernel_regularizer=tf.keras.regularizers.l2(0.01)))\n",
        "    model.add(Dropout(0.5))\n",
        "\n",
        "    # Output layer\n",
        "    model.add(Dense(units=1, activation='sigmoid'))\n",
        "\n",
        "    model.summary()\n",
        "\n",
        "    # Compile the model\n",
        "    model.compile(optimizer=tf.keras.optimizers.Adam(learning_rate=0.0001),\n",
        "                  loss=tf.keras.losses.BinaryCrossentropy(),\n",
        "                  metrics=['accuracy'])\n",
        "\n",
        "    return model\n"
      ],
      "metadata": {
        "id": "V9wA4XGdFEwj"
      },
      "execution_count": 50,
      "outputs": []
    },
    {
      "cell_type": "code",
      "source": [],
      "metadata": {
        "id": "1xm1DbnAQICP"
      },
      "execution_count": null,
      "outputs": []
    },
    {
      "cell_type": "markdown",
      "metadata": {
        "id": "AoXRVjRQfOox"
      },
      "source": [
        "# Full Model Training"
      ]
    },
    {
      "cell_type": "code",
      "metadata": {
        "id": "vkOmfwOl86Mg"
      },
      "source": [
        "# HELPER FUNCTION\n",
        "\n",
        "def plot(history):\n",
        "  plt.plot(history.history['loss'])\n",
        "  plt.plot(history.history['val_loss'])\n",
        "  plt.legend(['train_loss','val_loss'])\n",
        "  plt.xlabel('Epochs')\n",
        "  plt.ylabel('Loss')\n",
        "  plt.show()\n",
        "\n",
        "  plt.plot(history.history['accuracy'])\n",
        "  plt.plot(history.history['val_accuracy'])\n",
        "  plt.legend(['train_accuracy','val_accuracy'])\n",
        "  plt.xlabel('Epochs')\n",
        "  plt.ylabel('Accuracy')\n",
        "  plt.show()"
      ],
      "execution_count": 30,
      "outputs": []
    },
    {
      "cell_type": "code",
      "metadata": {
        "id": "42p7IDWb86QE"
      },
      "source": [
        "def train_full_model(train_seq,Y_train,val_seq,Y_val,test_seq,Y_test):\n",
        "  model = create_model()\n",
        "  history = model.fit(train_seq,Y_train,256,15,validation_data=(val_seq,Y_val),callbacks=[tf.keras.callbacks.ModelCheckpoint('FullModelCheckpoint.h5',save_best_only=True,verbose=1),tf.keras.callbacks.EarlyStopping(patience=6,verbose=1)])\n",
        "  plot(history)\n",
        "  model = tf.keras.models.load_model('FullModelCheckpoint.h5')\n",
        "  print(model.evaluate(test_seq,Y_test))\n",
        "  return model"
      ],
      "execution_count": 31,
      "outputs": []
    },
    {
      "cell_type": "markdown",
      "metadata": {
        "id": "hgNsFnBMfWTN"
      },
      "source": [
        "# Active Learning"
      ]
    },
    {
      "cell_type": "code",
      "metadata": {
        "id": "KVilRMYA86Op"
      },
      "source": [
        "# HELPER FUNCTIONS\n",
        "\n",
        "def append_history(losses,val_losses,acc,val_acc,history):\n",
        "  losses = losses + history.history['loss']\n",
        "  val_losses = val_losses + history.history['val_loss']\n",
        "  acc = acc + history.history['accuracy']\n",
        "  val_acc = val_acc + history.history['val_accuracy']\n",
        "  return losses,val_losses,acc,val_acc\n",
        "\n",
        "def plot_merged_metrics(losses,val_losses,accuracies,val_accuracies):\n",
        "  plt.plot(losses)\n",
        "  plt.plot(val_losses)\n",
        "  plt.legend(['train_loss','val_loss'])\n",
        "  plt.xlabel('Epochs')\n",
        "  plt.ylabel('Loss')\n",
        "  plt.show()\n",
        "\n",
        "  plt.plot(accuracies)\n",
        "  plt.plot(val_accuracies)\n",
        "  plt.legend(['train_accuracy','val_accuracy'])\n",
        "  plt.xlabel('Epochs')\n",
        "  plt.ylabel('Accuracy')\n",
        "  plt.show()"
      ],
      "execution_count": 32,
      "outputs": []
    },
    {
      "cell_type": "code",
      "source": [
        "tokenizer2 = BertTokenizer.from_pretrained(\"bert-base-uncased\")\n",
        "# Batch size for efficient processing\n",
        "batch_size = 32\n",
        "\n",
        "# Number of batches\n",
        "num_batches = len(X_train) // batch_size + (len(X_train) % batch_size > 0)\n",
        "\n",
        "probs = []\n",
        "\n",
        "for i in range(0, len(X_train), batch_size):\n",
        "    batch_texts = list(X_train[i:i+batch_size])\n",
        "\n",
        "    if isinstance(batch_texts, str):\n",
        "        batch_texts = [batch_texts]\n",
        "\n",
        "    # Tokenize batch of texts\n",
        "    tf_batch = tokenizer2(batch_texts, max_length=128, padding=True, truncation=True, return_tensors='tf')\n",
        "\n",
        "    # Get predictions for the batch\n",
        "    tf_outputs = Bert_model(tf_batch)\n",
        "    tf_predictions = tf.nn.softmax(tf_outputs[0], axis=-1).numpy()\n",
        "\n",
        "    # Get confidence for each example in the batch\n",
        "    batch_confidences = np.max(tf_predictions, axis=-1)\n",
        "\n",
        "    # Append batch confidences to the overall list\n",
        "    probs.extend(batch_confidences)\n",
        "\n",
        "    if (i >5000) and (i <5040):\n",
        "        print(i)\n",
        "\n",
        "probs = np.array(probs)  # Convert the list to a numpy array if needed\n"
      ],
      "metadata": {
        "id": "k_MT9qmNPbl7",
        "colab": {
          "base_uri": "https://localhost:8080/"
        },
        "outputId": "fe88f40c-585e-408d-9a99-691fe5dddb35"
      },
      "execution_count": 41,
      "outputs": [
        {
          "output_type": "stream",
          "name": "stdout",
          "text": [
            "5024\n"
          ]
        }
      ]
    },
    {
      "cell_type": "code",
      "source": [
        "len(probs)"
      ],
      "metadata": {
        "colab": {
          "base_uri": "https://localhost:8080/"
        },
        "id": "tISgUdj28XRR",
        "outputId": "5daa767a-a61b-4ed6-afc2-990f0eeb2c95"
      },
      "execution_count": 42,
      "outputs": [
        {
          "output_type": "execute_result",
          "data": {
            "text/plain": [
              "30000"
            ]
          },
          "metadata": {},
          "execution_count": 42
        }
      ]
    },
    {
      "cell_type": "code",
      "metadata": {
        "id": "zRpzRhA88ESg"
      },
      "source": [
        "import numpy as np\n",
        "import tensorflow as tf\n",
        "import collections\n",
        "\n",
        "# Set a random seed for reproducibility\n",
        "np.random.seed(42)\n",
        "tf.random.set_seed(42)\n",
        "\n",
        "def sampling(model, pool_features, pool_labels, sampling_size=2000):\n",
        "    selected_labels = pool_labels[:sampling_size]\n",
        "    selected_samples = pool_features[:sampling_size]\n",
        "\n",
        "    return selected_samples, selected_labels\n",
        "\n",
        "\n",
        "\n",
        "def train_small_models(train_features, train_labels, pool_features, pool_labels, val_seq, Y_val, test_seq, Y_test, iters=3, sampling_size=2000):\n",
        "\n",
        "    losses, val_losses, accuracies, val_accuracies = [], [], [], []\n",
        "\n",
        "    for iter_n in range(iters):\n",
        "        # Create a new model for each iteration\n",
        "        model = create_model()\n",
        "        model.compile(optimizer='adam', loss='binary_crossentropy', metrics=['accuracy'])\n",
        "\n",
        "        checkpoint = tf.keras.callbacks.ModelCheckpoint(f'Checkpoint_{iter_n}.h5', save_best_only=True, verbose=1)\n",
        "\n",
        "        print(f\"Starting to train with {train_features.shape[0]} labeled samples\")\n",
        "\n",
        "        history = model.fit(train_features, train_labels, batch_size=256, epochs=15,\n",
        "                            validation_data=(val_seq, Y_val),\n",
        "                            callbacks=[checkpoint],\n",
        "                            shuffle=True)  # Ensure training data shuffling for randomness\n",
        "\n",
        "        losses, val_losses, accuracies, val_accuracies = append_history(losses, val_losses, accuracies, val_accuracies, history)\n",
        "\n",
        "        # Evaluate and print accuracy on test data\n",
        "        test_accuracy = model.evaluate(test_seq, Y_test)[1]\n",
        "        print(f\"Accuracy on test data after iteration {iter_n}: {test_accuracy}, Number of labeled samples: {train_features.shape[0]}\")\n",
        "\n",
        "        # Use uncertainty sampling to select samples from the pool\n",
        "        selected_samples, selected_labels = sampling(model, pool_features, pool_labels, sampling_size)\n",
        "\n",
        "        # Remove the chosen samples from the pool\n",
        "        pool_features = np.delete(pool_features, selected_samples, axis=0)\n",
        "        pool_labels = np.delete(pool_labels, selected_samples)\n",
        "\n",
        "        # Add the sampled entries to the original data\n",
        "        train_features = np.vstack((train_features, selected_samples))\n",
        "        train_labels = np.hstack((train_labels, selected_labels))\n",
        "\n",
        "    plot_merged_metrics(losses, val_losses, accuracies, val_accuracies)\n",
        "\n",
        "    return model\n"
      ],
      "execution_count": 43,
      "outputs": []
    },
    {
      "cell_type": "markdown",
      "metadata": {
        "id": "eceF6yOVfl7O"
      },
      "source": [
        "# Ensembling"
      ]
    },
    {
      "cell_type": "code",
      "metadata": {
        "id": "Tr8m61CV8EW8"
      },
      "source": [
        "import numpy as np\n",
        "\n",
        "# Assuming train_seq and Y_train are your input data and labels\n",
        "total_data_size = len(train_seq)\n",
        "split_index = 29000\n",
        "\n",
        "\n",
        "# Select the first 29000 indices for pool\n",
        "pool_features = train_seq[0:split_index]\n",
        "pool_labels = Y_train[0:split_index]\n",
        "\n",
        "# Select the rest for training\n",
        "train_features = train_seq[split_index:]\n",
        "train_labels = Y_train[split_index:]\n"
      ],
      "execution_count": 44,
      "outputs": []
    },
    {
      "cell_type": "code",
      "source": [
        "import numpy as np\n",
        "\n",
        "# Assuming pool_features is a 2D numpy array and score is a list\n",
        "# pool_features = np.array([[ 128,    1,  151,  580,   31,  386,    3,    2,    1,   14,   21,\n",
        "#            2,  102,    1, 1889, 1951,    2,    1,    3,    2,    1,    5,\n",
        "#            2,    1,   11,   83,   22,  118,   44,   12,   18,    7,  163,\n",
        "#            6,   27,    1,   19,    9,  100,  411,   11,  228,  245,   13,\n",
        "#           10,   78,   77,  167,  896,    1],\n",
        "#        [   7,   17,   23,   44,   23,  121,  427,  390,    1,    1,   12,\n",
        "#           18,    7,   17,   23,  263,   44,   23,  185,   84,    2,    1,\n",
        "#         2535,  141,   41,  730,   13,   11,  116,   22,   77,    6,   64,\n",
        "#           12,   18,   21,    2,  193,  277,   41,   52,    1,    6,   77,\n",
        "#           54,  198,  193,  277, 1392, 2035]], dtype=np.int32)\n",
        "\n",
        "# scores = [0.2, 0.1]\n",
        "score=probs[:29000][::-1]\n",
        "# Get the indices that would sort the score list\n",
        "sorted_indices = np.argsort(score)\n",
        "\n",
        "# Sort the score list and rearrange pool_features array based on the sorted indices\n",
        "sorted_score = [score[i] for i in sorted_indices]\n",
        "pool_features = pool_features[sorted_indices]\n",
        "pool_labels =pool_labels[sorted_indices]\n",
        "# Now, sorted_score contains the sorted scores, and sorted_pool_features contains\n",
        "# the corresponding rows from the pool_features array, sorted based on the score\n",
        "# print(sorted_score)\n",
        "# print(sorted_pool_features)\n"
      ],
      "metadata": {
        "id": "zgL2IJjfowpU"
      },
      "execution_count": 52,
      "outputs": []
    },
    {
      "cell_type": "code",
      "metadata": {
        "id": "WHdlDXUZ9Jre",
        "colab": {
          "base_uri": "https://localhost:8080/",
          "height": 1000
        },
        "outputId": "adaf7487-5ebd-47fa-9388-ccb19ddf3ba6"
      },
      "source": [
        "# Training 3 Active Learning Models for Ensembling\n",
        "al_model1 = train_small_models(train_features,train_labels,pool_features,pool_labels,val_seq,Y_val,test_seq,Y_test,iters=5, sampling_size=1000)\n",
        "# al_model2 = train_small_models(train_features,train_labels,pool_features,pool_labels,val_seq,Y_val,test_seq,Y_test)\n",
        "# al_model3 = train_small_models(train_features,train_labels,pool_features,pool_labels,val_seq,Y_val,test_seq,Y_test)"
      ],
      "execution_count": 53,
      "outputs": [
        {
          "output_type": "stream",
          "name": "stderr",
          "text": [
            "WARNING:tensorflow:Layer lstm_14 will not use cuDNN kernels since it doesn't meet the criteria. It will use a generic GPU kernel as fallback when running on GPU.\n",
            "WARNING:tensorflow:Layer lstm_14 will not use cuDNN kernels since it doesn't meet the criteria. It will use a generic GPU kernel as fallback when running on GPU.\n",
            "WARNING:tensorflow:Layer lstm_14 will not use cuDNN kernels since it doesn't meet the criteria. It will use a generic GPU kernel as fallback when running on GPU.\n"
          ]
        },
        {
          "output_type": "stream",
          "name": "stdout",
          "text": [
            "Model: \"sequential_14\"\n",
            "_________________________________________________________________\n",
            " Layer (type)                Output Shape              Param #   \n",
            "=================================================================\n",
            " embedding_14 (Embedding)    (None, None, 128)         384000    \n",
            "                                                                 \n",
            " conv1d_14 (Conv1D)          (None, None, 256)         164096    \n",
            "                                                                 \n",
            " max_pooling1d_14 (MaxPooli  (None, None, 256)         0         \n",
            " ng1D)                                                           \n",
            "                                                                 \n",
            " bidirectional_14 (Bidirect  (None, None, 256)         394240    \n",
            " ional)                                                          \n",
            "                                                                 \n",
            " global_max_pooling1d_14 (G  (None, 256)               0         \n",
            " lobalMaxPooling1D)                                              \n",
            "                                                                 \n",
            " dense_56 (Dense)            (None, 512)               131584    \n",
            "                                                                 \n",
            " dropout_80 (Dropout)        (None, 512)               0         \n",
            "                                                                 \n",
            " dense_57 (Dense)            (None, 256)               131328    \n",
            "                                                                 \n",
            " dropout_81 (Dropout)        (None, 256)               0         \n",
            "                                                                 \n",
            " dense_58 (Dense)            (None, 128)               32896     \n",
            "                                                                 \n",
            " dropout_82 (Dropout)        (None, 128)               0         \n",
            "                                                                 \n",
            " dense_59 (Dense)            (None, 1)                 129       \n",
            "                                                                 \n",
            "=================================================================\n",
            "Total params: 1238273 (4.72 MB)\n",
            "Trainable params: 1238273 (4.72 MB)\n",
            "Non-trainable params: 0 (0.00 Byte)\n",
            "_________________________________________________________________\n",
            "Starting to train with 1000 labeled samples\n",
            "Epoch 1/15\n",
            "4/4 [==============================] - ETA: 0s - loss: 8.7743 - accuracy: 0.9740\n",
            "Epoch 1: val_loss improved from inf to 8.27831, saving model to Checkpoint_0.h5\n",
            "4/4 [==============================] - 16s 677ms/step - loss: 8.7743 - accuracy: 0.9740 - val_loss: 8.2783 - val_accuracy: 0.4868\n",
            "Epoch 2/15\n",
            "4/4 [==============================] - ETA: 0s - loss: 7.4228 - accuracy: 1.0000\n",
            "Epoch 2: val_loss did not improve from 8.27831\n",
            "4/4 [==============================] - 1s 351ms/step - loss: 7.4228 - accuracy: 1.0000 - val_loss: 9.9342 - val_accuracy: 0.4868\n",
            "Epoch 3/15\n",
            "4/4 [==============================] - ETA: 0s - loss: 6.3573 - accuracy: 1.0000\n",
            "Epoch 3: val_loss did not improve from 8.27831\n",
            "4/4 [==============================] - 1s 318ms/step - loss: 6.3573 - accuracy: 1.0000 - val_loss: 13.3053 - val_accuracy: 0.4868\n",
            "Epoch 4/15\n",
            "4/4 [==============================] - ETA: 0s - loss: 5.5685 - accuracy: 1.0000\n",
            "Epoch 4: val_loss did not improve from 8.27831\n",
            "4/4 [==============================] - 2s 450ms/step - loss: 5.5685 - accuracy: 1.0000 - val_loss: 14.3059 - val_accuracy: 0.4868\n",
            "Epoch 5/15\n",
            "4/4 [==============================] - ETA: 0s - loss: 4.8482 - accuracy: 1.0000\n",
            "Epoch 5: val_loss did not improve from 8.27831\n",
            "4/4 [==============================] - 2s 626ms/step - loss: 4.8482 - accuracy: 1.0000 - val_loss: 13.7340 - val_accuracy: 0.4868\n",
            "Epoch 6/15\n",
            "4/4 [==============================] - ETA: 0s - loss: 4.2003 - accuracy: 1.0000\n",
            "Epoch 6: val_loss did not improve from 8.27831\n",
            "4/4 [==============================] - 1s 314ms/step - loss: 4.2003 - accuracy: 1.0000 - val_loss: 12.2417 - val_accuracy: 0.4868\n",
            "Epoch 7/15\n",
            "4/4 [==============================] - ETA: 0s - loss: 3.6238 - accuracy: 1.0000\n",
            "Epoch 7: val_loss did not improve from 8.27831\n",
            "4/4 [==============================] - 1s 347ms/step - loss: 3.6238 - accuracy: 1.0000 - val_loss: 10.3644 - val_accuracy: 0.4868\n",
            "Epoch 8/15\n",
            "4/4 [==============================] - ETA: 0s - loss: 3.1156 - accuracy: 1.0000\n",
            "Epoch 8: val_loss did not improve from 8.27831\n",
            "4/4 [==============================] - 2s 462ms/step - loss: 3.1156 - accuracy: 1.0000 - val_loss: 8.4678 - val_accuracy: 0.4868\n",
            "Epoch 9/15\n",
            "4/4 [==============================] - ETA: 0s - loss: 2.6706 - accuracy: 1.0000\n",
            "Epoch 9: val_loss improved from 8.27831 to 6.82239, saving model to Checkpoint_0.h5\n",
            "4/4 [==============================] - 1s 315ms/step - loss: 2.6706 - accuracy: 1.0000 - val_loss: 6.8224 - val_accuracy: 0.4868\n",
            "Epoch 10/15\n",
            "4/4 [==============================] - ETA: 0s - loss: 2.2846 - accuracy: 1.0000\n",
            "Epoch 10: val_loss improved from 6.82239 to 5.60321, saving model to Checkpoint_0.h5\n",
            "4/4 [==============================] - 1s 342ms/step - loss: 2.2846 - accuracy: 1.0000 - val_loss: 5.6032 - val_accuracy: 0.4868\n",
            "Epoch 11/15\n",
            "4/4 [==============================] - ETA: 0s - loss: 1.9520 - accuracy: 1.0000\n",
            "Epoch 11: val_loss improved from 5.60321 to 4.96634, saving model to Checkpoint_0.h5\n",
            "4/4 [==============================] - 1s 302ms/step - loss: 1.9520 - accuracy: 1.0000 - val_loss: 4.9663 - val_accuracy: 0.4868\n",
            "Epoch 12/15\n",
            "4/4 [==============================] - ETA: 0s - loss: 1.6649 - accuracy: 1.0000\n",
            "Epoch 12: val_loss improved from 4.96634 to 4.83050, saving model to Checkpoint_0.h5\n",
            "4/4 [==============================] - 1s 314ms/step - loss: 1.6649 - accuracy: 1.0000 - val_loss: 4.8305 - val_accuracy: 0.4868\n",
            "Epoch 13/15\n",
            "4/4 [==============================] - ETA: 0s - loss: 1.4166 - accuracy: 1.0000\n",
            "Epoch 13: val_loss did not improve from 4.83050\n",
            "4/4 [==============================] - 1s 282ms/step - loss: 1.4166 - accuracy: 1.0000 - val_loss: 4.9231 - val_accuracy: 0.4868\n",
            "Epoch 14/15\n",
            "4/4 [==============================] - ETA: 0s - loss: 1.2040 - accuracy: 1.0000\n",
            "Epoch 14: val_loss did not improve from 4.83050\n",
            "4/4 [==============================] - 1s 342ms/step - loss: 1.2040 - accuracy: 1.0000 - val_loss: 4.9442 - val_accuracy: 0.4868\n",
            "Epoch 15/15\n",
            "4/4 [==============================] - ETA: 0s - loss: 1.0231 - accuracy: 1.0000\n",
            "Epoch 15: val_loss did not improve from 4.83050\n",
            "4/4 [==============================] - 1s 299ms/step - loss: 1.0231 - accuracy: 1.0000 - val_loss: 4.8539 - val_accuracy: 0.4868\n",
            "500/500 [==============================] - 10s 19ms/step - loss: 4.7657 - accuracy: 0.4981\n"
          ]
        },
        {
          "output_type": "stream",
          "name": "stderr",
          "text": [
            "WARNING:tensorflow:Layer lstm_15 will not use cuDNN kernels since it doesn't meet the criteria. It will use a generic GPU kernel as fallback when running on GPU.\n",
            "WARNING:tensorflow:Layer lstm_15 will not use cuDNN kernels since it doesn't meet the criteria. It will use a generic GPU kernel as fallback when running on GPU.\n",
            "WARNING:tensorflow:Layer lstm_15 will not use cuDNN kernels since it doesn't meet the criteria. It will use a generic GPU kernel as fallback when running on GPU.\n"
          ]
        },
        {
          "output_type": "stream",
          "name": "stdout",
          "text": [
            "Accuracy on test data after iteration 0: 0.49806249141693115, Number of labeled samples: 1000\n",
            "Model: \"sequential_15\"\n",
            "_________________________________________________________________\n",
            " Layer (type)                Output Shape              Param #   \n",
            "=================================================================\n",
            " embedding_15 (Embedding)    (None, None, 128)         384000    \n",
            "                                                                 \n",
            " conv1d_15 (Conv1D)          (None, None, 256)         164096    \n",
            "                                                                 \n",
            " max_pooling1d_15 (MaxPooli  (None, None, 256)         0         \n",
            " ng1D)                                                           \n",
            "                                                                 \n",
            " bidirectional_15 (Bidirect  (None, None, 256)         394240    \n",
            " ional)                                                          \n",
            "                                                                 \n",
            " global_max_pooling1d_15 (G  (None, 256)               0         \n",
            " lobalMaxPooling1D)                                              \n",
            "                                                                 \n",
            " dense_60 (Dense)            (None, 512)               131584    \n",
            "                                                                 \n",
            " dropout_83 (Dropout)        (None, 512)               0         \n",
            "                                                                 \n",
            " dense_61 (Dense)            (None, 256)               131328    \n",
            "                                                                 \n",
            " dropout_84 (Dropout)        (None, 256)               0         \n",
            "                                                                 \n",
            " dense_62 (Dense)            (None, 128)               32896     \n",
            "                                                                 \n",
            " dropout_85 (Dropout)        (None, 128)               0         \n",
            "                                                                 \n",
            " dense_63 (Dense)            (None, 1)                 129       \n",
            "                                                                 \n",
            "=================================================================\n",
            "Total params: 1238273 (4.72 MB)\n",
            "Trainable params: 1238273 (4.72 MB)\n",
            "Non-trainable params: 0 (0.00 Byte)\n",
            "_________________________________________________________________\n",
            "Starting to train with 2000 labeled samples\n",
            "Epoch 1/15\n",
            "8/8 [==============================] - ETA: 0s - loss: 8.3124 - accuracy: 0.7400\n",
            "Epoch 1: val_loss improved from inf to 7.50775, saving model to Checkpoint_1.h5\n",
            "8/8 [==============================] - 11s 556ms/step - loss: 8.3124 - accuracy: 0.7400 - val_loss: 7.5077 - val_accuracy: 0.4868\n",
            "Epoch 2/15\n",
            "8/8 [==============================] - ETA: 0s - loss: 6.4397 - accuracy: 0.7690\n",
            "Epoch 2: val_loss improved from 7.50775 to 5.81254, saving model to Checkpoint_1.h5\n",
            "8/8 [==============================] - 2s 284ms/step - loss: 6.4397 - accuracy: 0.7690 - val_loss: 5.8125 - val_accuracy: 0.4868\n",
            "Epoch 3/15\n",
            "8/8 [==============================] - ETA: 0s - loss: 4.9995 - accuracy: 0.7690\n",
            "Epoch 3: val_loss improved from 5.81254 to 4.61374, saving model to Checkpoint_1.h5\n",
            "8/8 [==============================] - 2s 255ms/step - loss: 4.9995 - accuracy: 0.7690 - val_loss: 4.6137 - val_accuracy: 0.4868\n",
            "Epoch 4/15\n",
            "8/8 [==============================] - ETA: 0s - loss: 3.8556 - accuracy: 0.7690\n",
            "Epoch 4: val_loss improved from 4.61374 to 3.65914, saving model to Checkpoint_1.h5\n",
            "8/8 [==============================] - 3s 369ms/step - loss: 3.8556 - accuracy: 0.7690 - val_loss: 3.6591 - val_accuracy: 0.4868\n",
            "Epoch 5/15\n",
            "8/8 [==============================] - ETA: 0s - loss: 2.9544 - accuracy: 0.7690\n",
            "Epoch 5: val_loss improved from 3.65914 to 2.86869, saving model to Checkpoint_1.h5\n",
            "8/8 [==============================] - 2s 249ms/step - loss: 2.9544 - accuracy: 0.7690 - val_loss: 2.8687 - val_accuracy: 0.4868\n",
            "Epoch 6/15\n",
            "8/8 [==============================] - ETA: 0s - loss: 2.2041 - accuracy: 0.7690\n",
            "Epoch 6: val_loss improved from 2.86869 to 2.42717, saving model to Checkpoint_1.h5\n",
            "8/8 [==============================] - 2s 252ms/step - loss: 2.2041 - accuracy: 0.7690 - val_loss: 2.4272 - val_accuracy: 0.4868\n",
            "Epoch 7/15\n",
            "8/8 [==============================] - ETA: 0s - loss: 1.6049 - accuracy: 0.7690\n",
            "Epoch 7: val_loss improved from 2.42717 to 2.27260, saving model to Checkpoint_1.h5\n",
            "8/8 [==============================] - 2s 277ms/step - loss: 1.6049 - accuracy: 0.7690 - val_loss: 2.2726 - val_accuracy: 0.4868\n",
            "Epoch 8/15\n",
            "8/8 [==============================] - ETA: 0s - loss: 1.2005 - accuracy: 0.7690\n",
            "Epoch 8: val_loss improved from 2.27260 to 1.78711, saving model to Checkpoint_1.h5\n",
            "8/8 [==============================] - 2s 286ms/step - loss: 1.2005 - accuracy: 0.7690 - val_loss: 1.7871 - val_accuracy: 0.4868\n",
            "Epoch 9/15\n",
            "8/8 [==============================] - ETA: 0s - loss: 0.9037 - accuracy: 0.7975\n",
            "Epoch 9: val_loss did not improve from 1.78711\n",
            "8/8 [==============================] - 2s 207ms/step - loss: 0.9037 - accuracy: 0.7975 - val_loss: 1.9050 - val_accuracy: 0.5970\n",
            "Epoch 10/15\n",
            "8/8 [==============================] - ETA: 0s - loss: 0.6946 - accuracy: 0.9670\n",
            "Epoch 10: val_loss did not improve from 1.78711\n",
            "8/8 [==============================] - 3s 354ms/step - loss: 0.6946 - accuracy: 0.9670 - val_loss: 2.5979 - val_accuracy: 0.5505\n",
            "Epoch 11/15\n",
            "8/8 [==============================] - ETA: 0s - loss: 0.5554 - accuracy: 0.9660\n",
            "Epoch 11: val_loss did not improve from 1.78711\n",
            "8/8 [==============================] - 2s 226ms/step - loss: 0.5554 - accuracy: 0.9660 - val_loss: 1.8600 - val_accuracy: 0.5978\n",
            "Epoch 12/15\n",
            "8/8 [==============================] - ETA: 0s - loss: 0.4447 - accuracy: 0.9655\n",
            "Epoch 12: val_loss did not improve from 1.78711\n",
            "8/8 [==============================] - 2s 224ms/step - loss: 0.4447 - accuracy: 0.9655 - val_loss: 1.8224 - val_accuracy: 0.6062\n",
            "Epoch 13/15\n",
            "8/8 [==============================] - ETA: 0s - loss: 0.3689 - accuracy: 0.9900\n",
            "Epoch 13: val_loss did not improve from 1.78711\n",
            "8/8 [==============================] - 2s 222ms/step - loss: 0.3689 - accuracy: 0.9900 - val_loss: 2.2257 - val_accuracy: 0.5918\n",
            "Epoch 14/15\n",
            "8/8 [==============================] - ETA: 0s - loss: 0.3150 - accuracy: 0.9880\n",
            "Epoch 14: val_loss did not improve from 1.78711\n",
            "8/8 [==============================] - 2s 247ms/step - loss: 0.3150 - accuracy: 0.9880 - val_loss: 2.0734 - val_accuracy: 0.5938\n",
            "Epoch 15/15\n",
            "8/8 [==============================] - ETA: 0s - loss: 0.2770 - accuracy: 0.9730\n",
            "Epoch 15: val_loss did not improve from 1.78711\n",
            "8/8 [==============================] - 2s 204ms/step - loss: 0.2770 - accuracy: 0.9730 - val_loss: 2.2246 - val_accuracy: 0.5847\n",
            "500/500 [==============================] - 12s 24ms/step - loss: 2.2470 - accuracy: 0.5864\n"
          ]
        },
        {
          "output_type": "stream",
          "name": "stderr",
          "text": [
            "WARNING:tensorflow:Layer lstm_16 will not use cuDNN kernels since it doesn't meet the criteria. It will use a generic GPU kernel as fallback when running on GPU.\n",
            "WARNING:tensorflow:Layer lstm_16 will not use cuDNN kernels since it doesn't meet the criteria. It will use a generic GPU kernel as fallback when running on GPU.\n",
            "WARNING:tensorflow:Layer lstm_16 will not use cuDNN kernels since it doesn't meet the criteria. It will use a generic GPU kernel as fallback when running on GPU.\n"
          ]
        },
        {
          "output_type": "stream",
          "name": "stdout",
          "text": [
            "Accuracy on test data after iteration 1: 0.5863749980926514, Number of labeled samples: 2000\n",
            "Model: \"sequential_16\"\n",
            "_________________________________________________________________\n",
            " Layer (type)                Output Shape              Param #   \n",
            "=================================================================\n",
            " embedding_16 (Embedding)    (None, None, 128)         384000    \n",
            "                                                                 \n",
            " conv1d_16 (Conv1D)          (None, None, 256)         164096    \n",
            "                                                                 \n",
            " max_pooling1d_16 (MaxPooli  (None, None, 256)         0         \n",
            " ng1D)                                                           \n",
            "                                                                 \n",
            " bidirectional_16 (Bidirect  (None, None, 256)         394240    \n",
            " ional)                                                          \n",
            "                                                                 \n",
            " global_max_pooling1d_16 (G  (None, 256)               0         \n",
            " lobalMaxPooling1D)                                              \n",
            "                                                                 \n",
            " dense_64 (Dense)            (None, 512)               131584    \n",
            "                                                                 \n",
            " dropout_86 (Dropout)        (None, 512)               0         \n",
            "                                                                 \n",
            " dense_65 (Dense)            (None, 256)               131328    \n",
            "                                                                 \n",
            " dropout_87 (Dropout)        (None, 256)               0         \n",
            "                                                                 \n",
            " dense_66 (Dense)            (None, 128)               32896     \n",
            "                                                                 \n",
            " dropout_88 (Dropout)        (None, 128)               0         \n",
            "                                                                 \n",
            " dense_67 (Dense)            (None, 1)                 129       \n",
            "                                                                 \n",
            "=================================================================\n",
            "Total params: 1238273 (4.72 MB)\n",
            "Trainable params: 1238273 (4.72 MB)\n",
            "Non-trainable params: 0 (0.00 Byte)\n",
            "_________________________________________________________________\n",
            "Starting to train with 3000 labeled samples\n",
            "Epoch 1/15\n",
            "12/12 [==============================] - ETA: 0s - loss: 7.8789 - accuracy: 0.6630\n",
            "Epoch 1: val_loss improved from inf to 6.53864, saving model to Checkpoint_2.h5\n",
            "12/12 [==============================] - 15s 530ms/step - loss: 7.8789 - accuracy: 0.6630 - val_loss: 6.5386 - val_accuracy: 0.4868\n",
            "Epoch 2/15\n",
            "12/12 [==============================] - ETA: 0s - loss: 5.3967 - accuracy: 0.6820\n",
            "Epoch 2: val_loss improved from 6.53864 to 4.46331, saving model to Checkpoint_2.h5\n",
            "12/12 [==============================] - 3s 246ms/step - loss: 5.3967 - accuracy: 0.6820 - val_loss: 4.4633 - val_accuracy: 0.4868\n",
            "Epoch 3/15\n",
            "12/12 [==============================] - ETA: 0s - loss: 3.6859 - accuracy: 0.6820\n",
            "Epoch 3: val_loss improved from 4.46331 to 3.10904, saving model to Checkpoint_2.h5\n",
            "12/12 [==============================] - 3s 242ms/step - loss: 3.6859 - accuracy: 0.6820 - val_loss: 3.1090 - val_accuracy: 0.4868\n",
            "Epoch 4/15\n",
            "12/12 [==============================] - ETA: 0s - loss: 2.4919 - accuracy: 0.6820\n",
            "Epoch 4: val_loss improved from 3.10904 to 2.22281, saving model to Checkpoint_2.h5\n",
            "12/12 [==============================] - 4s 323ms/step - loss: 2.4919 - accuracy: 0.6820 - val_loss: 2.2228 - val_accuracy: 0.4868\n",
            "Epoch 5/15\n",
            "12/12 [==============================] - ETA: 0s - loss: 1.6480 - accuracy: 0.6820\n",
            "Epoch 5: val_loss improved from 2.22281 to 1.61357, saving model to Checkpoint_2.h5\n",
            "12/12 [==============================] - 3s 251ms/step - loss: 1.6480 - accuracy: 0.6820 - val_loss: 1.6136 - val_accuracy: 0.4868\n",
            "Epoch 6/15\n",
            "12/12 [==============================] - ETA: 0s - loss: 1.1075 - accuracy: 0.6820\n",
            "Epoch 6: val_loss improved from 1.61357 to 1.37976, saving model to Checkpoint_2.h5\n",
            "12/12 [==============================] - 3s 217ms/step - loss: 1.1075 - accuracy: 0.6820 - val_loss: 1.3798 - val_accuracy: 0.6365\n",
            "Epoch 7/15\n",
            "12/12 [==============================] - ETA: 0s - loss: 0.7883 - accuracy: 0.8780\n",
            "Epoch 7: val_loss improved from 1.37976 to 1.15313, saving model to Checkpoint_2.h5\n",
            "12/12 [==============================] - 3s 222ms/step - loss: 0.7883 - accuracy: 0.8780 - val_loss: 1.1531 - val_accuracy: 0.6695\n",
            "Epoch 8/15\n",
            "12/12 [==============================] - ETA: 0s - loss: 0.5906 - accuracy: 0.9107\n",
            "Epoch 8: val_loss did not improve from 1.15313\n",
            "12/12 [==============================] - 3s 284ms/step - loss: 0.5906 - accuracy: 0.9107 - val_loss: 1.3342 - val_accuracy: 0.6407\n",
            "Epoch 9/15\n",
            "12/12 [==============================] - ETA: 0s - loss: 0.4619 - accuracy: 0.9253\n",
            "Epoch 9: val_loss did not improve from 1.15313\n",
            "12/12 [==============================] - 2s 207ms/step - loss: 0.4619 - accuracy: 0.9253 - val_loss: 1.3747 - val_accuracy: 0.6503\n",
            "Epoch 10/15\n",
            "12/12 [==============================] - ETA: 0s - loss: 0.3801 - accuracy: 0.9447\n",
            "Epoch 10: val_loss did not improve from 1.15313\n",
            "12/12 [==============================] - 2s 213ms/step - loss: 0.3801 - accuracy: 0.9447 - val_loss: 1.3040 - val_accuracy: 0.6570\n",
            "Epoch 11/15\n",
            "12/12 [==============================] - ETA: 0s - loss: 0.3438 - accuracy: 0.9460\n",
            "Epoch 11: val_loss did not improve from 1.15313\n",
            "12/12 [==============================] - 2s 211ms/step - loss: 0.3438 - accuracy: 0.9460 - val_loss: 1.6452 - val_accuracy: 0.6327\n",
            "Epoch 12/15\n",
            "12/12 [==============================] - ETA: 0s - loss: 0.3086 - accuracy: 0.9553\n",
            "Epoch 12: val_loss did not improve from 1.15313\n",
            "12/12 [==============================] - 5s 397ms/step - loss: 0.3086 - accuracy: 0.9553 - val_loss: 1.3213 - val_accuracy: 0.6578\n",
            "Epoch 13/15\n",
            "12/12 [==============================] - ETA: 0s - loss: 0.2889 - accuracy: 0.9567\n",
            "Epoch 13: val_loss did not improve from 1.15313\n",
            "12/12 [==============================] - 3s 235ms/step - loss: 0.2889 - accuracy: 0.9567 - val_loss: 1.3907 - val_accuracy: 0.6530\n",
            "Epoch 14/15\n",
            "12/12 [==============================] - ETA: 0s - loss: 0.2715 - accuracy: 0.9653\n",
            "Epoch 14: val_loss did not improve from 1.15313\n",
            "12/12 [==============================] - 2s 185ms/step - loss: 0.2715 - accuracy: 0.9653 - val_loss: 1.5412 - val_accuracy: 0.6465\n",
            "Epoch 15/15\n",
            "12/12 [==============================] - ETA: 0s - loss: 0.2613 - accuracy: 0.9683\n",
            "Epoch 15: val_loss did not improve from 1.15313\n",
            "12/12 [==============================] - 2s 206ms/step - loss: 0.2613 - accuracy: 0.9683 - val_loss: 1.3302 - val_accuracy: 0.6670\n",
            "500/500 [==============================] - 9s 17ms/step - loss: 1.3600 - accuracy: 0.6718\n"
          ]
        },
        {
          "output_type": "stream",
          "name": "stderr",
          "text": [
            "WARNING:tensorflow:Layer lstm_17 will not use cuDNN kernels since it doesn't meet the criteria. It will use a generic GPU kernel as fallback when running on GPU.\n"
          ]
        },
        {
          "output_type": "stream",
          "name": "stdout",
          "text": [
            "Accuracy on test data after iteration 2: 0.671750009059906, Number of labeled samples: 3000\n"
          ]
        },
        {
          "output_type": "stream",
          "name": "stderr",
          "text": [
            "WARNING:tensorflow:Layer lstm_17 will not use cuDNN kernels since it doesn't meet the criteria. It will use a generic GPU kernel as fallback when running on GPU.\n",
            "WARNING:tensorflow:Layer lstm_17 will not use cuDNN kernels since it doesn't meet the criteria. It will use a generic GPU kernel as fallback when running on GPU.\n"
          ]
        },
        {
          "output_type": "stream",
          "name": "stdout",
          "text": [
            "Model: \"sequential_17\"\n",
            "_________________________________________________________________\n",
            " Layer (type)                Output Shape              Param #   \n",
            "=================================================================\n",
            " embedding_17 (Embedding)    (None, None, 128)         384000    \n",
            "                                                                 \n",
            " conv1d_17 (Conv1D)          (None, None, 256)         164096    \n",
            "                                                                 \n",
            " max_pooling1d_17 (MaxPooli  (None, None, 256)         0         \n",
            " ng1D)                                                           \n",
            "                                                                 \n",
            " bidirectional_17 (Bidirect  (None, None, 256)         394240    \n",
            " ional)                                                          \n",
            "                                                                 \n",
            " global_max_pooling1d_17 (G  (None, 256)               0         \n",
            " lobalMaxPooling1D)                                              \n",
            "                                                                 \n",
            " dense_68 (Dense)            (None, 512)               131584    \n",
            "                                                                 \n",
            " dropout_89 (Dropout)        (None, 512)               0         \n",
            "                                                                 \n",
            " dense_69 (Dense)            (None, 256)               131328    \n",
            "                                                                 \n",
            " dropout_90 (Dropout)        (None, 256)               0         \n",
            "                                                                 \n",
            " dense_70 (Dense)            (None, 128)               32896     \n",
            "                                                                 \n",
            " dropout_91 (Dropout)        (None, 128)               0         \n",
            "                                                                 \n",
            " dense_71 (Dense)            (None, 1)                 129       \n",
            "                                                                 \n",
            "=================================================================\n",
            "Total params: 1238273 (4.72 MB)\n",
            "Trainable params: 1238273 (4.72 MB)\n",
            "Non-trainable params: 0 (0.00 Byte)\n",
            "_________________________________________________________________\n",
            "Starting to train with 4000 labeled samples\n",
            "Epoch 1/15\n",
            "16/16 [==============================] - ETA: 0s - loss: 7.4498 - accuracy: 0.6330\n",
            "Epoch 1: val_loss improved from inf to 5.69851, saving model to Checkpoint_3.h5\n",
            "16/16 [==============================] - 12s 326ms/step - loss: 7.4498 - accuracy: 0.6330 - val_loss: 5.6985 - val_accuracy: 0.4868\n",
            "Epoch 2/15\n",
            "16/16 [==============================] - ETA: 0s - loss: 4.5026 - accuracy: 0.6417\n",
            "Epoch 2: val_loss improved from 5.69851 to 3.46195, saving model to Checkpoint_3.h5\n",
            "16/16 [==============================] - 5s 350ms/step - loss: 4.5026 - accuracy: 0.6417 - val_loss: 3.4619 - val_accuracy: 0.4868\n",
            "Epoch 3/15\n",
            "16/16 [==============================] - ETA: 0s - loss: 2.7147 - accuracy: 0.6417\n",
            "Epoch 3: val_loss improved from 3.46195 to 2.18019, saving model to Checkpoint_3.h5\n",
            "16/16 [==============================] - 5s 294ms/step - loss: 2.7147 - accuracy: 0.6417 - val_loss: 2.1802 - val_accuracy: 0.4868\n",
            "Epoch 4/15\n",
            "16/16 [==============================] - ETA: 0s - loss: 1.6231 - accuracy: 0.6417\n",
            "Epoch 4: val_loss improved from 2.18019 to 1.36705, saving model to Checkpoint_3.h5\n",
            "16/16 [==============================] - 3s 207ms/step - loss: 1.6231 - accuracy: 0.6417 - val_loss: 1.3670 - val_accuracy: 0.4868\n",
            "Epoch 5/15\n",
            "16/16 [==============================] - ETA: 0s - loss: 1.0420 - accuracy: 0.7322\n",
            "Epoch 5: val_loss improved from 1.36705 to 1.25618, saving model to Checkpoint_3.h5\n",
            "16/16 [==============================] - 3s 221ms/step - loss: 1.0420 - accuracy: 0.7322 - val_loss: 1.2562 - val_accuracy: 0.6877\n",
            "Epoch 6/15\n",
            "16/16 [==============================] - ETA: 0s - loss: 0.7250 - accuracy: 0.8505\n",
            "Epoch 6: val_loss improved from 1.25618 to 0.84028, saving model to Checkpoint_3.h5\n",
            "16/16 [==============================] - 4s 277ms/step - loss: 0.7250 - accuracy: 0.8505 - val_loss: 0.8403 - val_accuracy: 0.7138\n",
            "Epoch 7/15\n",
            "16/16 [==============================] - ETA: 0s - loss: 0.5424 - accuracy: 0.8712\n",
            "Epoch 7: val_loss did not improve from 0.84028\n",
            "16/16 [==============================] - 3s 204ms/step - loss: 0.5424 - accuracy: 0.8712 - val_loss: 0.9978 - val_accuracy: 0.7035\n",
            "Epoch 8/15\n",
            "16/16 [==============================] - ETA: 0s - loss: 0.4341 - accuracy: 0.8972\n",
            "Epoch 8: val_loss did not improve from 0.84028\n",
            "16/16 [==============================] - 3s 198ms/step - loss: 0.4341 - accuracy: 0.8972 - val_loss: 0.9887 - val_accuracy: 0.6957\n",
            "Epoch 9/15\n",
            "16/16 [==============================] - ETA: 0s - loss: 0.3689 - accuracy: 0.9180\n",
            "Epoch 9: val_loss did not improve from 0.84028\n",
            "16/16 [==============================] - 4s 236ms/step - loss: 0.3689 - accuracy: 0.9180 - val_loss: 0.9111 - val_accuracy: 0.7207\n",
            "Epoch 10/15\n",
            "16/16 [==============================] - ETA: 0s - loss: 0.3409 - accuracy: 0.9323\n",
            "Epoch 10: val_loss improved from 0.84028 to 0.82718, saving model to Checkpoint_3.h5\n",
            "16/16 [==============================] - 3s 205ms/step - loss: 0.3409 - accuracy: 0.9323 - val_loss: 0.8272 - val_accuracy: 0.7305\n",
            "Epoch 11/15\n",
            "16/16 [==============================] - ETA: 0s - loss: 0.3172 - accuracy: 0.9398\n",
            "Epoch 11: val_loss did not improve from 0.82718\n",
            "16/16 [==============================] - 5s 296ms/step - loss: 0.3172 - accuracy: 0.9398 - val_loss: 1.0541 - val_accuracy: 0.7138\n",
            "Epoch 12/15\n",
            "16/16 [==============================] - ETA: 0s - loss: 0.3036 - accuracy: 0.9425\n",
            "Epoch 12: val_loss did not improve from 0.82718\n",
            "16/16 [==============================] - 3s 189ms/step - loss: 0.3036 - accuracy: 0.9425 - val_loss: 0.9554 - val_accuracy: 0.7207\n",
            "Epoch 13/15\n",
            "16/16 [==============================] - ETA: 0s - loss: 0.2855 - accuracy: 0.9473\n",
            "Epoch 13: val_loss did not improve from 0.82718\n",
            "16/16 [==============================] - 4s 243ms/step - loss: 0.2855 - accuracy: 0.9473 - val_loss: 0.9493 - val_accuracy: 0.7138\n",
            "Epoch 14/15\n",
            "16/16 [==============================] - ETA: 0s - loss: 0.2672 - accuracy: 0.9485\n",
            "Epoch 14: val_loss did not improve from 0.82718\n",
            "16/16 [==============================] - 3s 181ms/step - loss: 0.2672 - accuracy: 0.9485 - val_loss: 0.9641 - val_accuracy: 0.7258\n",
            "Epoch 15/15\n",
            "16/16 [==============================] - ETA: 0s - loss: 0.2559 - accuracy: 0.9482\n",
            "Epoch 15: val_loss did not improve from 0.82718\n",
            "16/16 [==============================] - 3s 186ms/step - loss: 0.2559 - accuracy: 0.9482 - val_loss: 0.8988 - val_accuracy: 0.7280\n",
            "500/500 [==============================] - 9s 17ms/step - loss: 0.9605 - accuracy: 0.7174\n"
          ]
        },
        {
          "output_type": "stream",
          "name": "stderr",
          "text": [
            "WARNING:tensorflow:Layer lstm_18 will not use cuDNN kernels since it doesn't meet the criteria. It will use a generic GPU kernel as fallback when running on GPU.\n",
            "WARNING:tensorflow:Layer lstm_18 will not use cuDNN kernels since it doesn't meet the criteria. It will use a generic GPU kernel as fallback when running on GPU.\n",
            "WARNING:tensorflow:Layer lstm_18 will not use cuDNN kernels since it doesn't meet the criteria. It will use a generic GPU kernel as fallback when running on GPU.\n"
          ]
        },
        {
          "output_type": "stream",
          "name": "stdout",
          "text": [
            "Accuracy on test data after iteration 3: 0.7173749804496765, Number of labeled samples: 4000\n",
            "Model: \"sequential_18\"\n",
            "_________________________________________________________________\n",
            " Layer (type)                Output Shape              Param #   \n",
            "=================================================================\n",
            " embedding_18 (Embedding)    (None, None, 128)         384000    \n",
            "                                                                 \n",
            " conv1d_18 (Conv1D)          (None, None, 256)         164096    \n",
            "                                                                 \n",
            " max_pooling1d_18 (MaxPooli  (None, None, 256)         0         \n",
            " ng1D)                                                           \n",
            "                                                                 \n",
            " bidirectional_18 (Bidirect  (None, None, 256)         394240    \n",
            " ional)                                                          \n",
            "                                                                 \n",
            " global_max_pooling1d_18 (G  (None, 256)               0         \n",
            " lobalMaxPooling1D)                                              \n",
            "                                                                 \n",
            " dense_72 (Dense)            (None, 512)               131584    \n",
            "                                                                 \n",
            " dropout_92 (Dropout)        (None, 512)               0         \n",
            "                                                                 \n",
            " dense_73 (Dense)            (None, 256)               131328    \n",
            "                                                                 \n",
            " dropout_93 (Dropout)        (None, 256)               0         \n",
            "                                                                 \n",
            " dense_74 (Dense)            (None, 128)               32896     \n",
            "                                                                 \n",
            " dropout_94 (Dropout)        (None, 128)               0         \n",
            "                                                                 \n",
            " dense_75 (Dense)            (None, 1)                 129       \n",
            "                                                                 \n",
            "=================================================================\n",
            "Total params: 1238273 (4.72 MB)\n",
            "Trainable params: 1238273 (4.72 MB)\n",
            "Non-trainable params: 0 (0.00 Byte)\n",
            "_________________________________________________________________\n",
            "Starting to train with 5000 labeled samples\n",
            "Epoch 1/15\n",
            "20/20 [==============================] - ETA: 0s - loss: 7.0488 - accuracy: 0.6034\n",
            "Epoch 1: val_loss improved from inf to 5.00421, saving model to Checkpoint_4.h5\n",
            "20/20 [==============================] - 14s 358ms/step - loss: 7.0488 - accuracy: 0.6034 - val_loss: 5.0042 - val_accuracy: 0.4868\n",
            "Epoch 2/15\n",
            "20/20 [==============================] - ETA: 0s - loss: 3.7535 - accuracy: 0.6126\n",
            "Epoch 2: val_loss improved from 5.00421 to 2.68918, saving model to Checkpoint_4.h5\n",
            "20/20 [==============================] - 6s 326ms/step - loss: 3.7535 - accuracy: 0.6126 - val_loss: 2.6892 - val_accuracy: 0.4868\n",
            "Epoch 3/15\n",
            "20/20 [==============================] - ETA: 0s - loss: 2.0147 - accuracy: 0.6126\n",
            "Epoch 3: val_loss improved from 2.68918 to 1.50962, saving model to Checkpoint_4.h5\n",
            "20/20 [==============================] - 5s 217ms/step - loss: 2.0147 - accuracy: 0.6126 - val_loss: 1.5096 - val_accuracy: 0.4868\n",
            "Epoch 4/15\n",
            "20/20 [==============================] - ETA: 0s - loss: 1.1258 - accuracy: 0.7012\n",
            "Epoch 4: val_loss improved from 1.50962 to 1.01868, saving model to Checkpoint_4.h5\n",
            "20/20 [==============================] - 4s 200ms/step - loss: 1.1258 - accuracy: 0.7012 - val_loss: 1.0187 - val_accuracy: 0.7287\n",
            "Epoch 5/15\n",
            "20/20 [==============================] - ETA: 0s - loss: 0.7170 - accuracy: 0.8410\n",
            "Epoch 5: val_loss improved from 1.01868 to 0.81020, saving model to Checkpoint_4.h5\n",
            "20/20 [==============================] - 5s 241ms/step - loss: 0.7170 - accuracy: 0.8410 - val_loss: 0.8102 - val_accuracy: 0.7370\n",
            "Epoch 6/15\n",
            "20/20 [==============================] - ETA: 0s - loss: 0.5217 - accuracy: 0.8688\n",
            "Epoch 6: val_loss did not improve from 0.81020\n",
            "20/20 [==============================] - 4s 198ms/step - loss: 0.5217 - accuracy: 0.8688 - val_loss: 0.8283 - val_accuracy: 0.7360\n",
            "Epoch 7/15\n",
            "20/20 [==============================] - ETA: 0s - loss: 0.4099 - accuracy: 0.8986\n",
            "Epoch 7: val_loss did not improve from 0.81020\n",
            "20/20 [==============================] - 4s 185ms/step - loss: 0.4099 - accuracy: 0.8986 - val_loss: 0.8482 - val_accuracy: 0.7347\n",
            "Epoch 8/15\n",
            "20/20 [==============================] - ETA: 0s - loss: 0.3074 - accuracy: 0.9188\n",
            "Epoch 8: val_loss improved from 0.81020 to 0.76352, saving model to Checkpoint_4.h5\n",
            "20/20 [==============================] - 6s 329ms/step - loss: 0.3074 - accuracy: 0.9188 - val_loss: 0.7635 - val_accuracy: 0.7442\n",
            "Epoch 9/15\n",
            "20/20 [==============================] - ETA: 0s - loss: 0.2729 - accuracy: 0.9218\n",
            "Epoch 9: val_loss did not improve from 0.76352\n",
            "20/20 [==============================] - 4s 181ms/step - loss: 0.2729 - accuracy: 0.9218 - val_loss: 0.9526 - val_accuracy: 0.7458\n",
            "Epoch 10/15\n",
            "20/20 [==============================] - ETA: 0s - loss: 0.2135 - accuracy: 0.9442\n",
            "Epoch 10: val_loss did not improve from 0.76352\n",
            "20/20 [==============================] - 3s 174ms/step - loss: 0.2135 - accuracy: 0.9442 - val_loss: 0.8523 - val_accuracy: 0.7400\n",
            "Epoch 11/15\n",
            "20/20 [==============================] - ETA: 0s - loss: 0.1759 - accuracy: 0.9608\n",
            "Epoch 11: val_loss did not improve from 0.76352\n",
            "20/20 [==============================] - 5s 246ms/step - loss: 0.1759 - accuracy: 0.9608 - val_loss: 0.8192 - val_accuracy: 0.7505\n",
            "Epoch 12/15\n",
            "20/20 [==============================] - ETA: 0s - loss: 0.1448 - accuracy: 0.9706\n",
            "Epoch 12: val_loss did not improve from 0.76352\n",
            "20/20 [==============================] - 3s 158ms/step - loss: 0.1448 - accuracy: 0.9706 - val_loss: 0.8089 - val_accuracy: 0.7517\n",
            "Epoch 13/15\n",
            "20/20 [==============================] - ETA: 0s - loss: 0.1200 - accuracy: 0.9814\n",
            "Epoch 13: val_loss did not improve from 0.76352\n",
            "20/20 [==============================] - 3s 171ms/step - loss: 0.1200 - accuracy: 0.9814 - val_loss: 1.1975 - val_accuracy: 0.7235\n",
            "Epoch 14/15\n",
            "20/20 [==============================] - ETA: 0s - loss: 0.0958 - accuracy: 0.9880\n",
            "Epoch 14: val_loss did not improve from 0.76352\n",
            "20/20 [==============================] - 4s 212ms/step - loss: 0.0958 - accuracy: 0.9880 - val_loss: 1.4395 - val_accuracy: 0.7088\n",
            "Epoch 15/15\n",
            "20/20 [==============================] - ETA: 0s - loss: 0.0915 - accuracy: 0.9892\n",
            "Epoch 15: val_loss did not improve from 0.76352\n",
            "20/20 [==============================] - 3s 172ms/step - loss: 0.0915 - accuracy: 0.9892 - val_loss: 1.1609 - val_accuracy: 0.7343\n",
            "500/500 [==============================] - 10s 20ms/step - loss: 1.2087 - accuracy: 0.7232\n",
            "Accuracy on test data after iteration 4: 0.7231875061988831, Number of labeled samples: 5000\n"
          ]
        },
        {
          "output_type": "display_data",
          "data": {
            "text/plain": [
              "<Figure size 640x480 with 1 Axes>"
            ],
            "image/png": "[encoded data removed]"
          },
          "metadata": {}
        },
        {
          "output_type": "display_data",
          "data": {
            "text/plain": [
              "<Figure size 640x480 with 1 Axes>"
            ],
            "image/png": "[encoded data removed]"
          },
          "metadata": {}
        }
      ]
    },
    {
      "cell_type": "markdown",
      "metadata": {
        "id": "q5tlUMbkgB9x"
      },
      "source": [
        "# Predictions"
      ]
    },
    {
      "cell_type": "code",
      "metadata": {
        "id": "dImERywG9Jt6",
        "colab": {
          "base_uri": "https://localhost:8080/"
        },
        "outputId": "f51dfb7b-6036-4da3-bccc-673bed7a3820"
      },
      "source": [
        "# Ensembling by taking elementwise average\n",
        "\n",
        "# pred = (model1.predict(test_seq)+model2.predict(test_seq)+model3.predict(test_seq))/3\n",
        "al_pred = al_model1.predict(test_seq)"
      ],
      "execution_count": null,
      "outputs": [
        {
          "output_type": "stream",
          "name": "stdout",
          "text": [
            "500/500 [==============================] - 7s 15ms/step\n"
          ]
        }
      ]
    },
    {
      "cell_type": "code",
      "source": [
        "al_pred = np.where(al_pred<0.5,0,1)\n",
        "print(al_pred[:5])"
      ],
      "metadata": {
        "colab": {
          "base_uri": "https://localhost:8080/"
        },
        "id": "tNFk3qh88DJd",
        "outputId": "e8d98cf1-805b-4dc1-d7ed-cd13225a40cd"
      },
      "execution_count": null,
      "outputs": [
        {
          "output_type": "stream",
          "name": "stdout",
          "text": [
            "[[0]\n",
            " [1]\n",
            " [0]\n",
            " [1]\n",
            " [1]]\n"
          ]
        }
      ]
    },
    {
      "cell_type": "code",
      "metadata": {
        "id": "Gu1EqpdJ9JwX",
        "colab": {
          "base_uri": "https://localhost:8080/"
        },
        "outputId": "f8b99964-a818-402f-f0c4-01293e64bb31"
      },
      "source": [
        "from sklearn.metrics import accuracy_score\n",
        "# print(accuracy_score(pred,Y_test))\n",
        "print(accuracy_score(al_pred,Y_test))"
      ],
      "execution_count": null,
      "outputs": [
        {
          "output_type": "stream",
          "name": "stdout",
          "text": [
            "0.7305625\n"
          ]
        }
      ]
    },
    {
      "cell_type": "code",
      "metadata": {
        "id": "aY7vDkG39Pxn"
      },
      "source": [],
      "execution_count": null,
      "outputs": []
    }
  ]
}